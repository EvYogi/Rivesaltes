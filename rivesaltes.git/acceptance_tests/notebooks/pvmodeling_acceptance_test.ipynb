{
 "cells": [
  {
   "cell_type": "markdown",
   "metadata": {},
   "source": [
    "# PV modeling example\n",
    "\n",
    "In this example we compute the optimal PV parameters for the IV curve based on historical data."
   ]
  },
  {
   "cell_type": "code",
   "execution_count": 46,
   "metadata": {
    "collapsed": true
   },
   "outputs": [],
   "source": [
    "%matplotlib inline"
   ]
  },
  {
   "cell_type": "code",
   "execution_count": 47,
   "metadata": {
    "collapsed": true
   },
   "outputs": [],
   "source": [
    "import os, sys"
   ]
  },
  {
   "cell_type": "code",
   "execution_count": 48,
   "metadata": {
    "collapsed": true
   },
   "outputs": [],
   "source": [
    "ROOT_PATH = os.getenv(\"PROJECT_HOME\")\n",
    "sys.path.append(ROOT_PATH)"
   ]
  },
  {
   "cell_type": "code",
   "execution_count": 49,
   "metadata": {
    "collapsed": false
   },
   "outputs": [],
   "source": [
    "import numpy as np\n",
    "import pandas as pd\n",
    "from smartgrid.pvmodeling.functions import standard_cell_temperature, photo_current, saturationCourant, i_from_v_exp, ivcurve_newton_raphson"
   ]
  },
  {
   "cell_type": "markdown",
   "metadata": {},
   "source": [
    "## PV module parameters"
   ]
  },
  {
   "cell_type": "code",
   "execution_count": 50,
   "metadata": {
    "collapsed": false
   },
   "outputs": [],
   "source": [
    "Ncell = 60\n",
    "Gstc = 1000 # W/m\n",
    "Tstc = 25+273.15 # K\n",
    "Tambnoct = 20\n",
    "Tnoct = 46 # C\n",
    "Gnoct = 800 # W/m\n",
    "Imppnoct = 7.43\n",
    "Vmppnoct = 28.7\n",
    "Iscstc = 9.84 # A\n",
    "Ki = 0.04 / 100 * Iscstc # A/C\n",
    "Eg = 1.8e-19 # Bandgap do sil�cio cristalino em J (=1.124 eV)\n",
    "Vocnoct = 36.4"
   ]
  },
  {
   "cell_type": "markdown",
   "metadata": {},
   "source": [
    "Calepinage utilisé pour tracer les courbes IV"
   ]
  },
  {
   "cell_type": "code",
   "execution_count": 51,
   "metadata": {
    "collapsed": true
   },
   "outputs": [],
   "source": [
    "Ns = 1 # Nombre de module(s) en s�rie\n",
    "Ns0 = Ns * Ncell # Nombre de cellule(s) en s�rie\n",
    "Nsh = 1 # Nombre de module en parall�le"
   ]
  },
  {
   "cell_type": "markdown",
   "metadata": {
    "collapsed": true
   },
   "source": [
    "## Loading data for IV curve"
   ]
  },
  {
   "cell_type": "code",
   "execution_count": 54,
   "metadata": {
    "collapsed": false
   },
   "outputs": [],
   "source": [
    "ivcurve = pd.read_excel(\"{root}/acceptance_tests/data/IVcurve.xlsx\".format(root=ROOT_PATH))"
   ]
  },
  {
   "cell_type": "markdown",
   "metadata": {},
   "source": [
    "Conditions expérimentales lors de la courbe IV"
   ]
  },
  {
   "cell_type": "code",
   "execution_count": 8,
   "metadata": {
    "collapsed": false
   },
   "outputs": [],
   "source": [
    "G = 885;\n",
    "Tamb = 25 + 273.15;\n",
    "\n",
    "I_exp = ivcurve.I;\n",
    "V_exp = ivcurve.V;"
   ]
  },
  {
   "cell_type": "code",
   "execution_count": 9,
   "metadata": {
    "collapsed": false
   },
   "outputs": [],
   "source": [
    "effectiveIrradiance = G"
   ]
  },
  {
   "cell_type": "code",
   "execution_count": 10,
   "metadata": {
    "collapsed": false
   },
   "outputs": [],
   "source": [
    "Tcell = standard_cell_temperature(Tamb,effectiveIrradiance,Tnoct,Tambnoct,Gnoct)"
   ]
  },
  {
   "cell_type": "code",
   "execution_count": 11,
   "metadata": {
    "collapsed": false
   },
   "outputs": [
    {
     "data": {
      "text/plain": [
       "<matplotlib.axes._subplots.AxesSubplot at 0x118188cd0>"
      ]
     },
     "execution_count": 11,
     "metadata": {},
     "output_type": "execute_result"
    },
    {
     "data": {
      "image/png": "[encoded data removed]",
      "text/plain": [
       "<Figure size 600x400 with 1 Axes>"
      ]
     },
     "metadata": {},
     "output_type": "display_data"
    }
   ],
   "source": [
    "ivcurve.sort_values(\"V\").plot(x=\"V\", y=\"I\")"
   ]
  },
  {
   "cell_type": "code",
   "execution_count": 12,
   "metadata": {
    "collapsed": true
   },
   "outputs": [],
   "source": [
    "param_example = dict(a_ref=1.411,\n",
    "                     R_s=0.512,\n",
    "                     R_sh_ref=1045,\n",
    "                     I_L_ref=9.78,\n",
    "                     I_0_ref=5.65e-8)"
   ]
  },
  {
   "cell_type": "code",
   "execution_count": 13,
   "metadata": {
    "collapsed": false
   },
   "outputs": [],
   "source": [
    "def pvopt_objfun(x):\n",
    "    aref, Rs, Rsh, Iphref, I0ref = x\n",
    "    Iph = photo_current(Iphref, effectiveIrradiance, Gstc, Ki, Tcell, Tstc)\n",
    "    I0 = saturationCourant(I0ref, Tcell, Tstc, Eg)\n",
    "    I, epsilon = i_from_v_exp(Iph, I0, Rs, Rsh, aref, Tcell,\n",
    "                     Ns, Nsh, Ns0,\n",
    "                     I_exp, V_exp)\n",
    "    y = np.sqrt(np.sum(epsilon ** 2) / len(I_exp))\n",
    "    return [y]"
   ]
  },
  {
   "cell_type": "markdown",
   "metadata": {},
   "source": [
    "### Example with a static set of parameters"
   ]
  },
  {
   "cell_type": "code",
   "execution_count": 14,
   "metadata": {
    "collapsed": true
   },
   "outputs": [],
   "source": [
    "params = [1.411, 0.512, 1045, 9.78, 5.65e-8]"
   ]
  },
  {
   "cell_type": "code",
   "execution_count": 15,
   "metadata": {
    "collapsed": false
   },
   "outputs": [
    {
     "data": {
      "text/plain": [
       "[5.6234724393827245]"
      ]
     },
     "execution_count": 15,
     "metadata": {},
     "output_type": "execute_result"
    }
   ],
   "source": [
    "pvopt_objfun(params)"
   ]
  },
  {
   "cell_type": "code",
   "execution_count": 16,
   "metadata": {
    "collapsed": true
   },
   "outputs": [],
   "source": [
    "aref, Rs, Rsh, Iphref, I0ref = params"
   ]
  },
  {
   "cell_type": "code",
   "execution_count": 17,
   "metadata": {
    "collapsed": false
   },
   "outputs": [],
   "source": [
    "Iph = photo_current(Iphref, effectiveIrradiance, Gstc, Ki, Tcell, Tstc)"
   ]
  },
  {
   "cell_type": "code",
   "execution_count": 18,
   "metadata": {
    "collapsed": true
   },
   "outputs": [],
   "source": [
    "I0 = saturationCourant(I0ref, Tcell, Tstc, Eg)"
   ]
  },
  {
   "cell_type": "code",
   "execution_count": 19,
   "metadata": {
    "collapsed": false
   },
   "outputs": [],
   "source": [
    "vals = ivcurve_newton_raphson(Iph, I0, Rs, Rsh, \n",
    "                       aref, Tcell,\n",
    "                       Ns, Nsh, Ns0,\n",
    "                       Vmppnoct, Imppnoct)"
   ]
  },
  {
   "cell_type": "code",
   "execution_count": 20,
   "metadata": {
    "collapsed": false
   },
   "outputs": [],
   "source": [
    "final = pd.DataFrame(data={\"I\": vals[\"I\"], \"V\": vals[\"V\"]})"
   ]
  },
  {
   "cell_type": "code",
   "execution_count": 21,
   "metadata": {
    "collapsed": false
   },
   "outputs": [
    {
     "data": {
      "text/plain": [
       "<matplotlib.axes._subplots.AxesSubplot at 0x11a24bb50>"
      ]
     },
     "execution_count": 21,
     "metadata": {},
     "output_type": "execute_result"
    },
    {
     "data": {
      "image/png": "[encoded data removed]",
      "text/plain": [
       "<Figure size 600x400 with 1 Axes>"
      ]
     },
     "metadata": {},
     "output_type": "display_data"
    }
   ],
   "source": [
    "final.plot(x=\"V\", y=\"I\")"
   ]
  },
  {
   "cell_type": "markdown",
   "metadata": {},
   "source": [
    "## Genetic algorithm optimisation"
   ]
  },
  {
   "cell_type": "code",
   "execution_count": 22,
   "metadata": {
    "collapsed": true
   },
   "outputs": [],
   "source": [
    "from deap import algorithms\n",
    "from deap import base\n",
    "from deap import benchmarks\n",
    "from deap import cma\n",
    "from deap import creator\n",
    "from deap import tools\n",
    "import random"
   ]
  },
  {
   "cell_type": "code",
   "execution_count": 23,
   "metadata": {
    "collapsed": false
   },
   "outputs": [],
   "source": [
    "dimension = 5 # Nombre de paramètres de l'optimisation\n",
    "minbounds = [1, 0.01, 50, 8, 1e-11] # Limites inférieures des paramètres\n",
    "maxbounds = [2, 2, 2500, 10, 1e-7] # Limites supérieures des paramètres\n",
    "nb_generation = 2 # % Nombre d'itérations\n",
    "popsize = 10 # Taille de la population\n",
    "p_mut = 0.1 # Probabilité de mutation"
   ]
  },
  {
   "cell_type": "code",
   "execution_count": 24,
   "metadata": {
    "collapsed": false
   },
   "outputs": [],
   "source": [
    "creator.create(\"FitnessMin\", base.Fitness, weights=(-1.0,))\n",
    "creator.create(\"Individual\", list, fitness=creator.FitnessMin)\n",
    "\n",
    "def uniform(lower_list, upper_list, dimensions):\n",
    "    \"\"\"Fill array \"\"\"\n",
    "\n",
    "    if hasattr(lower_list, '__iter__'):\n",
    "        return [random.uniform(lower, upper) for lower, upper in\n",
    "                zip(lower_list, upper_list)]\n",
    "    else:\n",
    "        return [random.uniform(lower_list, upper_list)\n",
    "                for _ in range(dimensions)]\n",
    "\n",
    "toolbox = base.Toolbox()\n",
    "toolbox.register(\"evaluate\", pvopt_objfun)"
   ]
  },
  {
   "cell_type": "code",
   "execution_count": 25,
   "metadata": {
    "collapsed": false
   },
   "outputs": [],
   "source": [
    "toolbox.register(\"uniformparams\", uniform, minbounds, maxbounds, dimension)"
   ]
  },
  {
   "cell_type": "code",
   "execution_count": 26,
   "metadata": {
    "collapsed": false
   },
   "outputs": [],
   "source": [
    "toolbox.register(\"Individual\", tools.initIterate, creator.Individual, toolbox.uniformparams)\n",
    "toolbox.register(\"population\", tools.initRepeat, list, toolbox.Individual)"
   ]
  },
  {
   "cell_type": "code",
   "execution_count": 27,
   "metadata": {
    "collapsed": true
   },
   "outputs": [],
   "source": [
    "ETA = 10"
   ]
  },
  {
   "cell_type": "code",
   "execution_count": 28,
   "metadata": {
    "collapsed": false
   },
   "outputs": [],
   "source": [
    "# Register the mate operator\n",
    "toolbox.register(\n",
    "    \"mate\",\n",
    "    tools.cxSimulatedBinaryBounded,\n",
    "    eta=ETA,\n",
    "    low=minbounds,\n",
    "    up=maxbounds)"
   ]
  },
  {
   "cell_type": "code",
   "execution_count": 29,
   "metadata": {
    "collapsed": true
   },
   "outputs": [],
   "source": [
    "# Register the mutation operator\n",
    "toolbox.register(\"mutate\", tools.mutPolynomialBounded, eta=ETA,\n",
    "                 low=minbounds, up=maxbounds, indpb=0.1)"
   ]
  },
  {
   "cell_type": "code",
   "execution_count": 30,
   "metadata": {
    "collapsed": true
   },
   "outputs": [],
   "source": [
    "# Register the variate operator\n",
    "toolbox.register(\"variate\", algorithms.varAnd)"
   ]
  },
  {
   "cell_type": "code",
   "execution_count": 31,
   "metadata": {
    "collapsed": true
   },
   "outputs": [],
   "source": [
    "# Register the selector (picks parents from population)\n",
    "toolbox.register(\n",
    "    \"select\",\n",
    "    tools.selNSGA2)"
   ]
  },
  {
   "cell_type": "code",
   "execution_count": 32,
   "metadata": {
    "collapsed": false
   },
   "outputs": [],
   "source": [
    "# Generate the population object\n",
    "pop = toolbox.population(n=popsize)"
   ]
  },
  {
   "cell_type": "code",
   "execution_count": 33,
   "metadata": {
    "collapsed": false
   },
   "outputs": [],
   "source": [
    "# Register the statistics we want to record during the optimisation\n",
    "# In this case only the minimal value\n",
    "first_stats = tools.Statistics(key=lambda ind: ind.fitness.values[0])\n",
    "stats = tools.MultiStatistics(obj1=first_stats)\n",
    "stats.register(\"min\", np.min, axis=0)"
   ]
  },
  {
   "cell_type": "code",
   "execution_count": 34,
   "metadata": {
    "collapsed": false
   },
   "outputs": [
    {
     "name": "stdout",
     "output_type": "stream",
     "text": [
      "   \t      \t  obj1 \n",
      "   \t      \t-------\n",
      "gen\tnevals\tmin    \n",
      "0  \t10    \t31.4409\n",
      "1  \t9     \t37.6309\n",
      "2  \t4     \t37.6309\n"
     ]
    }
   ],
   "source": [
    "hof = tools.HallOfFame(5)\n",
    "pop, log = algorithms.eaSimple(pop, toolbox, cxpb=0.5, mutpb=0.2, ngen=nb_generation, \n",
    "                               stats=stats, halloffame=hof, verbose=True)"
   ]
  },
  {
   "cell_type": "code",
   "execution_count": 35,
   "metadata": {
    "collapsed": false
   },
   "outputs": [
    {
     "name": "stdout",
     "output_type": "stream",
     "text": [
      "('Initial params', [1.411, 0.512, 1045, 9.78, 5.65e-08])\n"
     ]
    }
   ],
   "source": [
    "print(\"Initial params\", params)"
   ]
  },
  {
   "cell_type": "code",
   "execution_count": 36,
   "metadata": {
    "collapsed": false
   },
   "outputs": [
    {
     "name": "stdout",
     "output_type": "stream",
     "text": [
      "('Best params', [1.4869221351938875, 0.5031506139494596, 929.0007258568331, 8.519964162978562, 7.333295816533393e-08])\n"
     ]
    }
   ],
   "source": [
    "print(\"Best params\", hof[0])"
   ]
  },
  {
   "cell_type": "code",
   "execution_count": 37,
   "metadata": {
    "collapsed": true
   },
   "outputs": [],
   "source": [
    "hist_best = [1.373931990553301, 0.6113338788350812, 1514.008858470765, 9.915445771346667, 4.171763773446444e-08]"
   ]
  },
  {
   "cell_type": "code",
   "execution_count": 38,
   "metadata": {
    "collapsed": false
   },
   "outputs": [
    {
     "data": {
      "text/plain": [
       "[31.440946544995192]"
      ]
     },
     "execution_count": 38,
     "metadata": {},
     "output_type": "execute_result"
    }
   ],
   "source": [
    "pvopt_objfun(hof[0])"
   ]
  },
  {
   "cell_type": "code",
   "execution_count": 39,
   "metadata": {
    "collapsed": true
   },
   "outputs": [],
   "source": [
    "aref, Rs, Rsh, Iphref, I0ref = hof[0]"
   ]
  },
  {
   "cell_type": "code",
   "execution_count": 40,
   "metadata": {
    "collapsed": false
   },
   "outputs": [],
   "source": [
    "Iph = photo_current(Iphref, effectiveIrradiance, Gstc, Ki, Tcell, Tstc)"
   ]
  },
  {
   "cell_type": "code",
   "execution_count": 41,
   "metadata": {
    "collapsed": true
   },
   "outputs": [],
   "source": [
    "I0 = saturationCourant(I0ref, Tcell, Tstc, Eg)"
   ]
  },
  {
   "cell_type": "code",
   "execution_count": 42,
   "metadata": {
    "collapsed": false
   },
   "outputs": [],
   "source": [
    "vals = ivcurve_newton_raphson(Iph, I0, Rs, Rsh, \n",
    "                       aref, Tcell,\n",
    "                       Ns, Nsh, Ns0,\n",
    "                       Vmppnoct, Imppnoct)"
   ]
  },
  {
   "cell_type": "code",
   "execution_count": 43,
   "metadata": {
    "collapsed": false
   },
   "outputs": [],
   "source": [
    "final = pd.DataFrame(data={\"I\": vals[\"I\"], \"V\": vals[\"V\"]})"
   ]
  },
  {
   "cell_type": "code",
   "execution_count": 44,
   "metadata": {
    "collapsed": false
   },
   "outputs": [
    {
     "data": {
      "text/plain": [
       "<matplotlib.axes._subplots.AxesSubplot at 0x11a51d6d0>"
      ]
     },
     "execution_count": 44,
     "metadata": {},
     "output_type": "execute_result"
    },
    {
     "data": {
      "image/png": "[encoded data removed]",
      "text/plain": [
       "<Figure size 600x400 with 1 Axes>"
      ]
     },
     "metadata": {},
     "output_type": "display_data"
    }
   ],
   "source": [
    "final.plot(x=\"V\", y=\"I\")"
   ]
  },
  {
   "cell_type": "code",
   "execution_count": null,
   "metadata": {
    "collapsed": true
   },
   "outputs": [],
   "source": []
  }
 ],
 "metadata": {
  "anaconda-cloud": {},
  "kernelspec": {
   "display_name": "Python [datadriver]",
   "language": "python",
   "name": "Python [datadriver]"
  },
  "language_info": {
   "codemirror_mode": {
    "name": "ipython",
    "version": 2
   },
   "file_extension": ".py",
   "mimetype": "text/x-python",
   "name": "python",
   "nbconvert_exporter": "python",
   "pygments_lexer": "ipython2",
   "version": "2.7.14"
  }
 },
 "nbformat": 4,
 "nbformat_minor": 0
}
