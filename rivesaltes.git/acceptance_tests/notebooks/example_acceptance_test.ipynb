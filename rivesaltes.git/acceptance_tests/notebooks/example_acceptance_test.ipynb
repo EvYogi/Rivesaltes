{
 "cells": [
  {
   "cell_type": "code",
   "execution_count": 1,
   "metadata": {
    "collapsed": true
   },
   "outputs": [],
   "source": [
    "import os, sys"
   ]
  },
  {
   "cell_type": "code",
   "execution_count": 2,
   "metadata": {
    "collapsed": true
   },
   "outputs": [],
   "source": [
    "ROOT_PATH = os.getenv(\"PROJECT_HOME\")"
   ]
  },
  {
   "cell_type": "code",
   "execution_count": 3,
   "metadata": {
    "collapsed": false
   },
   "outputs": [
    {
     "data": {
      "text/plain": [
       "'/Users/matthieu/Documents/Workspace/ENGIE/rivesaltes'"
      ]
     },
     "execution_count": 3,
     "metadata": {},
     "output_type": "execute_result"
    }
   ],
   "source": [
    "ROOT_PATH"
   ]
  },
  {
   "cell_type": "code",
   "execution_count": 4,
   "metadata": {
    "collapsed": true
   },
   "outputs": [],
   "source": [
    "sys.path.append(ROOT_PATH)"
   ]
  },
  {
   "cell_type": "code",
   "execution_count": 5,
   "metadata": {
    "collapsed": false
   },
   "outputs": [],
   "source": [
    "from smartgrid.io.export_grafana import export_to_whisper\n",
    "import pandas as pd"
   ]
  },
  {
   "cell_type": "code",
   "execution_count": 7,
   "metadata": {
    "collapsed": false
   },
   "outputs": [],
   "source": [
    "df = pd.read_csv('{root_path}/acceptance_tests/data/data_example.csv.gz'.format(root_path=ROOT_PATH), \n",
    "                 compression='gzip', date_parser=0, sep=';')"
   ]
  },
  {
   "cell_type": "code",
   "execution_count": 8,
   "metadata": {
    "collapsed": false
   },
   "outputs": [
    {
     "data": {
      "text/html": [
       "<div>\n",
       "<style>\n",
       "    .dataframe thead tr:only-child th {\n",
       "        text-align: right;\n",
       "    }\n",
       "\n",
       "    .dataframe thead th {\n",
       "        text-align: left;\n",
       "    }\n",
       "\n",
       "    .dataframe tbody tr th {\n",
       "        vertical-align: top;\n",
       "    }\n",
       "</style>\n",
       "<table border=\"1\" class=\"dataframe\">\n",
       "  <thead>\n",
       "    <tr style=\"text-align: right;\">\n",
       "      <th></th>\n",
       "      <th>date</th>\n",
       "      <th>puissanceAllumage6</th>\n",
       "      <th>puissanceAux</th>\n",
       "      <th>puissanceAllumage3</th>\n",
       "      <th>puissanceAllumage5</th>\n",
       "      <th>puissanceAllumage1</th>\n",
       "      <th>puissanceAllumage2</th>\n",
       "      <th>puissanceBorneC</th>\n",
       "      <th>puissanceEclairage</th>\n",
       "      <th>puissanceBorneB</th>\n",
       "      <th>...</th>\n",
       "      <th>DCCInput1P</th>\n",
       "      <th>DCCInput2V</th>\n",
       "      <th>DCCInput2I</th>\n",
       "      <th>DCCInput2P</th>\n",
       "      <th>ACCP</th>\n",
       "      <th>ACCQ</th>\n",
       "      <th>ACCS</th>\n",
       "      <th>cosphiC</th>\n",
       "      <th>freqC</th>\n",
       "      <th>ChaineArretUrgence</th>\n",
       "    </tr>\n",
       "  </thead>\n",
       "  <tbody>\n",
       "    <tr>\n",
       "      <th>0</th>\n",
       "      <td>2017/11/30 01:00:01</td>\n",
       "      <td>0</td>\n",
       "      <td>NaN</td>\n",
       "      <td>0</td>\n",
       "      <td>NaN</td>\n",
       "      <td>0</td>\n",
       "      <td>NaN</td>\n",
       "      <td>0,011287</td>\n",
       "      <td>NaN</td>\n",
       "      <td>0,012841</td>\n",
       "      <td>...</td>\n",
       "      <td>NaN</td>\n",
       "      <td>-21474836</td>\n",
       "      <td>NaN</td>\n",
       "      <td>-2147483648</td>\n",
       "      <td>NaN</td>\n",
       "      <td>-2147483648</td>\n",
       "      <td>NaN</td>\n",
       "      <td>1</td>\n",
       "      <td>NaN</td>\n",
       "      <td>NaN</td>\n",
       "    </tr>\n",
       "    <tr>\n",
       "      <th>1</th>\n",
       "      <td>2017/11/30 01:00:05</td>\n",
       "      <td>0</td>\n",
       "      <td>0,518412</td>\n",
       "      <td>0</td>\n",
       "      <td>0</td>\n",
       "      <td>0</td>\n",
       "      <td>0</td>\n",
       "      <td>0,011287</td>\n",
       "      <td>0,254982</td>\n",
       "      <td>0,012841</td>\n",
       "      <td>...</td>\n",
       "      <td>-2.147484e+09</td>\n",
       "      <td>-21474836</td>\n",
       "      <td>-2147483,75</td>\n",
       "      <td>-2147483648</td>\n",
       "      <td>2147483,75</td>\n",
       "      <td>-2147483648</td>\n",
       "      <td>-2.147484e+09</td>\n",
       "      <td>1</td>\n",
       "      <td>-0,01</td>\n",
       "      <td>NaN</td>\n",
       "    </tr>\n",
       "    <tr>\n",
       "      <th>2</th>\n",
       "      <td>2017/11/30 01:01:01</td>\n",
       "      <td>0</td>\n",
       "      <td>0,518412</td>\n",
       "      <td>0</td>\n",
       "      <td>0</td>\n",
       "      <td>0</td>\n",
       "      <td>0</td>\n",
       "      <td>0,010484</td>\n",
       "      <td>0,254982</td>\n",
       "      <td>0,013277</td>\n",
       "      <td>...</td>\n",
       "      <td>-2.147484e+09</td>\n",
       "      <td>-21474836</td>\n",
       "      <td>-2147483,75</td>\n",
       "      <td>-2147483648</td>\n",
       "      <td>2147483,75</td>\n",
       "      <td>-2147483648</td>\n",
       "      <td>-2.147484e+09</td>\n",
       "      <td>1</td>\n",
       "      <td>-0,01</td>\n",
       "      <td>NaN</td>\n",
       "    </tr>\n",
       "    <tr>\n",
       "      <th>3</th>\n",
       "      <td>2017/11/30 01:01:05</td>\n",
       "      <td>0</td>\n",
       "      <td>0,515324</td>\n",
       "      <td>0</td>\n",
       "      <td>0</td>\n",
       "      <td>0</td>\n",
       "      <td>0</td>\n",
       "      <td>0,010484</td>\n",
       "      <td>0,25564</td>\n",
       "      <td>0,013277</td>\n",
       "      <td>...</td>\n",
       "      <td>-2.147484e+09</td>\n",
       "      <td>-21474836</td>\n",
       "      <td>-2147483,75</td>\n",
       "      <td>-2147483648</td>\n",
       "      <td>2147483,75</td>\n",
       "      <td>-2147483648</td>\n",
       "      <td>-2.147484e+09</td>\n",
       "      <td>1</td>\n",
       "      <td>-0,01</td>\n",
       "      <td>NaN</td>\n",
       "    </tr>\n",
       "    <tr>\n",
       "      <th>4</th>\n",
       "      <td>2017/11/30 01:02:01</td>\n",
       "      <td>0</td>\n",
       "      <td>0,515324</td>\n",
       "      <td>0</td>\n",
       "      <td>0</td>\n",
       "      <td>0</td>\n",
       "      <td>0</td>\n",
       "      <td>0,007853</td>\n",
       "      <td>0,25564</td>\n",
       "      <td>0,011378</td>\n",
       "      <td>...</td>\n",
       "      <td>-2.147484e+09</td>\n",
       "      <td>-21474836</td>\n",
       "      <td>-2147483,75</td>\n",
       "      <td>-2147483648</td>\n",
       "      <td>2147483,75</td>\n",
       "      <td>-2147483648</td>\n",
       "      <td>-2.147484e+09</td>\n",
       "      <td>1</td>\n",
       "      <td>-0,01</td>\n",
       "      <td>NaN</td>\n",
       "    </tr>\n",
       "  </tbody>\n",
       "</table>\n",
       "<p>5 rows × 69 columns</p>\n",
       "</div>"
      ],
      "text/plain": [
       "                  date puissanceAllumage6 puissanceAux puissanceAllumage3  \\\n",
       "0  2017/11/30 01:00:01                  0          NaN                  0   \n",
       "1  2017/11/30 01:00:05                  0     0,518412                  0   \n",
       "2  2017/11/30 01:01:01                  0     0,518412                  0   \n",
       "3  2017/11/30 01:01:05                  0     0,515324                  0   \n",
       "4  2017/11/30 01:02:01                  0     0,515324                  0   \n",
       "\n",
       "  puissanceAllumage5 puissanceAllumage1 puissanceAllumage2 puissanceBorneC  \\\n",
       "0                NaN                  0                NaN        0,011287   \n",
       "1                  0                  0                  0        0,011287   \n",
       "2                  0                  0                  0        0,010484   \n",
       "3                  0                  0                  0        0,010484   \n",
       "4                  0                  0                  0        0,007853   \n",
       "\n",
       "  puissanceEclairage puissanceBorneB         ...            DCCInput1P  \\\n",
       "0                NaN        0,012841         ...                   NaN   \n",
       "1           0,254982        0,012841         ...         -2.147484e+09   \n",
       "2           0,254982        0,013277         ...         -2.147484e+09   \n",
       "3            0,25564        0,013277         ...         -2.147484e+09   \n",
       "4            0,25564        0,011378         ...         -2.147484e+09   \n",
       "\n",
       "   DCCInput2V   DCCInput2I  DCCInput2P        ACCP        ACCQ          ACCS  \\\n",
       "0   -21474836          NaN -2147483648         NaN -2147483648           NaN   \n",
       "1   -21474836  -2147483,75 -2147483648  2147483,75 -2147483648 -2.147484e+09   \n",
       "2   -21474836  -2147483,75 -2147483648  2147483,75 -2147483648 -2.147484e+09   \n",
       "3   -21474836  -2147483,75 -2147483648  2147483,75 -2147483648 -2.147484e+09   \n",
       "4   -21474836  -2147483,75 -2147483648  2147483,75 -2147483648 -2.147484e+09   \n",
       "\n",
       "   cosphiC  freqC  ChaineArretUrgence  \n",
       "0        1    NaN                 NaN  \n",
       "1        1  -0,01                 NaN  \n",
       "2        1  -0,01                 NaN  \n",
       "3        1  -0,01                 NaN  \n",
       "4        1  -0,01                 NaN  \n",
       "\n",
       "[5 rows x 69 columns]"
      ]
     },
     "execution_count": 8,
     "metadata": {},
     "output_type": "execute_result"
    }
   ],
   "source": [
    "df.head()"
   ]
  },
  {
   "cell_type": "code",
   "execution_count": null,
   "metadata": {
    "collapsed": true
   },
   "outputs": [],
   "source": []
  }
 ],
 "metadata": {
  "anaconda-cloud": {},
  "kernelspec": {
   "display_name": "Python 2",
   "language": "python",
   "name": "python2"
  },
  "language_info": {
   "codemirror_mode": {
    "name": "ipython",
    "version": 2
   },
   "file_extension": ".py",
   "mimetype": "text/x-python",
   "name": "python",
   "nbconvert_exporter": "python",
   "pygments_lexer": "ipython2",
   "version": "2.7.14"
  }
 },
 "nbformat": 4,
 "nbformat_minor": 1
}
