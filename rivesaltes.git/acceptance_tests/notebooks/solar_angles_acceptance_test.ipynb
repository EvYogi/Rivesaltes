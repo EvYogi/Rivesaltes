{
 "cells": [
  {
   "cell_type": "markdown",
   "metadata": {},
   "source": [
    "# Solar angles example"
   ]
  },
  {
   "cell_type": "markdown",
   "metadata": {},
   "source": [
    "In order to test solar angle computations, let's give us two matrices of latitude and longitude coordinates"
   ]
  },
  {
   "cell_type": "code",
   "execution_count": 29,
   "metadata": {},
   "outputs": [],
   "source": [
    "from smartgrid.image_processing.solar_angles_computation import solar_angles_computation\n"
   ]
  },
  {
   "cell_type": "markdown",
   "metadata": {},
   "source": [
    "## Latitude around Walon"
   ]
  },
  {
   "cell_type": "code",
   "execution_count": 30,
   "metadata": {},
   "outputs": [],
   "source": [
    "latitude = np.array([[-24.21883982, -24.15414819, -24.08939478, 42.30282336,42.3844512, 42.4660574],\n",
    "                     [-24.17659371, -24.11197816, -24.04730088, 42.26390556,42.34541665, 42.42690604],\n",
    "                     [-24.1344221, -24.06988251, -24.00528124, 42.22501283,42.30640729, 42.38777999],\n",
    "                     [-24.09232492, -24.02786117, -23.96333579, 42.18614525,42.26742319, 42.34867932]])"
   ]
  },
  {
   "cell_type": "markdown",
   "metadata": {},
   "source": [
    "## Longitude around Walon"
   ]
  },
  {
   "cell_type": "code",
   "execution_count": 31,
   "metadata": {},
   "outputs": [],
   "source": [
    "longitude = np.array([[52.80123246, 52.8242849 , 52.84729302, 54.19681451,54.17425455, 54.15163053],\n",
    "                      [52.76262327, 52.78565505, 52.80864255, 54.1543497,54.13180127, 54.10918883],\n",
    "                      [52.72402096, 52.74703209, 52.76999898, 54.11189641,54.08935952, 54.06675867],\n",
    "                      [52.68542556, 52.70841604, 52.73136232, 54.06945465,54.04692931, 54.02434004]])"
   ]
  },
  {
   "cell_type": "markdown",
   "metadata": {},
   "source": [
    "## Computation of solar angles at a given time"
   ]
  },
  {
   "cell_type": "code",
   "execution_count": null,
   "metadata": {},
   "outputs": [],
   "source": [
    "zenith, azimuth = solar_angles_computation(np.datetime64('2016-07-22 12:00:00'), latitude=latitude, longitude=longitude)"
   ]
  },
  {
   "cell_type": "code",
   "execution_count": 36,
   "metadata": {},
   "outputs": [
    {
     "data": {
      "text/plain": [
       "array([[66.5763166 , 66.53709449, 66.497855  , 49.11810233, 49.13217862,\n",
       "        49.14634875],\n",
       "       [66.55070079, 66.51153787, 66.4723576 , 49.11142555, 49.12543513,\n",
       "        48.95786305],\n",
       "       [66.52513867, 66.48603484, 66.44691368, 48.92241902, 48.93663623,\n",
       "        48.95094724],\n",
       "       [66.49963018, 66.46058532, 66.42152318, 48.91566447, 48.92981467,\n",
       "        48.94405843]])"
      ]
     },
     "execution_count": 36,
     "metadata": {},
     "output_type": "execute_result"
    }
   ],
   "source": [
    "zenith"
   ]
  },
  {
   "cell_type": "code",
   "execution_count": 37,
   "metadata": {},
   "outputs": [
    {
     "data": {
      "text/plain": [
       "57.7573575706653"
      ]
     },
     "execution_count": 37,
     "metadata": {},
     "output_type": "execute_result"
    }
   ],
   "source": [
    "np.mean(zenith)"
   ]
  },
  {
   "cell_type": "code",
   "execution_count": null,
   "metadata": {},
   "outputs": [],
   "source": []
  }
 ],
 "metadata": {
  "kernelspec": {
   "display_name": "Python 3",
   "language": "python",
   "name": "python3"
  },
  "language_info": {
   "codemirror_mode": {
    "name": "ipython",
    "version": 3
   },
   "file_extension": ".py",
   "mimetype": "text/x-python",
   "name": "python",
   "nbconvert_exporter": "python",
   "pygments_lexer": "ipython3",
   "version": "3.6.5"
  }
 },
 "nbformat": 4,
 "nbformat_minor": 1
}
