{
 "cells": [
  {
   "cell_type": "markdown",
   "metadata": {},
   "source": [
    "# Compute GHI"
   ]
  },
  {
   "cell_type": "markdown",
   "metadata": {},
   "source": [
    "Computing GHI given this works requires several sources of data : \n",
    "\n",
    "* Infrared patch of image around the localisation of interest\n",
    "* Block Matching values around the localisation of interest\n",
    "* Cloud Index values around the localication of interest\n",
    "* Possibly solar angles (azimuth & zenith) around the location of interest\n",
    "* ClearSky GHI at the location of interest"
   ]
  },
  {
   "cell_type": "code",
   "execution_count": 3,
   "metadata": {},
   "outputs": [],
   "source": [
    "import numpy as np\n",
    "from PIL import Image\n",
    "from matplotlib import pyplot as plt\n",
    "from smartgrid.image_processing.compute_GHI import *\n",
    "import pickle\n",
    "import pandas as pd"
   ]
  },
  {
   "cell_type": "markdown",
   "metadata": {},
   "source": [
    "## Import sources of data"
   ]
  },
  {
   "cell_type": "code",
   "execution_count": 6,
   "metadata": {
    "collapsed": true
   },
   "outputs": [],
   "source": [
    "img_1_refined = np.array(Image.open('../data/201804032345.jpg').convert('L'))\n",
    "img_2_refined = np.array(Image.open('../data/201804040000.jpg').convert('L'))\n",
    "clear_sky = plt.imread('../data/month_04_hour_0800.jpg')\n",
    "overcast = plt.imread('../data/month_04_hour_0800-2.jpg')\n",
    "clf = pickle.load(open('../data/RF.pickle', 'rb'))\n",
    "clf15 = pickle.load(open('../data/RF_15.pickle', 'rb'))\n",
    "clf60 = pickle.load(open('../data/RF_60.pickle', 'rb'))\n",
    "time = pd.to_datetime('201804030800')"
   ]
  },
  {
   "cell_type": "markdown",
   "metadata": {},
   "source": [
    "## Prediction"
   ]
  },
  {
   "cell_type": "markdown",
   "metadata": {},
   "source": [
    "Every step of feature engineering is encompassed in the predict_GHI method"
   ]
  },
  {
   "cell_type": "code",
   "execution_count": null,
   "metadata": {
    "collapsed": false
   },
   "outputs": [],
   "source": [
    "predict_GHI(img_1_refined,img_2_refined,time,clear_sky,overcast,clf,clf15,clf60)"
   ]
  }
 ],
 "metadata": {
  "kernelspec": {
   "display_name": "Python [conda env:rivesaltes]",
   "language": "python",
   "name": "conda-env-rivesaltes-py"
  },
  "language_info": {
   "codemirror_mode": {
    "name": "ipython",
    "version": 3
   },
   "file_extension": ".py",
   "mimetype": "text/x-python",
   "name": "python",
   "nbconvert_exporter": "python",
   "pygments_lexer": "ipython3",
   "version": "3.6.5"
  }
 },
 "nbformat": 4,
 "nbformat_minor": 1
}
