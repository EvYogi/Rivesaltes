{
 "cells": [
  {
   "cell_type": "markdown",
   "metadata": {},
   "source": [
    "# Computer Inverter model example"
   ]
  },
  {
   "cell_type": "code",
   "execution_count": 1,
   "metadata": {
    "collapsed": true
   },
   "outputs": [],
   "source": [
    "import os, sys"
   ]
  },
  {
   "cell_type": "code",
   "execution_count": 2,
   "metadata": {
    "collapsed": true
   },
   "outputs": [],
   "source": [
    "ROOT_PATH = os.getenv(\"PROJECT_HOME\")"
   ]
  },
  {
   "cell_type": "code",
   "execution_count": 3,
   "metadata": {
    "collapsed": true
   },
   "outputs": [],
   "source": [
    "sys.path.append(ROOT_PATH)"
   ]
  },
  {
   "cell_type": "code",
   "execution_count": 4,
   "metadata": {
    "collapsed": true
   },
   "outputs": [],
   "source": [
    "%matplotlib inline"
   ]
  },
  {
   "cell_type": "code",
   "execution_count": 5,
   "metadata": {
    "collapsed": false
   },
   "outputs": [],
   "source": [
    "import pandas as pd\n",
    "from smartgrid.microgrid.inverter import ares_load, ares_preprocessing, fit_inverter_spline, save_pp_inverter\n",
    "import glob"
   ]
  },
  {
   "cell_type": "markdown",
   "metadata": {},
   "source": [
    "## Loading ARES data sample"
   ]
  },
  {
   "cell_type": "code",
   "execution_count": 6,
   "metadata": {
    "collapsed": false
   },
   "outputs": [],
   "source": [
    "FILES = [\"../data/ARES-Export_2017-01-13_-_02.00.zip\", \"../data/ARES-Export_2017-01-14_-_02.00.zip\"]\n",
    "#FILES = glob.glob(\"/tmp/ARES/*.zip\")"
   ]
  },
  {
   "cell_type": "code",
   "execution_count": 7,
   "metadata": {
    "collapsed": false
   },
   "outputs": [],
   "source": [
    "ares = ares_load(FILES)"
   ]
  },
  {
   "cell_type": "code",
   "execution_count": 15,
   "metadata": {
    "collapsed": false
   },
   "outputs": [
    {
     "data": {
      "text/html": [
       "<div>\n",
       "<style>\n",
       "    .dataframe thead tr:only-child th {\n",
       "        text-align: right;\n",
       "    }\n",
       "\n",
       "    .dataframe thead th {\n",
       "        text-align: left;\n",
       "    }\n",
       "\n",
       "    .dataframe tbody tr th {\n",
       "        vertical-align: top;\n",
       "    }\n",
       "</style>\n",
       "<table border=\"1\" class=\"dataframe\">\n",
       "  <thead>\n",
       "    <tr style=\"text-align: right;\">\n",
       "      <th></th>\n",
       "      <th>puissanceAllumage6</th>\n",
       "      <th>puissanceAux</th>\n",
       "      <th>puissanceAllumage3</th>\n",
       "      <th>puissanceAllumage5</th>\n",
       "      <th>puissanceAllumage1</th>\n",
       "      <th>puissanceAllumage2</th>\n",
       "      <th>puissanceBorneC</th>\n",
       "      <th>puissanceEclairage</th>\n",
       "      <th>puissanceBorneB</th>\n",
       "      <th>puissanceSmaC</th>\n",
       "      <th>...</th>\n",
       "      <th>DCCInput1I</th>\n",
       "      <th>DCCInput1P</th>\n",
       "      <th>DCCInput2V</th>\n",
       "      <th>DCCInput2I</th>\n",
       "      <th>DCCInput2P</th>\n",
       "      <th>ACCP</th>\n",
       "      <th>ACCQ</th>\n",
       "      <th>ACCS</th>\n",
       "      <th>cosphiC</th>\n",
       "      <th>freqC</th>\n",
       "    </tr>\n",
       "    <tr>\n",
       "      <th>date</th>\n",
       "      <th></th>\n",
       "      <th></th>\n",
       "      <th></th>\n",
       "      <th></th>\n",
       "      <th></th>\n",
       "      <th></th>\n",
       "      <th></th>\n",
       "      <th></th>\n",
       "      <th></th>\n",
       "      <th></th>\n",
       "      <th></th>\n",
       "      <th></th>\n",
       "      <th></th>\n",
       "      <th></th>\n",
       "      <th></th>\n",
       "      <th></th>\n",
       "      <th></th>\n",
       "      <th></th>\n",
       "      <th></th>\n",
       "      <th></th>\n",
       "      <th></th>\n",
       "    </tr>\n",
       "  </thead>\n",
       "  <tbody>\n",
       "    <tr>\n",
       "      <th>2017-01-14 00:57:36</th>\n",
       "      <td>0.0</td>\n",
       "      <td>0.524444</td>\n",
       "      <td>0.0</td>\n",
       "      <td>0.0</td>\n",
       "      <td>0.0</td>\n",
       "      <td>0.0</td>\n",
       "      <td>0.014990</td>\n",
       "      <td>0.012717</td>\n",
       "      <td>0.000000</td>\n",
       "      <td>4.294967e+09</td>\n",
       "      <td>...</td>\n",
       "      <td>-2147483.75</td>\n",
       "      <td>-2147483648</td>\n",
       "      <td>-21474836.0</td>\n",
       "      <td>-2147483.75</td>\n",
       "      <td>-2.147484e+09</td>\n",
       "      <td>2147483.75</td>\n",
       "      <td>-2.147484e+09</td>\n",
       "      <td>-2147483648</td>\n",
       "      <td>1.0</td>\n",
       "      <td>-0.01</td>\n",
       "    </tr>\n",
       "    <tr>\n",
       "      <th>2017-01-14 00:58:32</th>\n",
       "      <td>0.0</td>\n",
       "      <td>0.524444</td>\n",
       "      <td>0.0</td>\n",
       "      <td>0.0</td>\n",
       "      <td>0.0</td>\n",
       "      <td>0.0</td>\n",
       "      <td>0.014620</td>\n",
       "      <td>0.012717</td>\n",
       "      <td>0.010791</td>\n",
       "      <td>4.294967e+09</td>\n",
       "      <td>...</td>\n",
       "      <td>-2147483.75</td>\n",
       "      <td>-2147483648</td>\n",
       "      <td>-21474836.0</td>\n",
       "      <td>-2147483.75</td>\n",
       "      <td>-2.147484e+09</td>\n",
       "      <td>2147483.75</td>\n",
       "      <td>-2.147484e+09</td>\n",
       "      <td>-2147483648</td>\n",
       "      <td>1.0</td>\n",
       "      <td>-0.01</td>\n",
       "    </tr>\n",
       "    <tr>\n",
       "      <th>2017-01-14 00:58:36</th>\n",
       "      <td>0.0</td>\n",
       "      <td>0.525277</td>\n",
       "      <td>0.0</td>\n",
       "      <td>0.0</td>\n",
       "      <td>0.0</td>\n",
       "      <td>0.0</td>\n",
       "      <td>0.014620</td>\n",
       "      <td>0.012505</td>\n",
       "      <td>0.010791</td>\n",
       "      <td>4.294967e+09</td>\n",
       "      <td>...</td>\n",
       "      <td>-2147483.75</td>\n",
       "      <td>-2147483648</td>\n",
       "      <td>-21474836.0</td>\n",
       "      <td>-2147483.75</td>\n",
       "      <td>-2.147484e+09</td>\n",
       "      <td>2147483.75</td>\n",
       "      <td>-2.147484e+09</td>\n",
       "      <td>-2147483648</td>\n",
       "      <td>1.0</td>\n",
       "      <td>-0.01</td>\n",
       "    </tr>\n",
       "    <tr>\n",
       "      <th>2017-01-14 00:59:32</th>\n",
       "      <td>0.0</td>\n",
       "      <td>0.525277</td>\n",
       "      <td>0.0</td>\n",
       "      <td>0.0</td>\n",
       "      <td>0.0</td>\n",
       "      <td>0.0</td>\n",
       "      <td>0.013953</td>\n",
       "      <td>0.012505</td>\n",
       "      <td>0.010678</td>\n",
       "      <td>4.294967e+09</td>\n",
       "      <td>...</td>\n",
       "      <td>-2147483.75</td>\n",
       "      <td>-2147483648</td>\n",
       "      <td>-21474836.0</td>\n",
       "      <td>-2147483.75</td>\n",
       "      <td>-2.147484e+09</td>\n",
       "      <td>2147483.75</td>\n",
       "      <td>-2.147484e+09</td>\n",
       "      <td>-2147483648</td>\n",
       "      <td>1.0</td>\n",
       "      <td>-0.01</td>\n",
       "    </tr>\n",
       "    <tr>\n",
       "      <th>2017-01-14 00:59:36</th>\n",
       "      <td>0.0</td>\n",
       "      <td>0.525112</td>\n",
       "      <td>0.0</td>\n",
       "      <td>0.0</td>\n",
       "      <td>0.0</td>\n",
       "      <td>0.0</td>\n",
       "      <td>0.013953</td>\n",
       "      <td>0.012472</td>\n",
       "      <td>0.010678</td>\n",
       "      <td>4.294967e+09</td>\n",
       "      <td>...</td>\n",
       "      <td>-2147483.75</td>\n",
       "      <td>-2147483648</td>\n",
       "      <td>-21474836.0</td>\n",
       "      <td>-2147483.75</td>\n",
       "      <td>-2.147484e+09</td>\n",
       "      <td>2147483.75</td>\n",
       "      <td>-2.147484e+09</td>\n",
       "      <td>-2147483648</td>\n",
       "      <td>1.0</td>\n",
       "      <td>-0.01</td>\n",
       "    </tr>\n",
       "  </tbody>\n",
       "</table>\n",
       "<p>5 rows × 67 columns</p>\n",
       "</div>"
      ],
      "text/plain": [
       "                     puissanceAllumage6  puissanceAux  puissanceAllumage3  \\\n",
       "date                                                                        \n",
       "2017-01-14 00:57:36                 0.0      0.524444                 0.0   \n",
       "2017-01-14 00:58:32                 0.0      0.524444                 0.0   \n",
       "2017-01-14 00:58:36                 0.0      0.525277                 0.0   \n",
       "2017-01-14 00:59:32                 0.0      0.525277                 0.0   \n",
       "2017-01-14 00:59:36                 0.0      0.525112                 0.0   \n",
       "\n",
       "                     puissanceAllumage5  puissanceAllumage1  \\\n",
       "date                                                          \n",
       "2017-01-14 00:57:36                 0.0                 0.0   \n",
       "2017-01-14 00:58:32                 0.0                 0.0   \n",
       "2017-01-14 00:58:36                 0.0                 0.0   \n",
       "2017-01-14 00:59:32                 0.0                 0.0   \n",
       "2017-01-14 00:59:36                 0.0                 0.0   \n",
       "\n",
       "                     puissanceAllumage2  puissanceBorneC  puissanceEclairage  \\\n",
       "date                                                                           \n",
       "2017-01-14 00:57:36                 0.0         0.014990            0.012717   \n",
       "2017-01-14 00:58:32                 0.0         0.014620            0.012717   \n",
       "2017-01-14 00:58:36                 0.0         0.014620            0.012505   \n",
       "2017-01-14 00:59:32                 0.0         0.013953            0.012505   \n",
       "2017-01-14 00:59:36                 0.0         0.013953            0.012472   \n",
       "\n",
       "                     puissanceBorneB  puissanceSmaC  ...    DCCInput1I  \\\n",
       "date                                                 ...                 \n",
       "2017-01-14 00:57:36         0.000000   4.294967e+09  ...   -2147483.75   \n",
       "2017-01-14 00:58:32         0.010791   4.294967e+09  ...   -2147483.75   \n",
       "2017-01-14 00:58:36         0.010791   4.294967e+09  ...   -2147483.75   \n",
       "2017-01-14 00:59:32         0.010678   4.294967e+09  ...   -2147483.75   \n",
       "2017-01-14 00:59:36         0.010678   4.294967e+09  ...   -2147483.75   \n",
       "\n",
       "                     DCCInput1P  DCCInput2V  DCCInput2I    DCCInput2P  \\\n",
       "date                                                                    \n",
       "2017-01-14 00:57:36 -2147483648 -21474836.0 -2147483.75 -2.147484e+09   \n",
       "2017-01-14 00:58:32 -2147483648 -21474836.0 -2147483.75 -2.147484e+09   \n",
       "2017-01-14 00:58:36 -2147483648 -21474836.0 -2147483.75 -2.147484e+09   \n",
       "2017-01-14 00:59:32 -2147483648 -21474836.0 -2147483.75 -2.147484e+09   \n",
       "2017-01-14 00:59:36 -2147483648 -21474836.0 -2147483.75 -2.147484e+09   \n",
       "\n",
       "                           ACCP          ACCQ        ACCS  cosphiC  freqC  \n",
       "date                                                                       \n",
       "2017-01-14 00:57:36  2147483.75 -2.147484e+09 -2147483648      1.0  -0.01  \n",
       "2017-01-14 00:58:32  2147483.75 -2.147484e+09 -2147483648      1.0  -0.01  \n",
       "2017-01-14 00:58:36  2147483.75 -2.147484e+09 -2147483648      1.0  -0.01  \n",
       "2017-01-14 00:59:32  2147483.75 -2.147484e+09 -2147483648      1.0  -0.01  \n",
       "2017-01-14 00:59:36  2147483.75 -2.147484e+09 -2147483648      1.0  -0.01  \n",
       "\n",
       "[5 rows x 67 columns]"
      ]
     },
     "execution_count": 15,
     "metadata": {},
     "output_type": "execute_result"
    }
   ],
   "source": [
    "ares.tail()"
   ]
  },
  {
   "cell_type": "markdown",
   "metadata": {},
   "source": [
    "## Load & save function"
   ]
  },
  {
   "cell_type": "code",
   "execution_count": 9,
   "metadata": {
    "collapsed": false
   },
   "outputs": [
    {
     "data": {
      "text/plain": [
       "<scipy.interpolate.fitpack2.LSQUnivariateSpline at 0x118901dd0>"
      ]
     },
     "execution_count": 9,
     "metadata": {},
     "output_type": "execute_result"
    }
   ],
   "source": [
    "save_pp_inverter(ares, \"data/models/ppInverterTest.pk\")"
   ]
  },
  {
   "cell_type": "markdown",
   "metadata": {},
   "source": [
    "## Preprocessing"
   ]
  },
  {
   "cell_type": "code",
   "execution_count": 9,
   "metadata": {
    "collapsed": false
   },
   "outputs": [],
   "source": [
    "ndf = ares_preprocessing(ares)"
   ]
  },
  {
   "cell_type": "code",
   "execution_count": 10,
   "metadata": {
    "collapsed": false
   },
   "outputs": [
    {
     "data": {
      "text/plain": [
       "((5765, 67), (976, 7))"
      ]
     },
     "execution_count": 10,
     "metadata": {},
     "output_type": "execute_result"
    }
   ],
   "source": [
    "ares.shape, ndf.shape"
   ]
  },
  {
   "cell_type": "code",
   "execution_count": 11,
   "metadata": {
    "collapsed": false
   },
   "outputs": [
    {
     "data": {
      "text/html": [
       "<div>\n",
       "<style>\n",
       "    .dataframe thead tr:only-child th {\n",
       "        text-align: right;\n",
       "    }\n",
       "\n",
       "    .dataframe thead th {\n",
       "        text-align: left;\n",
       "    }\n",
       "\n",
       "    .dataframe tbody tr th {\n",
       "        vertical-align: top;\n",
       "    }\n",
       "</style>\n",
       "<table border=\"1\" class=\"dataframe\">\n",
       "  <thead>\n",
       "    <tr style=\"text-align: right;\">\n",
       "      <th></th>\n",
       "      <th>I1</th>\n",
       "      <th>V1</th>\n",
       "      <th>P1</th>\n",
       "      <th>I2</th>\n",
       "      <th>V2</th>\n",
       "      <th>P2</th>\n",
       "      <th>Pac</th>\n",
       "    </tr>\n",
       "    <tr>\n",
       "      <th>date</th>\n",
       "      <th></th>\n",
       "      <th></th>\n",
       "      <th></th>\n",
       "      <th></th>\n",
       "      <th></th>\n",
       "      <th></th>\n",
       "      <th></th>\n",
       "    </tr>\n",
       "  </thead>\n",
       "  <tbody>\n",
       "    <tr>\n",
       "      <th>2017-01-12 10:15:00</th>\n",
       "      <td>9.196</td>\n",
       "      <td>549.219971</td>\n",
       "      <td>5.050</td>\n",
       "      <td>8.836</td>\n",
       "      <td>548.619995</td>\n",
       "      <td>4.846</td>\n",
       "      <td>9.765</td>\n",
       "    </tr>\n",
       "    <tr>\n",
       "      <th>2017-01-12 10:16:00</th>\n",
       "      <td>8.754</td>\n",
       "      <td>549.219971</td>\n",
       "      <td>4.806</td>\n",
       "      <td>8.498</td>\n",
       "      <td>545.460022</td>\n",
       "      <td>4.632</td>\n",
       "      <td>9.308</td>\n",
       "    </tr>\n",
       "    <tr>\n",
       "      <th>2017-01-12 10:17:00</th>\n",
       "      <td>8.478</td>\n",
       "      <td>545.950012</td>\n",
       "      <td>4.627</td>\n",
       "      <td>8.164</td>\n",
       "      <td>545.340027</td>\n",
       "      <td>4.451</td>\n",
       "      <td>8.956</td>\n",
       "    </tr>\n",
       "    <tr>\n",
       "      <th>2017-01-12 10:18:00</th>\n",
       "      <td>8.348</td>\n",
       "      <td>545.950012</td>\n",
       "      <td>4.555</td>\n",
       "      <td>8.033</td>\n",
       "      <td>545.489990</td>\n",
       "      <td>4.381</td>\n",
       "      <td>8.814</td>\n",
       "    </tr>\n",
       "    <tr>\n",
       "      <th>2017-01-12 10:19:00</th>\n",
       "      <td>8.202</td>\n",
       "      <td>546.059998</td>\n",
       "      <td>4.478</td>\n",
       "      <td>7.903</td>\n",
       "      <td>545.340027</td>\n",
       "      <td>4.309</td>\n",
       "      <td>8.660</td>\n",
       "    </tr>\n",
       "  </tbody>\n",
       "</table>\n",
       "</div>"
      ],
      "text/plain": [
       "                        I1          V1     P1     I2          V2     P2    Pac\n",
       "date                                                                          \n",
       "2017-01-12 10:15:00  9.196  549.219971  5.050  8.836  548.619995  4.846  9.765\n",
       "2017-01-12 10:16:00  8.754  549.219971  4.806  8.498  545.460022  4.632  9.308\n",
       "2017-01-12 10:17:00  8.478  545.950012  4.627  8.164  545.340027  4.451  8.956\n",
       "2017-01-12 10:18:00  8.348  545.950012  4.555  8.033  545.489990  4.381  8.814\n",
       "2017-01-12 10:19:00  8.202  546.059998  4.478  7.903  545.340027  4.309  8.660"
      ]
     },
     "execution_count": 11,
     "metadata": {},
     "output_type": "execute_result"
    }
   ],
   "source": [
    "ndf.head()"
   ]
  },
  {
   "cell_type": "markdown",
   "metadata": {},
   "source": [
    "## Inverter PV fitting"
   ]
  },
  {
   "cell_type": "code",
   "execution_count": 12,
   "metadata": {
    "collapsed": false
   },
   "outputs": [],
   "source": [
    "ppOnduleurPV, breaks = fit_inverter_spline(ndf)"
   ]
  },
  {
   "cell_type": "code",
   "execution_count": 13,
   "metadata": {
    "collapsed": false
   },
   "outputs": [
    {
     "data": {
      "text/plain": [
       "array([0.78536369, 0.80035996, 0.81471721, 0.8284478 , 0.84156405,\n",
       "       0.85407829, 0.86600285, 0.87735008, 0.88813229, 0.89836183,\n",
       "       0.90805103, 0.91721221, 0.92585772, 0.93399988, 0.94165103,\n",
       "       0.9488235 , 0.95552962, 0.96178173, 0.96759216, 0.97297324,\n",
       "       0.9779373 , 0.98249668, 0.99670684, 1.00562643, 1.00999933,\n",
       "       1.01056942, 1.0080806 , 1.00327672, 0.9969017 , 0.9896994 ,\n",
       "       0.9824137 , 0.9757885 , 0.97056767, 0.9674951 , 0.96731467,\n",
       "       0.97077027, 0.97860577, 0.99156506, 1.01039203, 1.03583055,\n",
       "       1.0686245 , 1.10951778])"
      ]
     },
     "execution_count": 13,
     "metadata": {},
     "output_type": "execute_result"
    }
   ],
   "source": [
    "ppOnduleurPV(breaks)"
   ]
  },
  {
   "cell_type": "code",
   "execution_count": 34,
   "metadata": {
    "collapsed": false
   },
   "outputs": [],
   "source": [
    "m, b = fit_inverter_spline(ndf.head(), num=2)"
   ]
  },
  {
   "cell_type": "code",
   "execution_count": 35,
   "metadata": {
    "collapsed": false
   },
   "outputs": [
    {
     "data": {
      "text/plain": [
       "array([8.787 , 5.8935, 3.    , 9.896 ])"
      ]
     },
     "execution_count": 35,
     "metadata": {},
     "output_type": "execute_result"
    }
   ],
   "source": [
    "b"
   ]
  },
  {
   "cell_type": "code",
   "execution_count": 36,
   "metadata": {
    "collapsed": false
   },
   "outputs": [
    {
     "data": {
      "text/plain": [
       "array([ 0.98555534,  0.62713372, -1.24905077,  0.986763  ])"
      ]
     },
     "execution_count": 36,
     "metadata": {},
     "output_type": "execute_result"
    }
   ],
   "source": [
    "m(b)"
   ]
  },
  {
   "cell_type": "markdown",
   "metadata": {},
   "source": [
    "## Raw stats "
   ]
  },
  {
   "cell_type": "code",
   "execution_count": 17,
   "metadata": {
    "collapsed": true
   },
   "outputs": [],
   "source": [
    "puiss_rendement = pd.DataFrame(index=ndf.index, data=dict(Puissance=ndf.P2 + ndf.P1,\n",
    "                                                          Rendement=ndf.Pac / (ndf.P1 + ndf.P2)))"
   ]
  },
  {
   "cell_type": "code",
   "execution_count": 18,
   "metadata": {
    "collapsed": true
   },
   "outputs": [],
   "source": [
    "puiss_rendement = puiss_rendement.sort_values([\"Puissance\"])"
   ]
  },
  {
   "cell_type": "code",
   "execution_count": 19,
   "metadata": {
    "collapsed": false
   },
   "outputs": [
    {
     "data": {
      "text/plain": [
       "<matplotlib.axes._subplots.AxesSubplot at 0x10ee544d0>"
      ]
     },
     "execution_count": 19,
     "metadata": {},
     "output_type": "execute_result"
    },
    {
     "data": {
      "image/png": "[encoded data removed]",
      "text/plain": [
       "<Figure size 600x400 with 1 Axes>"
      ]
     },
     "metadata": {},
     "output_type": "display_data"
    }
   ],
   "source": [
    "puiss_rendement.plot(x=\"Puissance\", y=\"Rendement\", \n",
    "                     kind=\"scatter\",\n",
    "                     xlim=[0, 20], ylim=[0.8, 1],\n",
    "                     title=\"Courbe de rendement de l'onduleur PV\")"
   ]
  },
  {
   "cell_type": "markdown",
   "metadata": {},
   "source": [
    "## From computed model"
   ]
  },
  {
   "cell_type": "code",
   "execution_count": 20,
   "metadata": {
    "collapsed": true
   },
   "outputs": [],
   "source": [
    "import numpy as np"
   ]
  },
  {
   "cell_type": "code",
   "execution_count": 21,
   "metadata": {
    "collapsed": false
   },
   "outputs": [],
   "source": [
    "X2 = np.arange(0, 20, 0.01)"
   ]
  },
  {
   "cell_type": "code",
   "execution_count": 22,
   "metadata": {
    "collapsed": true
   },
   "outputs": [],
   "source": [
    "y_estimation = ppOnduleurPV(breaks)"
   ]
  },
  {
   "cell_type": "code",
   "execution_count": 23,
   "metadata": {
    "collapsed": true
   },
   "outputs": [],
   "source": [
    "y_estimation2 = ppOnduleurPV(X2)"
   ]
  },
  {
   "cell_type": "code",
   "execution_count": 24,
   "metadata": {
    "collapsed": false
   },
   "outputs": [
    {
     "data": {
      "text/plain": [
       "<matplotlib.axes._subplots.AxesSubplot at 0x11db15510>"
      ]
     },
     "execution_count": 24,
     "metadata": {},
     "output_type": "execute_result"
    },
    {
     "data": {
      "image/png": "[encoded data removed]",
      "text/plain": [
       "<Figure size 600x400 with 1 Axes>"
      ]
     },
     "metadata": {},
     "output_type": "display_data"
    }
   ],
   "source": [
    "pd.DataFrame(data=dict(X=breaks, Y=y_estimation)).plot(x=\"X\", y=\"Y\", xlim=[0, 20], ylim=[0.8, 1],)"
   ]
  },
  {
   "cell_type": "code",
   "execution_count": 25,
   "metadata": {
    "collapsed": false
   },
   "outputs": [
    {
     "data": {
      "text/plain": [
       "<matplotlib.axes._subplots.AxesSubplot at 0x11db3d110>"
      ]
     },
     "execution_count": 25,
     "metadata": {},
     "output_type": "execute_result"
    },
    {
     "data": {
      "image/png": "[encoded data removed]",
      "text/plain": [
       "<Figure size 600x400 with 1 Axes>"
      ]
     },
     "metadata": {},
     "output_type": "display_data"
    }
   ],
   "source": [
    "pd.DataFrame(data=dict(X=X2, Y=y_estimation2)).plot(x=\"X\", y=\"Y\", xlim=[0, 20], ylim=[0.8, 1],)"
   ]
  },
  {
   "cell_type": "code",
   "execution_count": 26,
   "metadata": {
    "collapsed": false
   },
   "outputs": [
    {
     "data": {
      "text/plain": [
       "<scipy.interpolate.fitpack2.LSQUnivariateSpline at 0x10ee541d0>"
      ]
     },
     "execution_count": 26,
     "metadata": {},
     "output_type": "execute_result"
    }
   ],
   "source": [
    "ppOnduleurPV"
   ]
  },
  {
   "cell_type": "code",
   "execution_count": null,
   "metadata": {
    "collapsed": true
   },
   "outputs": [],
   "source": []
  }
 ],
 "metadata": {
  "anaconda-cloud": {},
  "kernelspec": {
   "display_name": "Python [datadriver]",
   "language": "python",
   "name": "Python [datadriver]"
  },
  "language_info": {
   "codemirror_mode": {
    "name": "ipython",
    "version": 2
   },
   "file_extension": ".py",
   "mimetype": "text/x-python",
   "name": "python",
   "nbconvert_exporter": "python",
   "pygments_lexer": "ipython2",
   "version": "2.7.14"
  }
 },
 "nbformat": 4,
 "nbformat_minor": 0
}
