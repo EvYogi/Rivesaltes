{
 "cells": [
  {
   "cell_type": "markdown",
   "metadata": {},
   "source": [
    "## Initialization code"
   ]
  },
  {
   "cell_type": "code",
   "execution_count": 1,
   "metadata": {},
   "outputs": [],
   "source": [
    "%matplotlib inline"
   ]
  },
  {
   "cell_type": "code",
   "execution_count": 2,
   "metadata": {},
   "outputs": [],
   "source": [
    "import sys\n",
    "sys.path.append('/opt/datadriver/workspace/')"
   ]
  },
  {
   "cell_type": "code",
   "execution_count": 8,
   "metadata": {},
   "outputs": [],
   "source": [
    "import sys,os,os.path\n",
    "import pickle\n",
    "import pandas as pd\n",
    "from smartgrid.microgrid.simulator import microgrid_simulator\n",
    "from smartgrid.io.export_grafana import export_to_whisper"
   ]
  },
  {
   "cell_type": "code",
   "execution_count": 9,
   "metadata": {},
   "outputs": [],
   "source": [
    "os.environ['PROJECT_HOME'] = '/opt/datadriver/workspace/'"
   ]
  },
  {
   "cell_type": "code",
   "execution_count": 17,
   "metadata": {},
   "outputs": [],
   "source": [
    "EXPORT_PATH = '../data/datadriver_data/whisper/simu_sizing/'"
   ]
  },
  {
   "cell_type": "markdown",
   "metadata": {},
   "source": [
    "## Optimization"
   ]
  },
  {
   "cell_type": "code",
   "execution_count": 33,
   "metadata": {},
   "outputs": [],
   "source": [
    "def find_optimal_parameters(coeff_charges=[1], coeff_PV=[0, 0.125, 0.25, 0.325, 0.5, 0.75, 1, 1.25],\n",
    "                            coeff_batterie=[0, 0.25, 0.5, 0.75, 1, 1.5, 2, 4],\n",
    "                            output_path='../data/simulator_sizing/',\n",
    "                            max_history=None):\n",
    "    consolidated = {\"id\": [], \"load\": [], \"pv\": [], \"battery\": []}\n",
    "    for c_charge in coeff_charges:\n",
    "        for c_pv in coeff_PV:\n",
    "            for c_bat in coeff_batterie:\n",
    "                outputs = microgrid_simulator(c_charge, c_pv, c_bat, num_points=1000, max_history=max_history)\n",
    "                Autoconsommation = outputs['Autoconsommation']\n",
    "                Autoproduction = outputs['Autoproduction']\n",
    "                print(\"Parameters Charge\", c_charge, \"PV\", c_pv, \"Battery\", c_bat)\n",
    "                print(\"=> Autoconsommation \", Autoconsommation)\n",
    "                print(\"=> Autoproduction \", Autoproduction)\n",
    "                file_key = \"simulator_sizing/%d/%d/%d/%.2lf-%.2lf\" %(c_charge * 1000, c_pv * 1000, c_bat * 1000, \n",
    "                                                                                  Autoconsommation,\n",
    "                                                                                  Autoproduction)\n",
    "                file_key = file_key.replace(\".\", \"_\")\n",
    "                file_name = output_path + file_key.replace(\"/\", \"-\")\n",
    "                with open(file_name, \"wb\") as fp:\n",
    "                    pickle.dump(outputs, fp)\n",
    "                consolidated[\"id\"].append(file_name)\n",
    "                consolidated[\"load\"].append(c_charge)\n",
    "                consolidated[\"pv\"].append(c_pv)\n",
    "                consolidated[\"battery\"].append(c_bat)\n",
    "                for key in outputs:\n",
    "                    try:\n",
    "                        val = float(outputs[key])\n",
    "                        if key not in consolidated:\n",
    "                            consolidated[key] = []\n",
    "                        consolidated[key].append(val)\n",
    "                    except:\n",
    "                        pass\n",
    "                df_ts = pd.DataFrame(data={'TU': outputs['TU'], 'P_pv_dc': outputs['P_pv_dc'],\n",
    "                                             'P_pv_dc_mpp': outputs['P_pv_dc_mpp'],\n",
    "                                            'P_limitation_PV': outputs['P_limitation_PV'],\n",
    "                                            'productionPV_AC': outputs['productionPV_AC'],\n",
    "                                            'P_ac_dispo': outputs['P_ac_dispo']})\n",
    "                export_to_whisper(df_ts, EXPORT_PATH,\n",
    "                                  file_key,\n",
    "                                  ['1m:3y', '10m:5y', '1d:10y'],\n",
    "                                  timestamp_column='TU', overwrite=True)\n",
    "    return pd.DataFrame(consolidated)"
   ]
  },
  {
   "cell_type": "code",
   "execution_count": null,
   "metadata": {},
   "outputs": [
    {
     "name": "stdout",
     "output_type": "stream",
     "text": [
      "('Parameters Charge', 1, 'PV', 0, 'Battery', 0)\n",
      "('=> Autoconsommation ', 0)\n",
      "('=> Autoproduction ', 1.0)\n"
     ]
    },
    {
     "name": "stderr",
     "output_type": "stream",
     "text": [
      "WARNING:root:Overwriting existing file: ../data/datadriver_data/whisper/simu_sizing//simulator_sizing/1000/0/0/0_00-1_00/P_ac_dispo.wsp\n",
      "WARNING:root:Overwriting existing file: ../data/datadriver_data/whisper/simu_sizing//simulator_sizing/1000/0/0/0_00-1_00/P_limitation_PV.wsp\n",
      "WARNING:root:Overwriting existing file: ../data/datadriver_data/whisper/simu_sizing//simulator_sizing/1000/0/0/0_00-1_00/P_pv_dc.wsp\n",
      "WARNING:root:Overwriting existing file: ../data/datadriver_data/whisper/simu_sizing//simulator_sizing/1000/0/0/0_00-1_00/P_pv_dc_mpp.wsp\n",
      "WARNING:root:Overwriting existing file: ../data/datadriver_data/whisper/simu_sizing//simulator_sizing/1000/0/0/0_00-1_00/productionPV_AC.wsp\n"
     ]
    },
    {
     "name": "stdout",
     "output_type": "stream",
     "text": [
      "('Parameters Charge', 1, 'PV', 0, 'Battery', 0.25)\n",
      "('=> Autoconsommation ', 0)\n",
      "('=> Autoproduction ', 1.0)\n"
     ]
    },
    {
     "name": "stderr",
     "output_type": "stream",
     "text": [
      "WARNING:root:Overwriting existing file: ../data/datadriver_data/whisper/simu_sizing//simulator_sizing/1000/0/250/0_00-1_00/P_ac_dispo.wsp\n",
      "WARNING:root:Overwriting existing file: ../data/datadriver_data/whisper/simu_sizing//simulator_sizing/1000/0/250/0_00-1_00/P_limitation_PV.wsp\n",
      "WARNING:root:Overwriting existing file: ../data/datadriver_data/whisper/simu_sizing//simulator_sizing/1000/0/250/0_00-1_00/P_pv_dc.wsp\n",
      "WARNING:root:Overwriting existing file: ../data/datadriver_data/whisper/simu_sizing//simulator_sizing/1000/0/250/0_00-1_00/P_pv_dc_mpp.wsp\n",
      "WARNING:root:Overwriting existing file: ../data/datadriver_data/whisper/simu_sizing//simulator_sizing/1000/0/250/0_00-1_00/productionPV_AC.wsp\n"
     ]
    },
    {
     "name": "stdout",
     "output_type": "stream",
     "text": [
      "('Parameters Charge', 1, 'PV', 0, 'Battery', 0.5)\n",
      "('=> Autoconsommation ', 0)\n",
      "('=> Autoproduction ', 1.0)\n"
     ]
    },
    {
     "name": "stderr",
     "output_type": "stream",
     "text": [
      "WARNING:root:Overwriting existing file: ../data/datadriver_data/whisper/simu_sizing//simulator_sizing/1000/0/500/0_00-1_00/P_ac_dispo.wsp\n",
      "WARNING:root:Overwriting existing file: ../data/datadriver_data/whisper/simu_sizing//simulator_sizing/1000/0/500/0_00-1_00/P_limitation_PV.wsp\n",
      "WARNING:root:Overwriting existing file: ../data/datadriver_data/whisper/simu_sizing//simulator_sizing/1000/0/500/0_00-1_00/P_pv_dc.wsp\n",
      "WARNING:root:Overwriting existing file: ../data/datadriver_data/whisper/simu_sizing//simulator_sizing/1000/0/500/0_00-1_00/P_pv_dc_mpp.wsp\n",
      "WARNING:root:Overwriting existing file: ../data/datadriver_data/whisper/simu_sizing//simulator_sizing/1000/0/500/0_00-1_00/productionPV_AC.wsp\n"
     ]
    },
    {
     "name": "stdout",
     "output_type": "stream",
     "text": [
      "('Parameters Charge', 1, 'PV', 0, 'Battery', 0.75)\n",
      "('=> Autoconsommation ', 0)\n",
      "('=> Autoproduction ', 1.0)\n"
     ]
    },
    {
     "name": "stderr",
     "output_type": "stream",
     "text": [
      "WARNING:root:Overwriting existing file: ../data/datadriver_data/whisper/simu_sizing//simulator_sizing/1000/0/750/0_00-1_00/P_ac_dispo.wsp\n",
      "WARNING:root:Overwriting existing file: ../data/datadriver_data/whisper/simu_sizing//simulator_sizing/1000/0/750/0_00-1_00/P_limitation_PV.wsp\n",
      "WARNING:root:Overwriting existing file: ../data/datadriver_data/whisper/simu_sizing//simulator_sizing/1000/0/750/0_00-1_00/P_pv_dc.wsp\n",
      "WARNING:root:Overwriting existing file: ../data/datadriver_data/whisper/simu_sizing//simulator_sizing/1000/0/750/0_00-1_00/P_pv_dc_mpp.wsp\n",
      "WARNING:root:Overwriting existing file: ../data/datadriver_data/whisper/simu_sizing//simulator_sizing/1000/0/750/0_00-1_00/productionPV_AC.wsp\n"
     ]
    },
    {
     "name": "stdout",
     "output_type": "stream",
     "text": [
      "('Parameters Charge', 1, 'PV', 0, 'Battery', 1)\n",
      "('=> Autoconsommation ', 0)\n",
      "('=> Autoproduction ', 1.0)\n"
     ]
    },
    {
     "name": "stderr",
     "output_type": "stream",
     "text": [
      "WARNING:root:Overwriting existing file: ../data/datadriver_data/whisper/simu_sizing//simulator_sizing/1000/0/1000/0_00-1_00/P_ac_dispo.wsp\n",
      "WARNING:root:Overwriting existing file: ../data/datadriver_data/whisper/simu_sizing//simulator_sizing/1000/0/1000/0_00-1_00/P_limitation_PV.wsp\n",
      "WARNING:root:Overwriting existing file: ../data/datadriver_data/whisper/simu_sizing//simulator_sizing/1000/0/1000/0_00-1_00/P_pv_dc.wsp\n",
      "WARNING:root:Overwriting existing file: ../data/datadriver_data/whisper/simu_sizing//simulator_sizing/1000/0/1000/0_00-1_00/P_pv_dc_mpp.wsp\n",
      "WARNING:root:Overwriting existing file: ../data/datadriver_data/whisper/simu_sizing//simulator_sizing/1000/0/1000/0_00-1_00/productionPV_AC.wsp\n"
     ]
    },
    {
     "name": "stdout",
     "output_type": "stream",
     "text": [
      "('Parameters Charge', 1, 'PV', 0, 'Battery', 1.5)\n",
      "('=> Autoconsommation ', 0)\n",
      "('=> Autoproduction ', 1.0)\n"
     ]
    },
    {
     "name": "stderr",
     "output_type": "stream",
     "text": [
      "WARNING:root:Overwriting existing file: ../data/datadriver_data/whisper/simu_sizing//simulator_sizing/1000/0/1500/0_00-1_00/P_ac_dispo.wsp\n",
      "WARNING:root:Overwriting existing file: ../data/datadriver_data/whisper/simu_sizing//simulator_sizing/1000/0/1500/0_00-1_00/P_limitation_PV.wsp\n",
      "WARNING:root:Overwriting existing file: ../data/datadriver_data/whisper/simu_sizing//simulator_sizing/1000/0/1500/0_00-1_00/P_pv_dc.wsp\n",
      "WARNING:root:Overwriting existing file: ../data/datadriver_data/whisper/simu_sizing//simulator_sizing/1000/0/1500/0_00-1_00/P_pv_dc_mpp.wsp\n",
      "WARNING:root:Overwriting existing file: ../data/datadriver_data/whisper/simu_sizing//simulator_sizing/1000/0/1500/0_00-1_00/productionPV_AC.wsp\n"
     ]
    },
    {
     "name": "stdout",
     "output_type": "stream",
     "text": [
      "('Parameters Charge', 1, 'PV', 0, 'Battery', 2)\n",
      "('=> Autoconsommation ', 0)\n",
      "('=> Autoproduction ', 1.0)\n"
     ]
    },
    {
     "name": "stderr",
     "output_type": "stream",
     "text": [
      "WARNING:root:Overwriting existing file: ../data/datadriver_data/whisper/simu_sizing//simulator_sizing/1000/0/2000/0_00-1_00/P_ac_dispo.wsp\n",
      "WARNING:root:Overwriting existing file: ../data/datadriver_data/whisper/simu_sizing//simulator_sizing/1000/0/2000/0_00-1_00/P_limitation_PV.wsp\n",
      "WARNING:root:Overwriting existing file: ../data/datadriver_data/whisper/simu_sizing//simulator_sizing/1000/0/2000/0_00-1_00/P_pv_dc.wsp\n",
      "WARNING:root:Overwriting existing file: ../data/datadriver_data/whisper/simu_sizing//simulator_sizing/1000/0/2000/0_00-1_00/P_pv_dc_mpp.wsp\n",
      "WARNING:root:Overwriting existing file: ../data/datadriver_data/whisper/simu_sizing//simulator_sizing/1000/0/2000/0_00-1_00/productionPV_AC.wsp\n"
     ]
    },
    {
     "name": "stdout",
     "output_type": "stream",
     "text": [
      "('Parameters Charge', 1, 'PV', 0, 'Battery', 4)\n",
      "('=> Autoconsommation ', 0)\n",
      "('=> Autoproduction ', 1.0)\n"
     ]
    },
    {
     "name": "stderr",
     "output_type": "stream",
     "text": [
      "WARNING:root:Overwriting existing file: ../data/datadriver_data/whisper/simu_sizing//simulator_sizing/1000/0/4000/0_00-1_00/P_ac_dispo.wsp\n",
      "WARNING:root:Overwriting existing file: ../data/datadriver_data/whisper/simu_sizing//simulator_sizing/1000/0/4000/0_00-1_00/P_limitation_PV.wsp\n",
      "WARNING:root:Overwriting existing file: ../data/datadriver_data/whisper/simu_sizing//simulator_sizing/1000/0/4000/0_00-1_00/P_pv_dc.wsp\n",
      "WARNING:root:Overwriting existing file: ../data/datadriver_data/whisper/simu_sizing//simulator_sizing/1000/0/4000/0_00-1_00/P_pv_dc_mpp.wsp\n",
      "WARNING:root:Overwriting existing file: ../data/datadriver_data/whisper/simu_sizing//simulator_sizing/1000/0/4000/0_00-1_00/productionPV_AC.wsp\n"
     ]
    },
    {
     "name": "stdout",
     "output_type": "stream",
     "text": [
      "('Parameters Charge', 1, 'PV', 0.125, 'Battery', 0)\n",
      "('=> Autoconsommation ', 1.0974004682303524)\n",
      "('=> Autoproduction ', 1.0)\n",
      "('Parameters Charge', 1, 'PV', 0.125, 'Battery', 0.25)\n",
      "('=> Autoconsommation ', 1.0974004682303524)\n",
      "('=> Autoproduction ', 1.0)\n",
      "('Parameters Charge', 1, 'PV', 0.125, 'Battery', 0.5)\n",
      "('=> Autoconsommation ', 1.0974004682303524)\n",
      "('=> Autoproduction ', 1.0)\n",
      "('Parameters Charge', 1, 'PV', 0.125, 'Battery', 0.75)\n",
      "('=> Autoconsommation ', 1.0974004682303524)\n",
      "('=> Autoproduction ', 1.0)\n",
      "('Parameters Charge', 1, 'PV', 0.125, 'Battery', 1)\n",
      "('=> Autoconsommation ', 1.0974004682303524)\n",
      "('=> Autoproduction ', 1.0)\n",
      "('Parameters Charge', 1, 'PV', 0.125, 'Battery', 1.5)\n",
      "('=> Autoconsommation ', 1.0974004682303524)\n",
      "('=> Autoproduction ', 1.0)\n",
      "('Parameters Charge', 1, 'PV', 0.125, 'Battery', 2)\n",
      "('=> Autoconsommation ', 1.0974004682303524)\n",
      "('=> Autoproduction ', 1.0)\n",
      "('Parameters Charge', 1, 'PV', 0.125, 'Battery', 4)\n",
      "('=> Autoconsommation ', 1.0974004682303524)\n",
      "('=> Autoproduction ', 1.0)\n",
      "('Parameters Charge', 1, 'PV', 0.25, 'Battery', 0)\n",
      "('=> Autoconsommation ', 0.54870023411517621)\n",
      "('=> Autoproduction ', 1.0)\n",
      "('Parameters Charge', 1, 'PV', 0.25, 'Battery', 0.25)\n",
      "('=> Autoconsommation ', 0.54870023411517621)\n",
      "('=> Autoproduction ', 1.0)\n",
      "('Parameters Charge', 1, 'PV', 0.25, 'Battery', 0.5)\n",
      "('=> Autoconsommation ', 0.54870023411517621)\n",
      "('=> Autoproduction ', 1.0)\n",
      "('Parameters Charge', 1, 'PV', 0.25, 'Battery', 0.75)\n",
      "('=> Autoconsommation ', 0.54870023411517621)\n",
      "('=> Autoproduction ', 1.0)\n",
      "('Parameters Charge', 1, 'PV', 0.25, 'Battery', 1)\n",
      "('=> Autoconsommation ', 0.54870023411517621)\n",
      "('=> Autoproduction ', 1.0)\n",
      "('Parameters Charge', 1, 'PV', 0.25, 'Battery', 1.5)\n",
      "('=> Autoconsommation ', 0.54870023411517621)\n",
      "('=> Autoproduction ', 1.0)\n",
      "('Parameters Charge', 1, 'PV', 0.25, 'Battery', 2)\n",
      "('=> Autoconsommation ', 0.54870023411517621)\n",
      "('=> Autoproduction ', 1.0)\n",
      "('Parameters Charge', 1, 'PV', 0.25, 'Battery', 4)\n",
      "('=> Autoconsommation ', 0.54870023411517621)\n",
      "('=> Autoproduction ', 1.0)\n",
      "('Parameters Charge', 1, 'PV', 0.325, 'Battery', 0)\n",
      "('=> Autoconsommation ', 0.42207710316552016)\n",
      "('=> Autoproduction ', 1.0)\n",
      "('Parameters Charge', 1, 'PV', 0.325, 'Battery', 0.25)\n",
      "('=> Autoconsommation ', 0.42207710316552016)\n",
      "('=> Autoproduction ', 1.0)\n",
      "('Parameters Charge', 1, 'PV', 0.325, 'Battery', 0.5)\n",
      "('=> Autoconsommation ', 0.42207710316552016)\n",
      "('=> Autoproduction ', 1.0)\n",
      "('Parameters Charge', 1, 'PV', 0.325, 'Battery', 0.75)\n",
      "('=> Autoconsommation ', 0.42207710316552016)\n",
      "('=> Autoproduction ', 1.0)\n",
      "('Parameters Charge', 1, 'PV', 0.325, 'Battery', 1)\n",
      "('=> Autoconsommation ', 0.42207710316552016)\n",
      "('=> Autoproduction ', 1.0)\n",
      "('Parameters Charge', 1, 'PV', 0.325, 'Battery', 1.5)\n",
      "('=> Autoconsommation ', 0.42207710316552016)\n",
      "('=> Autoproduction ', 1.0)\n",
      "('Parameters Charge', 1, 'PV', 0.325, 'Battery', 2)\n",
      "('=> Autoconsommation ', 0.42207710316552016)\n",
      "('=> Autoproduction ', 1.0)\n",
      "('Parameters Charge', 1, 'PV', 0.325, 'Battery', 4)\n",
      "('=> Autoconsommation ', 0.42207710316552016)\n",
      "('=> Autoproduction ', 1.0)\n",
      "('Parameters Charge', 1, 'PV', 0.5, 'Battery', 0)\n",
      "('=> Autoconsommation ', 0.27435011705758811)\n",
      "('=> Autoproduction ', 1.0)\n",
      "('Parameters Charge', 1, 'PV', 0.5, 'Battery', 0.25)\n",
      "('=> Autoconsommation ', 0.27435011705758811)\n",
      "('=> Autoproduction ', 1.0)\n",
      "('Parameters Charge', 1, 'PV', 0.5, 'Battery', 0.5)\n",
      "('=> Autoconsommation ', 0.27435011705758811)\n",
      "('=> Autoproduction ', 1.0)\n",
      "('Parameters Charge', 1, 'PV', 0.5, 'Battery', 0.75)\n",
      "('=> Autoconsommation ', 0.27435011705758811)\n",
      "('=> Autoproduction ', 1.0)\n",
      "('Parameters Charge', 1, 'PV', 0.5, 'Battery', 1)\n",
      "('=> Autoconsommation ', 0.27435011705758811)\n",
      "('=> Autoproduction ', 1.0)\n",
      "('Parameters Charge', 1, 'PV', 0.5, 'Battery', 1.5)\n",
      "('=> Autoconsommation ', 0.27435011705758811)\n",
      "('=> Autoproduction ', 1.0)\n"
     ]
    }
   ],
   "source": [
    "conso = find_optimal_parameters(max_history=100000)"
   ]
  },
  {
   "cell_type": "code",
   "execution_count": 27,
   "metadata": {},
   "outputs": [],
   "source": [
    "df2 = conso.pivot(index='battery', columns='pv', values='Eauxiliaires')"
   ]
  },
  {
   "cell_type": "code",
   "execution_count": 29,
   "metadata": {},
   "outputs": [
    {
     "data": {
      "text/plain": [
       "<matplotlib.axes._subplots.AxesSubplot at 0x11272aa10>"
      ]
     },
     "execution_count": 29,
     "metadata": {},
     "output_type": "execute_result"
    },
    {
     "data": {
      "image/png": "[encoded data removed]",
      "text/plain": [
       "<Figure size 800x550 with 2 Axes>"
      ]
     },
     "metadata": {},
     "output_type": "display_data"
    }
   ],
   "source": [
    "seaborn.heatmap(df2)"
   ]
  },
  {
   "cell_type": "code",
   "execution_count": null,
   "metadata": {
    "collapsed": true
   },
   "outputs": [],
   "source": []
  }
 ],
 "metadata": {
  "anaconda-cloud": {},
  "kernelspec": {
   "display_name": "Python [conda env:datadriver]",
   "language": "python",
   "name": "conda-env-datadriver-py"
  },
  "language_info": {
   "codemirror_mode": {
    "name": "ipython",
    "version": 2
   },
   "file_extension": ".py",
   "mimetype": "text/x-python",
   "name": "python",
   "nbconvert_exporter": "python",
   "pygments_lexer": "ipython2",
   "version": "2.7.15"
  }
 },
 "nbformat": 4,
 "nbformat_minor": 1
}
