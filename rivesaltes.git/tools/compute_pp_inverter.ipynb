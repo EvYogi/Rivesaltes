{
 "cells": [
  {
   "cell_type": "markdown",
   "metadata": {},
   "source": [
    "# Code"
   ]
  },
  {
   "cell_type": "code",
   "execution_count": 11,
   "metadata": {
    "init_cell": true
   },
   "outputs": [],
   "source": [
    "import os, sys\n",
    "\n",
    "ROOT_PATH = os.getenv(\"PROJECT_HOME\")\n",
    "\n",
    "if ROOT_PATH is None:\n",
    "    ROOT_PATH = '/opt/datadriver/workspace/'\n",
    "sys.path.append(ROOT_PATH)\n",
    "\n",
    "import pandas as pd\n",
    "import glob\n",
    "from smartgrid.microgrid.inverter import ares_load, ares_preprocessing, fit_inverter_spline, save_pp_inverter, load_s3_ares_data\n",
    "from ipywidgets import IntSlider, Label\n",
    "from ipywidgets.embed import embed_minimal_html\n",
    "import ipywidgets as widgets\n",
    "from ipywidgets import interact, interactive, fixed, interact_manual"
   ]
  },
  {
   "cell_type": "code",
   "execution_count": 12,
   "metadata": {
    "init_cell": true
   },
   "outputs": [],
   "source": [
    "ares = None\n",
    "\n",
    "def load():\n",
    "    global ares\n",
    "    ares = ares_load(glob.glob('/opt/datadriver/workspace/data/raw/ares_history/*.zip'))\n",
    "    return ares.head()"
   ]
  },
  {
   "cell_type": "code",
   "execution_count": 13,
   "metadata": {
    "init_cell": true
   },
   "outputs": [],
   "source": [
    "def compute_inverter():\n",
    "    global ares\n",
    "    \n",
    "    if ares is None:\n",
    "        load()\n",
    "    return save_pp_inverter(ares, output_path='/opt/datadriver/workspace/data/models/ppInverter.pk')"
   ]
  },
  {
   "cell_type": "code",
   "execution_count": 16,
   "metadata": {
    "init_cell": true
   },
   "outputs": [
    {
     "data": {
      "application/vnd.jupyter.widget-view+json": {
       "model_id": "76e9d40f4d7742a98545d2851f37c7f9",
       "version_major": 2,
       "version_minor": 0
      },
      "text/plain": [
       "aW50ZXJhY3RpdmUoY2hpbGRyZW49KEJ1dHRvbihkZXNjcmlwdGlvbj11J1J1biBJbnRlcmFjdCcsIHN0eWxlPUJ1dHRvblN0eWxlKCkpLCBPdXRwdXQoKSksIF9kb21fY2xhc3Nlcz0odSd3aWTigKY=\n"
      ]
     },
     "metadata": {},
     "output_type": "display_data"
    },
    {
     "data": {
      "application/vnd.jupyter.widget-view+json": {
       "model_id": "932c413b081f4b6e9bc7064a904ac295",
       "version_major": 2,
       "version_minor": 0
      },
      "text/plain": [
       "aW50ZXJhY3RpdmUoY2hpbGRyZW49KEJ1dHRvbihkZXNjcmlwdGlvbj11J1J1biBJbnRlcmFjdCcsIHN0eWxlPUJ1dHRvblN0eWxlKCkpLCBPdXRwdXQoKSksIF9kb21fY2xhc3Nlcz0odSd3aWTigKY=\n"
      ]
     },
     "metadata": {},
     "output_type": "display_data"
    }
   ],
   "source": [
    "tab = widgets.Tab()\n",
    "\n",
    "names = ['Data', 'Model']\n",
    "tab.children = [\n",
    "    widgets.VBox(\n",
    "        [Label(\"Load ares historical data\"),\n",
    "         interact_manual(load).widget\n",
    "        ]\n",
    "    ),\n",
    "    widgets.VBox([\n",
    "        Label(\"Computer inverter model\"),\n",
    "        interact_manual(compute_inverter).widget\n",
    "    ]\n",
    "    )\n",
    "]\n",
    "\n",
    "for i in range(len(tab.children)):\n",
    "    tab.set_title(i, names[i])\n",
    "    \n",
    "items = []\n",
    "items.append(Label(\"Retrain Inverter model\"))\n",
    "items.append(tab)\n",
    "\n",
    "ui = widgets.VBox(items)"
   ]
  },
  {
   "cell_type": "markdown",
   "metadata": {},
   "source": [
    "# UI"
   ]
  },
  {
   "cell_type": "code",
   "execution_count": 15,
   "metadata": {
    "init_cell": true
   },
   "outputs": [
    {
     "data": {
      "application/vnd.jupyter.widget-view+json": {
       "model_id": "7ec157bbb8774009a9d79460a16be357",
       "version_major": 2,
       "version_minor": 0
      },
      "text/plain": [
       "VkJveChjaGlsZHJlbj0oTGFiZWwodmFsdWU9dSdSZXRyYWluIEludmVydGVyIG1vZGVsJyksIFRhYihjaGlsZHJlbj0oVkJveChjaGlsZHJlbj0oTGFiZWwodmFsdWU9dSdMb2FkIGFyZXMgaGnigKY=\n"
      ]
     },
     "metadata": {},
     "output_type": "display_data"
    }
   ],
   "source": [
    "ui"
   ]
  },
  {
   "cell_type": "code",
   "execution_count": null,
   "metadata": {},
   "outputs": [],
   "source": []
  }
 ],
 "metadata": {
  "celltoolbar": "Initialization Cell",
  "hide_input": true,
  "kernelspec": {
   "display_name": "Python [conda env:datadriver]",
   "language": "python",
   "name": "conda-env-datadriver-py"
  },
  "language_info": {
   "codemirror_mode": {
    "name": "ipython",
    "version": 2
   },
   "file_extension": ".py",
   "mimetype": "text/x-python",
   "name": "python",
   "nbconvert_exporter": "python",
   "pygments_lexer": "ipython2",
   "version": "2.7.15"
  }
 },
 "nbformat": 4,
 "nbformat_minor": 1
}
