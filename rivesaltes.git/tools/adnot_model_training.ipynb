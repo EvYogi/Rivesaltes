{
 "cells": [
  {
   "cell_type": "code",
   "execution_count": 2,
   "metadata": {
    "collapsed": true
   },
   "outputs": [],
   "source": [
    "import h5py\n",
    "import io\n",
    "import matplotlib.pyplot as plt\n",
    "#%matplotlib nbagg\n",
    "import numpy as np\n",
    "#import matplotlib.image as mpimg\n",
    "from PIL import Image\n",
    "import urllib\n",
    "import os\n",
    "import pandas as pd\n",
    "import scipy.io\n",
    "from smartgrid.image_processing.solar_angles_computation import *\n",
    "import datetime"
   ]
  },
  {
   "cell_type": "code",
   "execution_count": 3,
   "metadata": {
    "collapsed": true
   },
   "outputs": [],
   "source": [
    "CMS = pd.read_csv('./SolarForecasting_Matlab_Octo/databases/CMS_EXP_Walon_Donnees_1minute.dat',skiprows=[0,2,3],low_memory=False)"
   ]
  },
  {
   "cell_type": "code",
   "execution_count": 4,
   "metadata": {
    "collapsed": true
   },
   "outputs": [],
   "source": [
    "threshold_std = scipy.io.loadmat('./SolarForecasting_Matlab_Octo/databases/threshold_std.mat')['threshold_std']"
   ]
  },
  {
   "cell_type": "code",
   "execution_count": 5,
   "metadata": {
    "collapsed": true
   },
   "outputs": [],
   "source": [
    "adnot_data = pd.read_csv('./andot_data.csv')\n",
    "latitude = np.array([[42.7983]])\n",
    "longitude = np.array([[2.8856]])\n",
    "adnot_data.date = adnot_data.date.apply(lambda x : pd.to_datetime(x[:19]))\n",
    "adnot_data.index = adnot_data.date\n",
    "adnot_data = pd.DataFrame(adnot_data.resample('1Min').pad())"
   ]
  },
  {
   "cell_type": "code",
   "execution_count": 6,
   "metadata": {},
   "outputs": [
    {
     "name": "stderr",
     "output_type": "stream",
     "text": [
      "/Users/thomas/anaconda3/envs/rivesaltes/lib/python3.6/site-packages/pandas/core/generic.py:4401: SettingWithCopyWarning: \n",
      "A value is trying to be set on a copy of a slice from a DataFrame.\n",
      "Try using .loc[row_indexer,col_indexer] = value instead\n",
      "\n",
      "See the caveats in the documentation: http://pandas.pydata.org/pandas-docs/stable/indexing.html#indexing-view-versus-copy\n",
      "  self[name] = value\n"
     ]
    }
   ],
   "source": [
    "GHI = CMS[['TIMESTAMP','RG_moy_0_I']]\n",
    "GHI.TIMESTAMP = pd.to_datetime(GHI.TIMESTAMP)\n",
    "adnot = pd.merge(left=adnot_data, right=GHI, left_on=adnot_data.index, right_on = 'TIMESTAMP').drop('date',1)"
   ]
  },
  {
   "cell_type": "code",
   "execution_count": 7,
   "metadata": {},
   "outputs": [
    {
     "name": "stderr",
     "output_type": "stream",
     "text": [
      "/Users/thomas/Documents/Riversaltes/rivesaltes/smartgrid/image_processing/solar_angles_computation.py:48: RuntimeWarning: invalid value encountered in arccos\n",
      "  * np.sin(latitude * np.pi / 180) * np.cos(hour_angle)) / np.sin(zenith))\n"
     ]
    }
   ],
   "source": [
    "angles = [solar_angles_computation(np.datetime64(timestamp), latitude=latitude, longitude=longitude) for timestamp in adnot.TIMESTAMP]\n",
    "azimuth = list()\n",
    "zenith = list()\n",
    "for element in angles : \n",
    "    zenith.append(element[0][0][0])\n",
    "    azimuth.append(element[1][0][0])\n",
    "adnot['azimuth'] = azimuth\n",
    "adnot['zenith'] = zenith"
   ]
  },
  {
   "cell_type": "code",
   "execution_count": 8,
   "metadata": {
    "collapsed": true
   },
   "outputs": [],
   "source": [
    "adnot.index = adnot.TIMESTAMP\n",
    "adnot.drop('TIMESTAMP',1,inplace=True)"
   ]
  },
  {
   "cell_type": "code",
   "execution_count": 9,
   "metadata": {},
   "outputs": [
    {
     "name": "stderr",
     "output_type": "stream",
     "text": [
      "/Users/thomas/anaconda3/envs/rivesaltes/lib/python3.6/site-packages/ipykernel/__main__.py:1: FutureWarning: pd.TimeGrouper is deprecated and will be removed; Please use pd.Grouper(freq=...)\n",
      "  if __name__ == '__main__':\n"
     ]
    }
   ],
   "source": [
    "adnot['std'] = adnot.groupby(pd.TimeGrouper(freq='15Min', base=30, label='right')).std()['RG_moy_0_I']"
   ]
  },
  {
   "cell_type": "code",
   "execution_count": 10,
   "metadata": {
    "collapsed": true
   },
   "outputs": [],
   "source": [
    "adnot['std']=  adnot['std'].fillna(method='backfill')"
   ]
  },
  {
   "cell_type": "code",
   "execution_count": 11,
   "metadata": {},
   "outputs": [
    {
     "data": {
      "text/plain": [
       "(800084, 5)"
      ]
     },
     "execution_count": 11,
     "metadata": {},
     "output_type": "execute_result"
    }
   ],
   "source": [
    "adnot.shape"
   ]
  },
  {
   "cell_type": "markdown",
   "metadata": {},
   "source": [
    "## 1er critere"
   ]
  },
  {
   "cell_type": "code",
   "execution_count": 12,
   "metadata": {},
   "outputs": [
    {
     "data": {
      "text/plain": [
       "(112924, 5)"
      ]
     },
     "execution_count": 12,
     "metadata": {},
     "output_type": "execute_result"
    }
   ],
   "source": [
    "threshold_CI = 0.1\n",
    "adnot = adnot[adnot.cloud_index_walon_gps > threshold_CI]\n",
    "adnot.shape"
   ]
  },
  {
   "cell_type": "markdown",
   "metadata": {},
   "source": [
    "## 2eme critere"
   ]
  },
  {
   "cell_type": "code",
   "execution_count": 13,
   "metadata": {},
   "outputs": [
    {
     "name": "stderr",
     "output_type": "stream",
     "text": [
      "/Users/thomas/anaconda3/envs/rivesaltes/lib/python3.6/site-packages/ipykernel/__main__.py:1: FutureWarning: pd.TimeGrouper is deprecated and will be removed; Please use pd.Grouper(freq=...)\n",
      "  if __name__ == '__main__':\n",
      "/Users/thomas/anaconda3/envs/rivesaltes/lib/python3.6/site-packages/ipykernel/__main__.py:2: FutureWarning: pd.TimeGrouper is deprecated and will be removed; Please use pd.Grouper(freq=...)\n",
      "  from ipykernel import kernelapp as app\n"
     ]
    }
   ],
   "source": [
    "adnot['Y_model_max'] = adnot.groupby(pd.TimeGrouper(freq='15Min', base=30, label='right')).apply(lambda x : np.polyval(threshold_std[1,:],abs(np.sin(np.deg2rad(x.azimuth.mean())))))\n",
    "adnot['Y_model_min'] = adnot.groupby(pd.TimeGrouper(freq='15Min', base=30, label='right')).apply(lambda x : np.polyval(threshold_std[0,:],abs(np.sin(np.deg2rad(x.azimuth.mean())))))"
   ]
  },
  {
   "cell_type": "code",
   "execution_count": 14,
   "metadata": {
    "collapsed": true
   },
   "outputs": [],
   "source": [
    "adnot['Y_model_max']=  adnot['Y_model_max'].fillna(method='backfill')\n",
    "adnot['Y_model_min']=  adnot['Y_model_min'].fillna(method='backfill')"
   ]
  },
  {
   "cell_type": "code",
   "execution_count": 15,
   "metadata": {
    "collapsed": true
   },
   "outputs": [],
   "source": [
    "adnot = adnot[(adnot['std']<adnot.Y_model_max) & (adnot['std']>adnot.Y_model_min)]"
   ]
  },
  {
   "cell_type": "code",
   "execution_count": 16,
   "metadata": {},
   "outputs": [
    {
     "data": {
      "text/plain": [
       "(62208, 7)"
      ]
     },
     "execution_count": 16,
     "metadata": {},
     "output_type": "execute_result"
    }
   ],
   "source": [
    "adnot.shape"
   ]
  },
  {
   "cell_type": "markdown",
   "metadata": {},
   "source": [
    "## 3eme critere"
   ]
  },
  {
   "cell_type": "code",
   "execution_count": 17,
   "metadata": {
    "collapsed": true
   },
   "outputs": [],
   "source": [
    "adnot['date'] = adnot.index"
   ]
  },
  {
   "cell_type": "code",
   "execution_count": 18,
   "metadata": {
    "collapsed": true
   },
   "outputs": [],
   "source": [
    "adnot['shift'] =  adnot.date.shift(-60) - adnot.date "
   ]
  },
  {
   "cell_type": "code",
   "execution_count": 19,
   "metadata": {
    "collapsed": true
   },
   "outputs": [],
   "source": [
    "adnot_final = adnot[adnot['shift'] <= datetime.timedelta(hours=1)]"
   ]
  },
  {
   "cell_type": "code",
   "execution_count": 20,
   "metadata": {
    "collapsed": true
   },
   "outputs": [],
   "source": [
    "adnot_final = adnot_final.replace([np.inf, -np.inf], np.nan).dropna()"
   ]
  },
  {
   "cell_type": "code",
   "execution_count": 21,
   "metadata": {
    "collapsed": true,
    "scrolled": true
   },
   "outputs": [],
   "source": [
    "adnot_final['date'] = adnot_final.date.dt.dayofyear"
   ]
  },
  {
   "cell_type": "code",
   "execution_count": 22,
   "metadata": {
    "collapsed": true
   },
   "outputs": [],
   "source": [
    "adnot_final.date = adnot_final.date.astype('float')"
   ]
  },
  {
   "cell_type": "code",
   "execution_count": 23,
   "metadata": {
    "collapsed": true
   },
   "outputs": [],
   "source": [
    "adnot_final = adnot_final[~adnot_final.index.duplicated(keep='first')]"
   ]
  },
  {
   "cell_type": "markdown",
   "metadata": {},
   "source": [
    "## Calcul des paramètres pour adnot"
   ]
  },
  {
   "cell_type": "code",
   "execution_count": 24,
   "metadata": {
    "collapsed": true
   },
   "outputs": [],
   "source": [
    "from scipy.optimize import curve_fit"
   ]
  },
  {
   "cell_type": "code",
   "execution_count": 25,
   "metadata": {
    "collapsed": true
   },
   "outputs": [],
   "source": [
    "def compute_GHI(df,p1,p2,p3,p4,p5,p6) : \n",
    "    doy = np.array(df.date)\n",
    "    zenith = np.array(df.zenith)\n",
    "    return (p1 * np.cos(np.deg2rad(360 / 365.25 * doy + p2)) + p3) * np.cos(np.deg2rad(zenith)) ** (p4 * np.cos(np.deg2rad(360 / 365.25 * doy + p5)) + p6)"
   ]
  },
  {
   "cell_type": "code",
   "execution_count": 26,
   "metadata": {
    "collapsed": true
   },
   "outputs": [],
   "source": [
    "y = np.array(adnot_final[(adnot_final.date==145) | (adnot_final.date==289)].RG_moy_0_I)\n",
    "x = adnot_final[(adnot_final.date==145) | (adnot_final.date==289)]\n",
    "popt, pcov =curve_fit(f=compute_GHI,xdata=x,ydata=y,bounds=[-2,[100, -1.0, 1500, 0.1, 100, 2]])"
   ]
  },
  {
   "cell_type": "code",
   "execution_count": 27,
   "metadata": {},
   "outputs": [
    {
     "data": {
      "text/plain": [
       "array([ 8.20630791e+01, -1.13556174e+00,  1.15810318e+03,  1.56397451e-02,\n",
       "        1.07080192e+01,  1.20840451e+00])"
      ]
     },
     "execution_count": 27,
     "metadata": {},
     "output_type": "execute_result"
    }
   ],
   "source": [
    "popt"
   ]
  },
  {
   "cell_type": "code",
   "execution_count": 28,
   "metadata": {
    "collapsed": true
   },
   "outputs": [],
   "source": [
    "popt_old = scipy.io.loadmat('./SolarForecasting_Matlab_Octo/databases/pAdnotClearskyModel.mat')['pAdnotClearskyModel']"
   ]
  },
  {
   "cell_type": "code",
   "execution_count": 29,
   "metadata": {},
   "outputs": [
    {
     "data": {
      "text/plain": [
       "array([[ 9.75054081e+01],\n",
       "       [-1.12991172e+01],\n",
       "       [ 1.12783268e+03],\n",
       "       [ 6.15340187e-03],\n",
       "       [ 3.42894626e+01],\n",
       "       [ 1.18527654e+00]])"
      ]
     },
     "execution_count": 29,
     "metadata": {},
     "output_type": "execute_result"
    }
   ],
   "source": [
    "popt_old"
   ]
  },
  {
   "cell_type": "code",
   "execution_count": 30,
   "metadata": {},
   "outputs": [
    {
     "data": {
      "text/plain": [
       "[<matplotlib.lines.Line2D at 0x115ec27f0>]"
      ]
     },
     "execution_count": 30,
     "metadata": {},
     "output_type": "execute_result"
    },
    {
     "data": {
      "image/png": "[encoded data removed]",
      "text/plain": [
       "<Figure size 432x288 with 1 Axes>"
      ]
     },
     "metadata": {},
     "output_type": "display_data"
    }
   ],
   "source": [
    "plt.plot(compute_GHI(x, *popt))"
   ]
  },
  {
   "cell_type": "code",
   "execution_count": 31,
   "metadata": {},
   "outputs": [
    {
     "data": {
      "text/plain": [
       "<matplotlib.axes._subplots.AxesSubplot at 0x1160482e8>"
      ]
     },
     "execution_count": 31,
     "metadata": {},
     "output_type": "execute_result"
    },
    {
     "data": {
      "image/png": "[encoded data removed]",
      "text/plain": [
       "<Figure size 432x288 with 1 Axes>"
      ]
     },
     "metadata": {},
     "output_type": "display_data"
    }
   ],
   "source": [
    "adnot_final[(adnot_final.date==145) | (adnot_final.date==289)].RG_moy_0_I.plot()"
   ]
  },
  {
   "cell_type": "code",
   "execution_count": 32,
   "metadata": {},
   "outputs": [
    {
     "data": {
      "text/plain": [
       "<matplotlib.axes._subplots.AxesSubplot at 0x115e5fe10>"
      ]
     },
     "execution_count": 32,
     "metadata": {},
     "output_type": "execute_result"
    },
    {
     "data": {
      "image/png": "[encoded data removed]",
      "text/plain": [
       "<Figure size 432x288 with 1 Axes>"
      ]
     },
     "metadata": {},
     "output_type": "display_data"
    }
   ],
   "source": [
    "adnot_final[(adnot_final.date==145) | (adnot_final.date==289)].zenith.plot()"
   ]
  },
  {
   "cell_type": "code",
   "execution_count": 33,
   "metadata": {},
   "outputs": [
    {
     "data": {
      "text/plain": [
       "74.25805478146279"
      ]
     },
     "execution_count": 33,
     "metadata": {},
     "output_type": "execute_result"
    }
   ],
   "source": [
    "p1 = popt[0]\n",
    "p2 = popt[1]\n",
    "p3 = popt[2]\n",
    "p4 = popt[3]\n",
    "p5 = popt[4]\n",
    "p6 = popt[5]\n",
    "\n",
    "doy = adnot_final.date[0]\n",
    "zenith = adnot_final.zenith[0]\n",
    "(p1 * np.cos(np.deg2rad(360 / 365.25 * doy + p2)) + p3) * np.cos(np.deg2rad(zenith)) ** (p4 * np.cos(np.deg2rad(360 / 365.25 * doy + p5)) + p6)"
   ]
  },
  {
   "cell_type": "code",
   "execution_count": 34,
   "metadata": {},
   "outputs": [
    {
     "data": {
      "text/plain": [
       "array([75.29435968])"
      ]
     },
     "execution_count": 34,
     "metadata": {},
     "output_type": "execute_result"
    }
   ],
   "source": [
    "p1 = popt_old[0]\n",
    "p2 = popt_old[1]\n",
    "p3 = popt_old[2]\n",
    "p4 = popt_old[3]\n",
    "p5 = popt_old[4]\n",
    "p6 = popt_old[5]\n",
    "\n",
    "doy = adnot_final.date[0]\n",
    "zenith = adnot_final.zenith[0]\n",
    "(p1 * np.cos(np.deg2rad(360 / 365.25 * doy + p2)) + p3) * np.cos(np.deg2rad(zenith)) ** (p4 * np.cos(np.deg2rad(360 / 365.25 * doy + p5)) + p6)"
   ]
  },
  {
   "cell_type": "code",
   "execution_count": null,
   "metadata": {
    "collapsed": true
   },
   "outputs": [],
   "source": []
  }
 ],
 "metadata": {
  "hide_input": false,
  "kernelspec": {
   "display_name": "Python 3",
   "language": "python",
   "name": "python3"
  },
  "language_info": {
   "codemirror_mode": {
    "name": "ipython",
    "version": 3
   },
   "file_extension": ".py",
   "mimetype": "text/x-python",
   "name": "python",
   "nbconvert_exporter": "python",
   "pygments_lexer": "ipython3",
   "version": "3.6.3"
  }
 },
 "nbformat": 4,
 "nbformat_minor": 2
}
