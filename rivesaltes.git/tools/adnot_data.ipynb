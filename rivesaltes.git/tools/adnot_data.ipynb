{
 "cells": [
  {
   "cell_type": "code",
   "execution_count": 1,
   "metadata": {
    "collapsed": true
   },
   "outputs": [],
   "source": [
    "import boto3\n",
    "import matplotlib.pyplot as plt\n",
    "import re\n",
    "import os\n",
    "import glob\n",
    "import scipy.io\n",
    "import numpy as np\n",
    "import io\n",
    "import numpy as np\n",
    "import pandas as pd\n",
    "from PIL import Image\n",
    "from multiprocessing import Pool"
   ]
  },
  {
   "cell_type": "markdown",
   "metadata": {},
   "source": [
    "# Utils"
   ]
  },
  {
   "cell_type": "code",
   "execution_count": 2,
   "metadata": {
    "collapsed": true
   },
   "outputs": [],
   "source": [
    "def image_name_formating(aws_key_object):\n",
    "    \"\"\"\n",
    "    format the name of the object in aws in proper date\n",
    "    \"\"\"\n",
    "    items = aws_key_object.split('/')\n",
    "    return '-'.join(items[-4:-1]) +' '+items[-1][:2] +':'+ items[-1][2:4]+':00.jpg'\n",
    "\n",
    "def day_of_the_year_computation(universal_time):\n",
    "    \"\"\"\n",
    "    Computes the floating value for the day of the year\n",
    "    :param numpy.datetime64 universal_time:\n",
    "    :return: float day of year:\n",
    "    \"\"\"\n",
    "    time_object = pd.to_datetime(universal_time)\n",
    "    return time_object.dayofyear + time_object.hour/24.0 + time_object.minute/(24.0*60)\n",
    "\n",
    "\n",
    "def zenith_computation(universal_time, longitude, latitude):\n",
    "    \"\"\"\n",
    "    Computes the zenith matrix associated with longitude, latitude at a given universal time,\n",
    "    reference NOAA Global Monitoring Division\n",
    "    :param numpy.datetime64 universal_time: universal time\n",
    "    :param numpy.ndarray longitude: array of the considered longitude\n",
    "    :param numpy.ndarray latitude: array of the considered latitude\n",
    "    :return:numpy.ndarray zenith: matrix of the zenith in degrees\n",
    "    \"\"\"\n",
    "    if longitude.shape == latitude.shape:\n",
    "        day_of_year = day_of_the_year_computation(universal_time)\n",
    "        x = 2 * np.pi / 365 * (day_of_year - 1)  # day of year un radian, named x because heavily referenced\n",
    "\n",
    "        eqtime = (0.000075 + 0.001868 * np.cos(x) - 0.032077 * np.sin(x) - 0.014615 * np.cos(2 * x)\n",
    "                  - 0.040849 * np.sin(2 * x)) * ((24 * 60) / (2 * np.pi))\n",
    "\n",
    "        solar_declination = 0.006918 - 0.399912 * np.cos(x) + 0.070257 * np.sin(x) \\\n",
    "                            - 0.006758 * np.cos(2 * x) + 0.000907 * np.sin(2 * x) \\\n",
    "                            - 0.002697 * np.cos(3 * x) + 0.001480 * np.sin(3 * x)\n",
    "\n",
    "        longitude_corrected = 4*longitude\n",
    "        offset = (longitude_corrected + eqtime).astype('timedelta64[m]')\n",
    "        true_solar_time = offset + universal_time\n",
    "        true_solar_time = [x.astype(object) for x in true_solar_time.flatten()]\n",
    "        true_solar_time_minutes = [(lambda time: (time.hour*60 + time.minute + time.second/60))(time)\n",
    "                                   for time in true_solar_time]\n",
    "\n",
    "        hour_angle = np.array([(x/4 - 180)*np.pi/180 for x in true_solar_time_minutes]).reshape(latitude.shape)\n",
    "        zenith = np.arccos(np.cos(solar_declination)*np.cos(latitude*np.pi/180)*np.cos(hour_angle)\n",
    "                           + np.sin(solar_declination)*np.sin(latitude*np.pi/180))\n",
    "        \n",
    "        return zenith * 180 / np.pi\n",
    "    else:\n",
    "        return ValueError"
   ]
  },
  {
   "cell_type": "markdown",
   "metadata": {},
   "source": [
    "# Constants"
   ]
  },
  {
   "cell_type": "code",
   "execution_count": 3,
   "metadata": {
    "collapsed": true
   },
   "outputs": [],
   "source": [
    "TEMP_DIR = '/tmp/images/'\n",
    "os.makedirs(TEMP_DIR, exist_ok=True)\n",
    "bucket_name  = 'edp.engie-digital.prod.instance1.prod.data'\n",
    "\n",
    "coordinates = scipy.io.loadmat('./geographicCoordinate.mat')\n",
    "latitude = coordinates['geographicCoordinate']['latitude'][0][0]\n",
    "longitude = coordinates['geographicCoordinate']['longitude'][0][0]\n",
    "\n",
    "percentiles = (3,6)\n",
    "\n",
    "num_partitions = 64\n",
    "num_cores = 32 "
   ]
  },
  {
   "cell_type": "markdown",
   "metadata": {},
   "source": [
    "# Connexion"
   ]
  },
  {
   "cell_type": "code",
   "execution_count": 4,
   "metadata": {
    "collapsed": true
   },
   "outputs": [],
   "source": [
    "s3 = boto3.resource('s3')\n",
    "\n",
    "bucket = s3.Bucket(bucket_name)\n",
    "\n",
    "s3_client = boto3.client('s3')"
   ]
  },
  {
   "cell_type": "code",
   "execution_count": 77,
   "metadata": {
    "scrolled": false
   },
   "outputs": [
    {
     "name": "stdout",
     "output_type": "stream",
     "text": [
      "CPU times: user 253 ms, sys: 27.9 ms, total: 281 ms\n",
      "Wall time: 1.18 s\n"
     ]
    }
   ],
   "source": [
    "%%time\n",
    "source_images = [x.key for x  in bucket.objects.filter(Prefix='LCV_SATELLITE_IMAGE_24/clearsky_ref/month')]"
   ]
  },
  {
   "cell_type": "code",
   "execution_count": 73,
   "metadata": {},
   "outputs": [
    {
     "name": "stdout",
     "output_type": "stream",
     "text": [
      "CPU times: user 11.3 s, sys: 261 ms, total: 11.6 s\n",
      "Wall time: 1min 6s\n"
     ]
    }
   ],
   "source": [
    "%%time\n",
    "processed_images = [x.key for x  in bucket.objects.filter(Prefix='LCV_SATELLITE_IMAGE_24/lcv_visual_images/processed/')]"
   ]
  },
  {
   "cell_type": "code",
   "execution_count": 78,
   "metadata": {
    "collapsed": true
   },
   "outputs": [],
   "source": [
    "archives = list(set([(x.split('/')[2].split('_')[1], x.split('/')[2].split('_')[3]) for x in source_images]))\n",
    "archives = [elt for elt in archives if (int(elt[1].split('.')[0][-2:])%15 == 0)]"
   ]
  },
  {
   "cell_type": "code",
   "execution_count": 86,
   "metadata": {
    "collapsed": true
   },
   "outputs": [],
   "source": [
    "def parallelize_dataframe(list_archives, func):\n",
    "    df_split = np.array_split(list_archives, num_partitions)\n",
    "    pool = Pool(num_cores)\n",
    "    df = pd.concat(pool.map(func, df_split))\n",
    "    pool.close()\n",
    "    pool.join()\n",
    "    return df"
   ]
  },
  {
   "cell_type": "code",
   "execution_count": 55,
   "metadata": {
    "collapsed": true
   },
   "outputs": [],
   "source": [
    "def compute_cloud_index_walon(archives):\n",
    "    \n",
    "    latitude_walon = 42.7983\n",
    "    longitude_walon = 2.8856\n",
    "    distance = np.sqrt((latitude - latitude_walon)**2+(longitude-longitude_walon)**2)\n",
    "    pixel = np.where(distance == distance.min())\n",
    "    pix = pixel[0][0],pixel[1][0]\n",
    "    latitude_wal = latitude[pix[0]-5: pix[0]+6,pix[1]-5: pix[1]+6]\n",
    "    longitude_wal = longitude[pix[0]-5: pix[0]+6,pix[1]-5: pix[1]+6]\n",
    "    \n",
    "    date_resultats = []\n",
    "    cloud_index_a_walon = []\n",
    "    \n",
    "    for arch in archives:\n",
    "        month = arch[0]\n",
    "        hour = arch[1]\n",
    "        TEMP_DIR_LOOP = TEMP_DIR+month+hour[:-4]+'/'\n",
    "        os.makedirs(TEMP_DIR_LOOP, exist_ok=True)\n",
    "        #print(hour)\n",
    "        bucket.download_file('LCV_SATELLITE_IMAGE_24/clearsky_ref/month_{}_hour_{}'.format(month, hour), '/tmp/clearsky_ref_month_{}_hour_{}'.format(month,hour))\n",
    "        bucket.download_file('LCV_SATELLITE_IMAGE_24/overcast_ref/month_{}_hour_{}'.format(month, hour), '/tmp/overcast_ref_month_{}_hour_{}'.format(month,hour))\n",
    "        clear_sky = plt.imread('/tmp/clearsky_ref_month_{}_hour_{}'.format(month,hour))[pix[0]-5: pix[0]+6,pix[1]-5: pix[1]+6]\n",
    "        overcast = plt.imread('/tmp/overcast_ref_month_{}_hour_{}'.format(month,hour))[pix[0]-5: pix[0]+6,pix[1]-5: pix[1]+6]\n",
    "        pattern = re.compile('LCV_SATELLITE_IMAGE_24\\/lcv_visual_images\\/processed\\/\\d{4}\\/'+month+'\\/\\d{2}\\/'+hour)\n",
    "        images_to_concatenate = [x for x in processed_images if re.match(pattern, x)]\n",
    "        [os.remove(TEMP_DIR_LOOP+x) for x in os.listdir(TEMP_DIR_LOOP)];\n",
    "        image_names = [image_name_formating(name) for name in images_to_concatenate]\n",
    "        [bucket.download_file(image, TEMP_DIR_LOOP+image_name) for image, image_name in zip(images_to_concatenate, image_names)];\n",
    "        concatenated_images = [plt.imread(TEMP_DIR_LOOP+x)[pix[0]-5: pix[0]+6,pix[1]-5: pix[1]+6] for x in os.listdir(TEMP_DIR_LOOP)]\n",
    "        zenith_images = [zenith_computation(np.datetime64(image_name[:-4]), longitude_wal, latitude_wal)<85 \n",
    "                     for image_name in image_names]\n",
    "\n",
    "        masks = [(img > clear_sky) & ((255 - clear_sky)>=1)&zenith for img, zenith in zip(concatenated_images, zenith_images)]\n",
    "        results = [np.zeros(img.shape) for img in concatenated_images]\n",
    "        for mask, result,img in zip(masks, results, concatenated_images):\n",
    "            result[mask] = np.divide((img[mask] - clear_sky[mask]),  overcast[mask]-clear_sky[mask])\n",
    "        cloud_index = results.copy()\n",
    "        for cloud, result in zip(cloud_index, results):\n",
    "            cloud[result>1.2] = 0\n",
    "        date_resultats.append(image_names)\n",
    "        cloud_index_a_walon.append(cloud_index)\n",
    "        \n",
    "    return pd.DataFrame({'date': [x for subl in date_resultats for x in subl],\n",
    "                         'cloud_index_walon':[x for subl in cloud_index_a_walon for x in subl]})"
   ]
  },
  {
   "cell_type": "code",
   "execution_count": 87,
   "metadata": {},
   "outputs": [
    {
     "name": "stdout",
     "output_type": "stream",
     "text": [
      "CPU times: user 2.46 s, sys: 2.53 s, total: 4.99 s\n",
      "Wall time: 7min 17s\n"
     ]
    }
   ],
   "source": [
    "%%time\n",
    "computed_cloud_index = parallelize_dataframe(archives, compute_cloud_index_walon)"
   ]
  },
  {
   "cell_type": "code",
   "execution_count": 117,
   "metadata": {
    "collapsed": true
   },
   "outputs": [],
   "source": [
    "computed_cloud_index.date = computed_cloud_index.date.apply(lambda x : pd.to_datetime(x[:-4]))"
   ]
  },
  {
   "cell_type": "code",
   "execution_count": 118,
   "metadata": {
    "collapsed": true
   },
   "outputs": [],
   "source": [
    "computed_cloud_index.to_csv('computed_cloud_index_walon.csv', index = False)"
   ]
  },
  {
   "cell_type": "code",
   "execution_count": 109,
   "metadata": {
    "collapsed": true
   },
   "outputs": [
    {
     "data": {
      "text/plain": [
       "array([[0.21910112, 0.26704545, 0.24528302, 0.1958042 , 0.19078947,\n",
       "        0.21333333, 0.22222222, 0.23863636, 0.25543478, 0.20942408,\n",
       "        0.18716578],\n",
       "       [0.20994475, 0.25414365, 0.22159091, 0.18709677, 0.18954248,\n",
       "        0.21917808, 0.21621622, 0.2392638 , 0.26190476, 0.20652174,\n",
       "        0.19125683],\n",
       "       [0.16574586, 0.16939891, 0.22285714, 0.19745223, 0.2147651 ,\n",
       "        0.25547445, 0.23943662, 0.25490196, 0.28571429, 0.21387283,\n",
       "        0.23595506],\n",
       "       [0.14772727, 0.12429379, 0.23595506, 0.20118343, 0.22641509,\n",
       "        0.28368794, 0.25517241, 0.2745098 , 0.31724138, 0.25465839,\n",
       "        0.2       ],\n",
       "       [0.18343195, 0.1626506 , 0.24309392, 0.19672131, 0.21142857,\n",
       "        0.25      , 0.21518987, 0.24550898, 0.32679739, 0.28220859,\n",
       "        0.23529412],\n",
       "       [0.20245399, 0.19620253, 0.26785714, 0.19553073, 0.19318182,\n",
       "        0.21290323, 0.17058824, 0.2032967 , 0.29585799, 0.27272727,\n",
       "        0.26666667],\n",
       "       [0.22699387, 0.25      , 0.25      , 0.20338983, 0.18079096,\n",
       "        0.16666667, 0.1920904 , 0.22857143, 0.26553672, 0.26984127,\n",
       "        0.24736842],\n",
       "       [0.23353293, 0.25454545, 0.25316456, 0.21052632, 0.17816092,\n",
       "        0.16763006, 0.1875    , 0.22543353, 0.25581395, 0.26229508,\n",
       "        0.24324324],\n",
       "       [0.21686747, 0.22012579, 0.24683544, 0.20588235, 0.18128655,\n",
       "        0.17365269, 0.18823529, 0.22155689, 0.24260355, 0.23756906,\n",
       "        0.23529412],\n",
       "       [0.18902439, 0.18709677, 0.24539877, 0.21764706, 0.20481928,\n",
       "        0.20253165, 0.22012579, 0.23566879, 0.24375   , 0.23121387,\n",
       "        0.18292683],\n",
       "       [0.19642857, 0.19375   , 0.25465839, 0.23493976, 0.22839506,\n",
       "        0.22929936, 0.23417722, 0.24836601, 0.25675676, 0.24183007,\n",
       "        0.13529412]])"
      ]
     },
     "execution_count": 109,
     "metadata": {},
     "output_type": "execute_result"
    }
   ],
   "source": [
    "computed_cloud_index.cloud_index_walon.iloc[0]"
   ]
  },
  {
   "cell_type": "code",
   "execution_count": 104,
   "metadata": {
    "collapsed": true
   },
   "outputs": [
    {
     "data": {
      "text/plain": [
       "0    [[0.21910112359550563, 0.26704545454545453, 0....\n",
       "0    [[0.03759398496240601, 0.044444444444444446, 0...\n",
       "0    [[0.5321100917431193, 0.4642857142857143, 0.47...\n",
       "0    [[0.0, 0.0, 0.0, 0.0, 0.0, 0.0, 0.0, 0.0, 0.0,...\n",
       "0    [[0.5511363636363636, 0.4819277108433735, 0.46...\n",
       "0    [[0.0, 0.0, 0.0, 0.0, 0.0, 0.0, 0.0, 0.0, 0.0,...\n",
       "0    [[0.0670391061452514, 0.03296703296703297, 0.0...\n",
       "0    [[0.07692307692307693, 0.057971014492753624, 0...\n",
       "0    [[0.0, 0.0, 0.0, 0.0, 0.0, 0.0, 0.0, 0.0, 0.0,...\n",
       "0    [[0.03225806451612903, 0.07792207792207792, 0....\n",
       "0    [[0.0, 0.0, 0.0, 0.0, 0.0, 0.0, 0.0, 0.0, 0.0,...\n",
       "0    [[0.021052631578947368, 0.05172413793103448, 0...\n",
       "0    [[0.02027027027027027, 0.026143790849673203, 0...\n",
       "0    [[0.0, 0.0, 0.0, 0.0, 0.0, 0.0, 0.0, 0.0, 0.0,...\n",
       "0    [[0.24087591240875914, 0.0, 0.0, 0.02127659574...\n",
       "0    [[0.0, 0.0, 0.0, 0.0, 0.0, 0.0, 0.0, 0.0, 0.0,...\n",
       "0    [[0.0, 0.0, 0.0, 0.0, 0.0, 0.0, 0.0, 0.0, 0.0,...\n",
       "0    [[0.05917159763313609, 0.05421686746987952, 0....\n",
       "0    [[0.17159763313609466, 0.2553191489361702, 0.2...\n",
       "0    [[0.017391304347826087, 0.014285714285714285, ...\n",
       "0    [[0.03680981595092025, 0.046511627906976744, 0...\n",
       "0    [[0.16463414634146342, 0.14375, 0.163522012578...\n",
       "0    [[0.0, 0.0, 0.0, 0.0, 0.0, 0.0, 0.0, 0.0, 0.0,...\n",
       "0    [[0.38509316770186336, 0.4155844155844156, 0.4...\n",
       "0    [[0.013157894736842105, 0.026143790849673203, ...\n",
       "0    [[0.0, 0.0, 0.0, 0.0, 0.0, 0.0, 0.0, 0.0, 0.0,...\n",
       "0    [[0.012345679012345678, 0.012738853503184714, ...\n",
       "0    [[0.0, 0.0, 0.015957446808510637, 0.0376344086...\n",
       "0    [[0.028985507246376812, 0.04430379746835443, 0...\n",
       "0    [[0.2883435582822086, 0.26136363636363635, 0.1...\n",
       "                           ...                        \n",
       "0    [[0.0, 0.0, 0.0, 0.0, 0.0, 0.0, 0.0, 0.0, 0.0,...\n",
       "0    [[0.94, 0.8471337579617835, 0.7278481012658228...\n",
       "0    [[0.971830985915493, 1.0136054421768708, 1.006...\n",
       "0    [[0.0, 0.0, 0.0, 0.0, 0.0, 0.0, 0.0, 0.0, 0.0,...\n",
       "0    [[0.1292517006802721, 0.29375, 0.1734104046242...\n",
       "0    [[0.1267605633802817, 0.06451612903225806, 0.0...\n",
       "0    [[0.024, 0.01652892561983471, 0.01449275362318...\n",
       "0    [[0.7202797202797203, 0.8716216216216216, 0.74...\n",
       "0    [[0.14450867052023122, 0.0918918918918919, 0.2...\n",
       "0    [[0.8914728682170543, 0.8947368421052632, 0.89...\n",
       "0    [[0.0, 0.0, 0.0, 0.026490066225165563, 0.03521...\n",
       "0    [[0.0379746835443038, 0.03773584905660377, 0.0...\n",
       "0    [[0.30939226519337015, 0.5, 0.5561797752808989...\n",
       "0    [[0.025210084033613446, 0.034482758620689655, ...\n",
       "0    [[0.0, 0.0, 0.0, 0.0, 0.0, 0.0, 0.0, 0.0, 0.0,...\n",
       "0    [[0.11382113821138211, 0.125, 0.04697986577181...\n",
       "0    [[0.02097902097902098, 0.02631578947368421, 0....\n",
       "0    [[0.0, 0.0, 0.0, 0.0, 0.0, 0.0, 0.0, 0.0, 0.0,...\n",
       "0    [[0.8292682926829268, 0.813953488372093, 0.821...\n",
       "0    [[0.0784313725490196, 0.06493506493506493, 0.0...\n",
       "0    [[0.0, 0.0, 0.0, 0.0, 0.0, 0.0, 0.0, 0.0, 0.0,...\n",
       "0    [[0.02, 0.007575757575757576, 0.00813008130081...\n",
       "0    [[0.06993006993006994, 0.07746478873239436, 0....\n",
       "0    [[0.8120805369127517, 0.8024691358024691, 0.74...\n",
       "0    [[0.06338028169014084, 0.06711409395973154, 0....\n",
       "0    [[0.22077922077922077, 0.31333333333333335, 0....\n",
       "0    [[0.0, 0.0, 0.0, 0.0, 0.0, 0.0, 0.0, 0.0, 0.0,...\n",
       "0    [[0.011494252873563218, 0.04519774011299435, 0...\n",
       "0    [[0.0, 0.0, 0.0, 0.0, 0.0, 0.0, 0.0, 0.0, 0.0,...\n",
       "0    [[0.0, 0.0, 0.0, 0.0, 0.0, 0.0, 0.0, 0.0, 0.0,...\n",
       "Name: cloud_index_walon, Length: 64, dtype: object"
      ]
     },
     "execution_count": 104,
     "metadata": {},
     "output_type": "execute_result"
    }
   ],
   "source": [
    "computed_cloud_index.cloud_index_walon[0]"
   ]
  },
  {
   "cell_type": "code",
   "execution_count": 110,
   "metadata": {
    "collapsed": true
   },
   "outputs": [],
   "source": [
    "adnot_data = pd.DataFrame({'cloud_index_walon_gps':computed_cloud_index.cloud_index_walon.apply(lambda x : x[5,5]),\n",
    "             'date': computed_cloud_index.date})"
   ]
  },
  {
   "cell_type": "code",
   "execution_count": 111,
   "metadata": {
    "collapsed": true
   },
   "outputs": [],
   "source": [
    "adnot_data.to_csv('adnot_data_train.csv', index = False)"
   ]
  },
  {
   "cell_type": "markdown",
   "metadata": {},
   "source": [
    "# Test"
   ]
  }
 ],
 "metadata": {
  "kernelspec": {
   "display_name": "Python 3",
   "language": "python",
   "name": "python3"
  },
  "language_info": {
   "codemirror_mode": {
    "name": "ipython",
    "version": 3
   },
   "file_extension": ".py",
   "mimetype": "text/x-python",
   "name": "python",
   "nbconvert_exporter": "python",
   "pygments_lexer": "ipython3",
   "version": "3.6.3"
  }
 },
 "nbformat": 4,
 "nbformat_minor": 2
}
