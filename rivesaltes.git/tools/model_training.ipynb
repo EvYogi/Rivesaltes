{
 "cells": [
  {
   "cell_type": "markdown",
   "metadata": {},
   "source": [
    "# Model code"
   ]
  },
  {
   "cell_type": "code",
   "execution_count": 141,
   "metadata": {
    "collapsed": true,
    "hide_input": false,
    "init_cell": true,
    "run_control": {
     "marked": false
    }
   },
   "outputs": [],
   "source": [
    "import sys\n",
    "sys.path.append('/opt/datadriver/workspace/')\n",
    "\n",
    "import h5py\n",
    "import io\n",
    "import numpy as np\n",
    "from PIL import Image\n",
    "import urllib\n",
    "import os\n",
    "import pandas as pd\n",
    "import scipy.io\n",
    "from smartgrid.image_processing.solar_angles_computation import *\n",
    "import datetime\n",
    "import pickle\n",
    "import datetime\n",
    "from sklearn.model_selection import train_test_split\n",
    "from sklearn.ensemble import RandomForestRegressor\n",
    "from sklearn.metrics import r2_score\n",
    "from sklearn.metrics import mean_squared_error\n",
    "from sklearn.metrics import mean_absolute_error\n",
    "from ipywidgets import IntSlider, Label\n",
    "from ipywidgets.embed import embed_minimal_html\n",
    "import ipywidgets as widgets\n",
    "from ipywidgets import interact, interactive, fixed, interact_manual"
   ]
  },
  {
   "cell_type": "markdown",
   "metadata": {},
   "source": [
    "## Parameters for adnot model "
   ]
  },
  {
   "cell_type": "code",
   "execution_count": 142,
   "metadata": {
    "collapsed": true,
    "init_cell": true
   },
   "outputs": [],
   "source": [
    "p = np.array([ 8.20630791e+01, -1.13556174e+00,  1.15810318e+03,  1.56397451e-02,\n",
    "        1.07080192e+01,  1.20840451e+00])"
   ]
  },
  {
   "cell_type": "markdown",
   "metadata": {},
   "source": [
    "## Loading file & preparing data "
   ]
  },
  {
   "cell_type": "code",
   "execution_count": 143,
   "metadata": {
    "collapsed": true,
    "init_cell": true
   },
   "outputs": [],
   "source": [
    "def compute_GHI(zenith, doy, p):\n",
    "\n",
    "    ClearSkyGHI = (p[0] * np.cos(np.deg2rad(360 / 365.25 * doy + p[1])) + p[2]) * np.cos(np.deg2rad(zenith)) ** (p[3] * np.cos(np.deg2rad(360 / 365.25 * doy + p[4])) + p[5])\n",
    "\n",
    "    return ClearSkyGHI"
   ]
  },
  {
   "cell_type": "code",
   "execution_count": 144,
   "metadata": {
    "collapsed": true,
    "init_cell": true
   },
   "outputs": [],
   "source": [
    "def load_and_prepare_dataset(dataset_filename=\"../data/processed/model_training_dataset.pickle\"):\n",
    "    if os.path.isfile(dataset_filename):\n",
    "        dataset = pd.read_pickle(dataset_filename)\n",
    "        return dataset\n",
    "    data = pd.read_csv('./dataframe_input_random_forest.csv')\n",
    "    CMS = pd.read_csv('./CMS_EXP_Walon_Donnees_1minute.dat', skiprows=[0,2,3], low_memory=False)\n",
    "    GHI = CMS[['TIMESTAMP','RG_moy_0_I']]\n",
    "    GHI.TIMESTAMP = pd.to_datetime(GHI.TIMESTAMP)\n",
    "    data.date = pd.to_datetime(data.date)\n",
    "    data['doy'] = data.date.dt.dayofyear\n",
    "    \n",
    "    azimuth = list()\n",
    "    block_matching_vx = list()\n",
    "    block_matching_vy = list()\n",
    "    brightness = list()\n",
    "    zenith = list()\n",
    "    cloud_index_walon = list()\n",
    "    datas = list()\n",
    "    for i in range (0, data.shape[0]):\n",
    "        temp = list()\n",
    "        azimuth.append(list(filter(None,data.azimuth[i].replace('[' , '').replace(']','').replace('\\n','').split(' '))))\n",
    "        block_matching_vx.append(list(filter(None,data.block_matching_vx[i].replace('[' , '').replace(']','').replace('\\n','').split(' '))))\n",
    "        block_matching_vy.append(list(filter(None,data.block_matching_vy[i].replace('[' , '').replace(']','').replace('\\n','').split(' '))))    \n",
    "        brightness.append(list(filter(None,data.brightness[i].replace('[' , '').replace(']','').replace('\\n','').split(' '))))    \n",
    "        zenith.append(list(filter(None,data.zenith[i].replace('[' , '').replace(']','').replace('\\n','').split(' '))))    \n",
    "        cloud_index_walon.append(list(filter(None,data.cloud_index_walon[i].replace('[' , '').replace(']','').replace('\\n','').split(' '))))  \n",
    "        temp.extend(block_matching_vx[i])\n",
    "        temp.extend(block_matching_vy[i])\n",
    "        temp.extend(cloud_index_walon[i])\n",
    "        temp.extend(brightness[i])\n",
    "        datas.append(temp)\n",
    "    zen_moy = list()\n",
    "    for element in zenith :\n",
    "        zen_moy.append(sum([float(i) for i in element]) / len(element))\n",
    "    data['zen_moy'] = zen_moy\n",
    "    data['GHI_ClearSKY'] = data.apply(lambda x : compute_GHI(p=p, doy=x.doy,zenith=x.zen_moy),axis=1)\n",
    "    \n",
    "    # set targets\n",
    "    GHI.index = GHI.TIMESTAMP\n",
    "    GHI['target_0'] = GHI.RG_moy_0_I\n",
    "    GHI['target_15'] = GHI.RG_moy_0_I.shift(-15)\n",
    "    GHI['target_60'] = GHI.RG_moy_0_I.shift(-60)\n",
    "    \n",
    "    data = pd.merge(left=data, right=GHI, left_on='date', right_on = 'TIMESTAMP').drop(\"TIMESTAMP\",1)\n",
    "    data['target_0'] = data.target_0 / data.GHI_ClearSKY\n",
    "    data['target_15'] = data.target_15 / data.GHI_ClearSKY\n",
    "    data['target_60'] = data.target_60 / data.GHI_ClearSKY\n",
    "    \n",
    "    ## Creating dataset for training\n",
    "    dataset = pd.DataFrame(datas)\n",
    "    dataset['target_0'] = data.target_0\n",
    "    dataset['target_15'] = data.target_15\n",
    "    dataset['target_60'] = data.target_60\n",
    "    dataset = dataset.dropna()\n",
    "    \n",
    "    dataset.to_pickle(dataset_filename)\n",
    "    return dataset\n",
    "\n",
    "dataset = load_and_prepare_dataset()"
   ]
  },
  {
   "cell_type": "markdown",
   "metadata": {},
   "source": [
    "## Training Regression"
   ]
  },
  {
   "cell_type": "code",
   "execution_count": 145,
   "metadata": {
    "collapsed": true,
    "init_cell": true
   },
   "outputs": [],
   "source": [
    "def train_model(n_estimators=200, max_depth=7, criterion='mae'):\n",
    "    model = RandomForestRegressor(n_estimators=n_estimators,\n",
    "                                     min_samples_leaf=5,\n",
    "                                     min_samples_split =10,\n",
    "                                     max_depth = max_depth,\n",
    "                                     n_jobs=6,\n",
    "                                     random_state=42,\n",
    "                                     criterion = criterion)\n",
    "    model.fit(dataset[dataset.target_0 < 2].drop(['target_0','target_15','target_60'],1), \n",
    "              dataset[dataset.target_0 < 2]['target_0'])\n",
    "    pickle.dump(model, open('./RF.pickle', 'wb'))\n",
    "    model.fit(dataset[dataset.target_15 < 2].drop(['target_0','target_15','target_60'],1), \n",
    "              dataset[dataset.target_15 < 2]['target_15'])\n",
    "    pickle.dump(model, open('./RF_15.pickle', 'wb'))\n",
    "    model.fit(dataset[dataset.target_60 < 2].drop(['target_0','target_15','target_60'],1), \n",
    "              dataset[dataset.target_60 < 2]['target_60'])\n",
    "    pickle.dump(model, open('./RF_60.pickle', 'wb'))"
   ]
  },
  {
   "cell_type": "code",
   "execution_count": 146,
   "metadata": {
    "init_cell": true
   },
   "outputs": [
    {
     "data": {
      "application/vnd.jupyter.widget-view+json": {
       "model_id": "",
       "version_major": 2,
       "version_minor": 0
      },
      "text/plain": [
       "aW50ZXJhY3RpdmUoY2hpbGRyZW49KEludFNsaWRlcih2YWx1ZT0xMDAsIGRlc2NyaXB0aW9uPXUnbl9lc3RpbWF0b3JzJywgc3RlcD01MCksIEludFNsaWRlcih2YWx1ZT03LCBkZXNjcmlwdGnigKY=\n"
      ]
     },
     "metadata": {},
     "output_type": "display_data"
    }
   ],
   "source": [
    "train_ui = interact_manual(train_model, \n",
    "                n_estimators=widgets.IntSlider(value=200, start=50, stop=1000, step=50),\n",
    "                max_depth=widgets.IntSlider(value=7, start=2, stop=10, step=1),\n",
    "                criterion=widgets.Select(options=['mae', 'mse'], value='mae'))"
   ]
  },
  {
   "cell_type": "markdown",
   "metadata": {},
   "source": [
    "# UI"
   ]
  },
  {
   "cell_type": "code",
   "execution_count": 147,
   "metadata": {
    "hide_input": true,
    "init_cell": true
   },
   "outputs": [
    {
     "data": {
      "application/vnd.jupyter.widget-view+json": {
       "model_id": "",
       "version_major": 2,
       "version_minor": 0
      },
      "text/plain": [
       "VkJveChjaGlsZHJlbj0oTGFiZWwodmFsdWU9dSdSZXRyYWluIFBDVCBtb2RlbCcpLCBUYWIoY2hpbGRyZW49KFZCb3goY2hpbGRyZW49KExhYmVsKHZhbHVlPXUnTW9kZWwgcGFyYW1ldGVycyfigKY=\n"
      ]
     },
     "metadata": {},
     "output_type": "display_data"
    }
   ],
   "source": [
    "tab = widgets.Tab()\n",
    "\n",
    "names = ['Training', 'Output']\n",
    "tab.children = [\n",
    "    widgets.VBox(\n",
    "        [Label(\"Model parameters\"),\n",
    "         train_ui.widget\n",
    "        ]\n",
    "    ),\n",
    "    widgets.VBox([]\n",
    "    )\n",
    "]\n",
    "\n",
    "for i in range(len(tab.children)):\n",
    "    tab.set_title(i, names[i])\n",
    "    \n",
    "items = []\n",
    "items.append(Label(\"Retrain PCT model\"))\n",
    "items.append(tab)\n",
    "\n",
    "widgets.VBox(items)"
   ]
  },
  {
   "cell_type": "code",
   "execution_count": null,
   "metadata": {
    "collapsed": true,
    "nbpresent": {
     "id": "75e7c2ea-5e05-4248-8672-37ede9d508c6"
    }
   },
   "outputs": [],
   "source": []
  }
 ],
 "metadata": {
  "celltoolbar": "Initialization Cell",
  "hide_input": false,
  "kernelspec": {
   "display_name": "Python 3",
   "language": "python",
   "name": "python3"
  },
  "language_info": {
   "codemirror_mode": {
    "name": "ipython",
    "version": 3
   },
   "file_extension": ".py",
   "mimetype": "text/x-python",
   "name": "python",
   "nbconvert_exporter": "python",
   "pygments_lexer": "ipython3",
   "version": "3.6.3"
  },
  "widgets": {
   "application/vnd.jupyter.widget-state+json": {
    "state": {
     "019b8664eae7474eab9f0b6f22c6056c": {
      "model_module": "@jupyter-widgets/controls",
      "model_module_version": "1.3.0",
      "model_name": "LabelModel",
      "state": {
       "_model_module_version": "1.3.0",
       "_view_module_version": "1.3.0",
       "description_tooltip": null,
       "layout": "IPY_MODEL_cd4b2b837e2e4f839bf559f1b032b6c5",
       "style": "IPY_MODEL_877d19b513fa454abbfe333ccdf99f09",
       "value": "Model parameters"
      }
     },
     "0b31c6f8d8d84663877a7955caf9836c": {
      "model_module": "@jupyter-widgets/base",
      "model_module_version": "1.1.0",
      "model_name": "LayoutModel",
      "state": {
       "_model_module_version": "1.1.0",
       "_view_module_version": "1.1.0",
       "grid_area": null,
       "grid_auto_columns": null,
       "grid_auto_flow": null,
       "grid_auto_rows": null,
       "grid_column": null,
       "grid_gap": null,
       "grid_row": null,
       "grid_template_areas": null,
       "grid_template_columns": null,
       "grid_template_rows": null
      }
     },
     "0c0d9c18c4da4ecbb1b04eabd692b744": {
      "model_module": "@jupyter-widgets/controls",
      "model_module_version": "1.3.0",
      "model_name": "TextModel",
      "state": {
       "_model_module_version": "1.3.0",
       "_view_module_version": "1.3.0",
       "description": "P4",
       "description_tooltip": null,
       "layout": "IPY_MODEL_da28b588b36f4f56a6210e42d3bfb191",
       "style": "IPY_MODEL_f790722e2a844601996027e49d132c8b"
      }
     },
     "103d7aac99544a2b929e86339404cf5f": {
      "model_module": "@jupyter-widgets/controls",
      "model_module_version": "1.3.0",
      "model_name": "LabelModel",
      "state": {
       "_model_module_version": "1.3.0",
       "_view_module_version": "1.3.0",
       "description_tooltip": null,
       "layout": "IPY_MODEL_82f0153e1a49478eb3e31ab50c47a142",
       "style": "IPY_MODEL_d8c5072c9c6a4d67b3a12a4a3e9841a3",
       "value": "Retrain PCT model"
      }
     },
     "10bf6d73ac424cfa86723faeb0c7b0f4": {
      "model_module": "@jupyter-widgets/controls",
      "model_module_version": "1.3.0",
      "model_name": "DescriptionStyleModel",
      "state": {
       "_model_module_version": "1.3.0",
       "_view_module_version": "1.1.0",
       "description_width": ""
      }
     },
     "1194328626554f7eab5d3287a2082722": {
      "model_module": "@jupyter-widgets/base",
      "model_module_version": "1.1.0",
      "model_name": "LayoutModel",
      "state": {
       "_model_module_version": "1.1.0",
       "_view_module_version": "1.1.0",
       "grid_area": null,
       "grid_auto_columns": null,
       "grid_auto_flow": null,
       "grid_auto_rows": null,
       "grid_column": null,
       "grid_gap": null,
       "grid_row": null,
       "grid_template_areas": null,
       "grid_template_columns": null,
       "grid_template_rows": null
      }
     },
     "142e411c2f8449db9f050d0c4ed71af0": {
      "model_module": "@jupyter-widgets/controls",
      "model_module_version": "1.3.0",
      "model_name": "IntSliderModel",
      "state": {
       "_model_module_version": "1.3.0",
       "_view_module_version": "1.3.0",
       "description": "Trees",
       "description_tooltip": null,
       "layout": "IPY_MODEL_985c34eae1584fc9a1a6683099062c93",
       "max": 1000,
       "min": 50,
       "step": 10,
       "style": "IPY_MODEL_1e33d9fbd043405ca9839211d2e2ae70",
       "value": 200
      }
     },
     "144fb44b26df4fb1acdcc67c3df1980f": {
      "model_module": "@jupyter-widgets/base",
      "model_module_version": "1.1.0",
      "model_name": "LayoutModel",
      "state": {
       "_model_module_version": "1.1.0",
       "_view_module_version": "1.1.0",
       "grid_area": null,
       "grid_auto_columns": null,
       "grid_auto_flow": null,
       "grid_auto_rows": null,
       "grid_column": null,
       "grid_gap": null,
       "grid_row": null,
       "grid_template_areas": null,
       "grid_template_columns": null,
       "grid_template_rows": null
      }
     },
     "154efc751c6c404695a7f187f49ee4db": {
      "model_module": "@jupyter-widgets/base",
      "model_module_version": "1.1.0",
      "model_name": "LayoutModel",
      "state": {
       "_model_module_version": "1.1.0",
       "_view_module_version": "1.1.0",
       "grid_area": null,
       "grid_auto_columns": null,
       "grid_auto_flow": null,
       "grid_auto_rows": null,
       "grid_column": null,
       "grid_gap": null,
       "grid_row": null,
       "grid_template_areas": null,
       "grid_template_columns": null,
       "grid_template_rows": null
      }
     },
     "18961695175048678adcbb775669bc59": {
      "model_module": "@jupyter-widgets/controls",
      "model_module_version": "1.3.0",
      "model_name": "IntSliderModel",
      "state": {
       "_model_module_version": "1.3.0",
       "_view_module_version": "1.3.0",
       "description": "Number of trees",
       "description_tooltip": null,
       "layout": "IPY_MODEL_f8737e48be534a2f9ebbcd497850e2bd",
       "step": 10,
       "style": "IPY_MODEL_f06ef07cea81434c824f31abdd1aec9d",
       "value": 100
      }
     },
     "1bd0202f7a984d599e1e919734dd6fee": {
      "model_module": "@jupyter-widgets/controls",
      "model_module_version": "1.3.0",
      "model_name": "VBoxModel",
      "state": {
       "_model_module_version": "1.3.0",
       "_view_module_version": "1.3.0",
       "children": [
        "IPY_MODEL_8ff3fcff60bf433fae1791385c68d881"
       ],
       "layout": "IPY_MODEL_1194328626554f7eab5d3287a2082722"
      }
     },
     "1e33d9fbd043405ca9839211d2e2ae70": {
      "model_module": "@jupyter-widgets/controls",
      "model_module_version": "1.3.0",
      "model_name": "SliderStyleModel",
      "state": {
       "_model_module_version": "1.3.0",
       "_view_module_version": "1.1.0",
       "description_width": ""
      }
     },
     "1ecac622c332418588fe6d31b9cf45b7": {
      "model_module": "@jupyter-widgets/controls",
      "model_module_version": "1.3.0",
      "model_name": "VBoxModel",
      "state": {
       "_model_module_version": "1.3.0",
       "_view_module_version": "1.3.0",
       "children": [
        "IPY_MODEL_a9a3a4b40c2c4a32a204e15a16ea369a",
        "IPY_MODEL_a07a90b6f2c4453caff9f81d85fd3efb"
       ],
       "layout": "IPY_MODEL_84f89a8586274ced965ed537dcbea2a0"
      }
     },
     "1fdb306e6c124a4a8e4985abcb8f86d1": {
      "model_module": "@jupyter-widgets/base",
      "model_module_version": "1.1.0",
      "model_name": "LayoutModel",
      "state": {
       "_model_module_version": "1.1.0",
       "_view_module_version": "1.1.0",
       "grid_area": null,
       "grid_auto_columns": null,
       "grid_auto_flow": null,
       "grid_auto_rows": null,
       "grid_column": null,
       "grid_gap": null,
       "grid_row": null,
       "grid_template_areas": null,
       "grid_template_columns": null,
       "grid_template_rows": null
      }
     },
     "21730fe686664be78d9433a36b364576": {
      "model_module": "@jupyter-widgets/base",
      "model_module_version": "1.1.0",
      "model_name": "LayoutModel",
      "state": {
       "_model_module_version": "1.1.0",
       "_view_module_version": "1.1.0",
       "grid_area": null,
       "grid_auto_columns": null,
       "grid_auto_flow": null,
       "grid_auto_rows": null,
       "grid_column": null,
       "grid_gap": null,
       "grid_row": null,
       "grid_template_areas": null,
       "grid_template_columns": null,
       "grid_template_rows": null
      }
     },
     "21d2fe83e5c249db88407a0cc1e968ad": {
      "model_module": "@jupyter-widgets/controls",
      "model_module_version": "1.3.0",
      "model_name": "TabModel",
      "state": {
       "_model_module_version": "1.3.0",
       "_view_module_version": "1.3.0",
       "layout": "IPY_MODEL_854aec4bf70c4ead99de74697fe5a610"
      }
     },
     "21ed70d523284ffdaf616ba6bc1e80b5": {
      "model_module": "@jupyter-widgets/base",
      "model_module_version": "1.1.0",
      "model_name": "LayoutModel",
      "state": {
       "_model_module_version": "1.1.0",
       "_view_module_version": "1.1.0",
       "grid_area": null,
       "grid_auto_columns": null,
       "grid_auto_flow": null,
       "grid_auto_rows": null,
       "grid_column": null,
       "grid_gap": null,
       "grid_row": null,
       "grid_template_areas": null,
       "grid_template_columns": null,
       "grid_template_rows": null
      }
     },
     "21f70635c72f4f0f99e108508663cde2": {
      "model_module": "@jupyter-widgets/controls",
      "model_module_version": "1.3.0",
      "model_name": "IntSliderModel",
      "state": {
       "_model_module_version": "1.3.0",
       "_view_module_version": "1.3.0",
       "description": "Trees",
       "description_tooltip": null,
       "layout": "IPY_MODEL_6b32ce090edb462f820077167d7cbc3f",
       "max": 1000,
       "min": 50,
       "step": 10,
       "style": "IPY_MODEL_29565522e5014de49cad402d9b086995",
       "value": 200
      }
     },
     "22beefc99ffd43aca5e78c9793084021": {
      "model_module": "@jupyter-widgets/controls",
      "model_module_version": "1.3.0",
      "model_name": "DescriptionStyleModel",
      "state": {
       "_model_module_version": "1.3.0",
       "_view_module_version": "1.1.0",
       "description_width": ""
      }
     },
     "266a1130712b4c4d89568d0b0fd4a68a": {
      "model_module": "@jupyter-widgets/controls",
      "model_module_version": "1.3.0",
      "model_name": "VBoxModel",
      "state": {
       "_model_module_version": "1.3.0",
       "_view_module_version": "1.3.0",
       "children": [
        "IPY_MODEL_de9777bd8b7d4918a48e8c95bef285c1",
        "IPY_MODEL_d07f1df3da1f4c31990181ac1c4707ec"
       ],
       "layout": "IPY_MODEL_3c4fb47e27ff472ca96e847b796a6883"
      }
     },
     "26ddfd4080974bb8babfd0d7a7f0b4cc": {
      "model_module": "@jupyter-widgets/controls",
      "model_module_version": "1.3.0",
      "model_name": "LabelModel",
      "state": {
       "_model_module_version": "1.3.0",
       "_view_module_version": "1.3.0",
       "description_tooltip": null,
       "layout": "IPY_MODEL_f3c00049cc9b45c58f2835b19bc92165",
       "style": "IPY_MODEL_2c5a39fc7a4e421b806a26a2ef7c173c",
       "value": "Model parameters"
      }
     },
     "27da89c380e54e67897d800e7c8f66ee": {
      "model_module": "@jupyter-widgets/controls",
      "model_module_version": "1.3.0",
      "model_name": "DescriptionStyleModel",
      "state": {
       "_model_module_version": "1.3.0",
       "_view_module_version": "1.1.0",
       "description_width": ""
      }
     },
     "288c5b7d4c8a43689cf1a36989f13824": {
      "model_module": "@jupyter-widgets/base",
      "model_module_version": "1.1.0",
      "model_name": "LayoutModel",
      "state": {
       "_model_module_version": "1.1.0",
       "_view_module_version": "1.1.0",
       "grid_area": null,
       "grid_auto_columns": null,
       "grid_auto_flow": null,
       "grid_auto_rows": null,
       "grid_column": null,
       "grid_gap": null,
       "grid_row": null,
       "grid_template_areas": null,
       "grid_template_columns": null,
       "grid_template_rows": null
      }
     },
     "29565522e5014de49cad402d9b086995": {
      "model_module": "@jupyter-widgets/controls",
      "model_module_version": "1.3.0",
      "model_name": "SliderStyleModel",
      "state": {
       "_model_module_version": "1.3.0",
       "_view_module_version": "1.1.0",
       "description_width": ""
      }
     },
     "2c2203dc739641098c94d06e282bf5cc": {
      "model_module": "@jupyter-widgets/controls",
      "model_module_version": "1.3.0",
      "model_name": "DescriptionStyleModel",
      "state": {
       "_model_module_version": "1.3.0",
       "_view_module_version": "1.1.0",
       "description_width": ""
      }
     },
     "2c5a39fc7a4e421b806a26a2ef7c173c": {
      "model_module": "@jupyter-widgets/controls",
      "model_module_version": "1.3.0",
      "model_name": "DescriptionStyleModel",
      "state": {
       "_model_module_version": "1.3.0",
       "_view_module_version": "1.1.0",
       "description_width": ""
      }
     },
     "2d604b02754f45bf937edfb3c8fc7f51": {
      "model_module": "@jupyter-widgets/controls",
      "model_module_version": "1.3.0",
      "model_name": "IntSliderModel",
      "state": {
       "_model_module_version": "1.3.0",
       "_view_module_version": "1.3.0",
       "description_tooltip": null,
       "layout": "IPY_MODEL_e7122fddb44149629ef256f99d0e78b3",
       "style": "IPY_MODEL_e8e54c494bb944769378ea97a45074a1",
       "value": 40
      }
     },
     "2e9262b7810c422fa4899616fc421585": {
      "model_module": "@jupyter-widgets/base",
      "model_module_version": "1.1.0",
      "model_name": "LayoutModel",
      "state": {
       "_model_module_version": "1.1.0",
       "_view_module_version": "1.1.0",
       "grid_area": null,
       "grid_auto_columns": null,
       "grid_auto_flow": null,
       "grid_auto_rows": null,
       "grid_column": null,
       "grid_gap": null,
       "grid_row": null,
       "grid_template_areas": null,
       "grid_template_columns": null,
       "grid_template_rows": null
      }
     },
     "2fcad2a4bd794480836393a26a2269ff": {
      "model_module": "@jupyter-widgets/controls",
      "model_module_version": "1.3.0",
      "model_name": "SliderStyleModel",
      "state": {
       "_model_module_version": "1.3.0",
       "_view_module_version": "1.1.0",
       "description_width": ""
      }
     },
     "31084c4bf8de4511a3b90082bfcb2a1d": {
      "model_module": "@jupyter-widgets/controls",
      "model_module_version": "1.3.0",
      "model_name": "DescriptionStyleModel",
      "state": {
       "_model_module_version": "1.3.0",
       "_view_module_version": "1.1.0",
       "description_width": ""
      }
     },
     "3204c8e7d5cc4a47b67fa1d875cdb460": {
      "model_module": "@jupyter-widgets/base",
      "model_module_version": "1.1.0",
      "model_name": "LayoutModel",
      "state": {
       "_model_module_version": "1.1.0",
       "_view_module_version": "1.1.0",
       "grid_area": null,
       "grid_auto_columns": null,
       "grid_auto_flow": null,
       "grid_auto_rows": null,
       "grid_column": null,
       "grid_gap": null,
       "grid_row": null,
       "grid_template_areas": null,
       "grid_template_columns": null,
       "grid_template_rows": null
      }
     },
     "333bee28fe5b47369d1c5f217ea7a22d": {
      "model_module": "@jupyter-widgets/base",
      "model_module_version": "1.1.0",
      "model_name": "LayoutModel",
      "state": {
       "_model_module_version": "1.1.0",
       "_view_module_version": "1.1.0",
       "grid_area": null,
       "grid_auto_columns": null,
       "grid_auto_flow": null,
       "grid_auto_rows": null,
       "grid_column": null,
       "grid_gap": null,
       "grid_row": null,
       "grid_template_areas": null,
       "grid_template_columns": null,
       "grid_template_rows": null
      }
     },
     "3353d26826ac48399b223264b41306a3": {
      "model_module": "@jupyter-widgets/controls",
      "model_module_version": "1.3.0",
      "model_name": "IntSliderModel",
      "state": {
       "_model_module_version": "1.3.0",
       "_view_module_version": "1.3.0",
       "description_tooltip": null,
       "layout": "IPY_MODEL_6f6163aac0674805ae8d688aa5a03909",
       "style": "IPY_MODEL_876a6cffce7c46209a63267558118376",
       "value": 40
      }
     },
     "33c80b2c9f594123bed45a8f3b153312": {
      "model_module": "@jupyter-widgets/base",
      "model_module_version": "1.1.0",
      "model_name": "LayoutModel",
      "state": {
       "_model_module_version": "1.1.0",
       "_view_module_version": "1.1.0",
       "grid_area": null,
       "grid_auto_columns": null,
       "grid_auto_flow": null,
       "grid_auto_rows": null,
       "grid_column": null,
       "grid_gap": null,
       "grid_row": null,
       "grid_template_areas": null,
       "grid_template_columns": null,
       "grid_template_rows": null
      }
     },
     "348ce5604e644b859a0d17b7e6a6b785": {
      "model_module": "@jupyter-widgets/base",
      "model_module_version": "1.1.0",
      "model_name": "LayoutModel",
      "state": {
       "_model_module_version": "1.1.0",
       "_view_module_version": "1.1.0",
       "grid_area": null,
       "grid_auto_columns": null,
       "grid_auto_flow": null,
       "grid_auto_rows": null,
       "grid_column": null,
       "grid_gap": null,
       "grid_row": null,
       "grid_template_areas": null,
       "grid_template_columns": null,
       "grid_template_rows": null
      }
     },
     "34adec0cf137469c804c154cea774ec9": {
      "model_module": "@jupyter-widgets/controls",
      "model_module_version": "1.3.0",
      "model_name": "LabelModel",
      "state": {
       "_model_module_version": "1.3.0",
       "_view_module_version": "1.3.0",
       "description_tooltip": null,
       "layout": "IPY_MODEL_4a98ed53b73b43e3a3a9ffa29322629c",
       "style": "IPY_MODEL_4ddf331d9fae4fbc9f89f6ae53776380",
       "value": "Model parameters"
      }
     },
     "35d1e32ab6c94a179be99fb8b66b48cb": {
      "model_module": "@jupyter-widgets/controls",
      "model_module_version": "1.3.0",
      "model_name": "LabelModel",
      "state": {
       "_model_module_version": "1.3.0",
       "_view_module_version": "1.3.0",
       "description_tooltip": null,
       "layout": "IPY_MODEL_a182dda59fb143b49f4a7f7f867c4a8e",
       "style": "IPY_MODEL_437366b46f29480e8b3950f0705adf02",
       "value": "Retrain PCT model"
      }
     },
     "368641df0e3842c78c84669919db65ac": {
      "model_module": "@jupyter-widgets/controls",
      "model_module_version": "1.3.0",
      "model_name": "DescriptionStyleModel",
      "state": {
       "_model_module_version": "1.3.0",
       "_view_module_version": "1.1.0",
       "description_width": ""
      }
     },
     "371fa8ff222a43208da64ae8121b7f0c": {
      "model_module": "@jupyter-widgets/base",
      "model_module_version": "1.1.0",
      "model_name": "LayoutModel",
      "state": {
       "_model_module_version": "1.1.0",
       "_view_module_version": "1.1.0",
       "grid_area": null,
       "grid_auto_columns": null,
       "grid_auto_flow": null,
       "grid_auto_rows": null,
       "grid_column": null,
       "grid_gap": null,
       "grid_row": null,
       "grid_template_areas": null,
       "grid_template_columns": null,
       "grid_template_rows": null
      }
     },
     "395966ea734c4fedac49f1f23e0e9e82": {
      "model_module": "@jupyter-widgets/base",
      "model_module_version": "1.1.0",
      "model_name": "LayoutModel",
      "state": {
       "_model_module_version": "1.1.0",
       "_view_module_version": "1.1.0",
       "grid_area": null,
       "grid_auto_columns": null,
       "grid_auto_flow": null,
       "grid_auto_rows": null,
       "grid_column": null,
       "grid_gap": null,
       "grid_row": null,
       "grid_template_areas": null,
       "grid_template_columns": null,
       "grid_template_rows": null
      }
     },
     "3b86ea1995e44b0980f5998aeea66a15": {
      "model_module": "@jupyter-widgets/controls",
      "model_module_version": "1.3.0",
      "model_name": "VBoxModel",
      "state": {
       "_model_module_version": "1.3.0",
       "_view_module_version": "1.3.0",
       "children": [
        "IPY_MODEL_bbd876a8d84144d78369c2968d076e4d",
        "IPY_MODEL_5f9aa91a9acc4cdf99080d028bbf3900"
       ],
       "layout": "IPY_MODEL_b8060666085545ec8779662300d36217"
      }
     },
     "3c4fb47e27ff472ca96e847b796a6883": {
      "model_module": "@jupyter-widgets/base",
      "model_module_version": "1.1.0",
      "model_name": "LayoutModel",
      "state": {
       "_model_module_version": "1.1.0",
       "_view_module_version": "1.1.0",
       "grid_area": null,
       "grid_auto_columns": null,
       "grid_auto_flow": null,
       "grid_auto_rows": null,
       "grid_column": null,
       "grid_gap": null,
       "grid_row": null,
       "grid_template_areas": null,
       "grid_template_columns": null,
       "grid_template_rows": null
      }
     },
     "3cab8527acd348d5af9da10fbfe81c19": {
      "model_module": "@jupyter-widgets/base",
      "model_module_version": "1.1.0",
      "model_name": "LayoutModel",
      "state": {
       "_model_module_version": "1.1.0",
       "_view_module_version": "1.1.0",
       "grid_area": null,
       "grid_auto_columns": null,
       "grid_auto_flow": null,
       "grid_auto_rows": null,
       "grid_column": null,
       "grid_gap": null,
       "grid_row": null,
       "grid_template_areas": null,
       "grid_template_columns": null,
       "grid_template_rows": null
      }
     },
     "3e3db72e7cd64cff9a3f821b4c353621": {
      "model_module": "@jupyter-widgets/base",
      "model_module_version": "1.1.0",
      "model_name": "LayoutModel",
      "state": {
       "_model_module_version": "1.1.0",
       "_view_module_version": "1.1.0",
       "grid_area": null,
       "grid_auto_columns": null,
       "grid_auto_flow": null,
       "grid_auto_rows": null,
       "grid_column": null,
       "grid_gap": null,
       "grid_row": null,
       "grid_template_areas": null,
       "grid_template_columns": null,
       "grid_template_rows": null
      }
     },
     "3f3ad36fd39445c2bb55816f8f9f9e72": {
      "model_module": "@jupyter-widgets/controls",
      "model_module_version": "1.3.0",
      "model_name": "LabelModel",
      "state": {
       "_model_module_version": "1.3.0",
       "_view_module_version": "1.3.0",
       "description_tooltip": null,
       "layout": "IPY_MODEL_7ae1424b99ce47d2a923e4adb27d0423",
       "style": "IPY_MODEL_93b392f51b8e4ee3acc95d2b57f003eb",
       "value": "Retrain PCT model"
      }
     },
     "3f527ae92802438ca7306f9343ddfa70": {
      "model_module": "@jupyter-widgets/controls",
      "model_module_version": "1.3.0",
      "model_name": "VBoxModel",
      "state": {
       "_model_module_version": "1.3.0",
       "_view_module_version": "1.3.0",
       "children": [
        "IPY_MODEL_7da27e0eed624a2e9cea288d354626c5",
        "IPY_MODEL_58b1735e8f46475eb362f91aaca62b4e"
       ],
       "layout": "IPY_MODEL_21730fe686664be78d9433a36b364576"
      }
     },
     "4339f51f564a44488851efc22af58dd8": {
      "model_module": "@jupyter-widgets/controls",
      "model_module_version": "1.3.0",
      "model_name": "DescriptionStyleModel",
      "state": {
       "_model_module_version": "1.3.0",
       "_view_module_version": "1.1.0",
       "description_width": ""
      }
     },
     "437366b46f29480e8b3950f0705adf02": {
      "model_module": "@jupyter-widgets/controls",
      "model_module_version": "1.3.0",
      "model_name": "DescriptionStyleModel",
      "state": {
       "_model_module_version": "1.3.0",
       "_view_module_version": "1.1.0",
       "description_width": ""
      }
     },
     "448fb9bb13fa4a94b57d84491fc39ff9": {
      "model_module": "@jupyter-widgets/controls",
      "model_module_version": "1.3.0",
      "model_name": "TextModel",
      "state": {
       "_model_module_version": "1.3.0",
       "_view_module_version": "1.3.0",
       "description": "P1",
       "description_tooltip": null,
       "layout": "IPY_MODEL_371fa8ff222a43208da64ae8121b7f0c",
       "style": "IPY_MODEL_2c2203dc739641098c94d06e282bf5cc"
      }
     },
     "463e7162861a4ea6bcf6d38aa59eb4ca": {
      "model_module": "@jupyter-widgets/base",
      "model_module_version": "1.1.0",
      "model_name": "LayoutModel",
      "state": {
       "_model_module_version": "1.1.0",
       "_view_module_version": "1.1.0",
       "grid_area": null,
       "grid_auto_columns": null,
       "grid_auto_flow": null,
       "grid_auto_rows": null,
       "grid_column": null,
       "grid_gap": null,
       "grid_row": null,
       "grid_template_areas": null,
       "grid_template_columns": null,
       "grid_template_rows": null
      }
     },
     "4775a8fad6924ecda8528a2049ed85d8": {
      "model_module": "@jupyter-widgets/controls",
      "model_module_version": "1.3.0",
      "model_name": "DescriptionStyleModel",
      "state": {
       "_model_module_version": "1.3.0",
       "_view_module_version": "1.1.0",
       "description_width": ""
      }
     },
     "478f54c8755745d18bfe8d0d625dd77c": {
      "model_module": "@jupyter-widgets/base",
      "model_module_version": "1.1.0",
      "model_name": "LayoutModel",
      "state": {
       "_model_module_version": "1.1.0",
       "_view_module_version": "1.1.0",
       "grid_area": null,
       "grid_auto_columns": null,
       "grid_auto_flow": null,
       "grid_auto_rows": null,
       "grid_column": null,
       "grid_gap": null,
       "grid_row": null,
       "grid_template_areas": null,
       "grid_template_columns": null,
       "grid_template_rows": null
      }
     },
     "4880a4bdc55f483a95e7571ef04145aa": {
      "model_module": "@jupyter-widgets/base",
      "model_module_version": "1.1.0",
      "model_name": "LayoutModel",
      "state": {
       "_model_module_version": "1.1.0",
       "_view_module_version": "1.1.0",
       "grid_area": null,
       "grid_auto_columns": null,
       "grid_auto_flow": null,
       "grid_auto_rows": null,
       "grid_column": null,
       "grid_gap": null,
       "grid_row": null,
       "grid_template_areas": null,
       "grid_template_columns": null,
       "grid_template_rows": null
      }
     },
     "4a71467a67a443fdb24ed9a1dcfd77bb": {
      "model_module": "@jupyter-widgets/base",
      "model_module_version": "1.1.0",
      "model_name": "LayoutModel",
      "state": {
       "_model_module_version": "1.1.0",
       "_view_module_version": "1.1.0",
       "grid_area": null,
       "grid_auto_columns": null,
       "grid_auto_flow": null,
       "grid_auto_rows": null,
       "grid_column": null,
       "grid_gap": null,
       "grid_row": null,
       "grid_template_areas": null,
       "grid_template_columns": null,
       "grid_template_rows": null
      }
     },
     "4a98ed53b73b43e3a3a9ffa29322629c": {
      "model_module": "@jupyter-widgets/base",
      "model_module_version": "1.1.0",
      "model_name": "LayoutModel",
      "state": {
       "_model_module_version": "1.1.0",
       "_view_module_version": "1.1.0",
       "grid_area": null,
       "grid_auto_columns": null,
       "grid_auto_flow": null,
       "grid_auto_rows": null,
       "grid_column": null,
       "grid_gap": null,
       "grid_row": null,
       "grid_template_areas": null,
       "grid_template_columns": null,
       "grid_template_rows": null
      }
     },
     "4aa7814a382f4d03bab889f1ab6f3615": {
      "model_module": "@jupyter-widgets/base",
      "model_module_version": "1.1.0",
      "model_name": "LayoutModel",
      "state": {
       "_model_module_version": "1.1.0",
       "_view_module_version": "1.1.0",
       "grid_area": null,
       "grid_auto_columns": null,
       "grid_auto_flow": null,
       "grid_auto_rows": null,
       "grid_column": null,
       "grid_gap": null,
       "grid_row": null,
       "grid_template_areas": null,
       "grid_template_columns": null,
       "grid_template_rows": null
      }
     },
     "4be7180c6f984020a0f5ffdd27129016": {
      "model_module": "@jupyter-widgets/base",
      "model_module_version": "1.1.0",
      "model_name": "LayoutModel",
      "state": {
       "_model_module_version": "1.1.0",
       "_view_module_version": "1.1.0",
       "grid_area": null,
       "grid_auto_columns": null,
       "grid_auto_flow": null,
       "grid_auto_rows": null,
       "grid_column": null,
       "grid_gap": null,
       "grid_row": null,
       "grid_template_areas": null,
       "grid_template_columns": null,
       "grid_template_rows": null
      }
     },
     "4ddf331d9fae4fbc9f89f6ae53776380": {
      "model_module": "@jupyter-widgets/controls",
      "model_module_version": "1.3.0",
      "model_name": "DescriptionStyleModel",
      "state": {
       "_model_module_version": "1.3.0",
       "_view_module_version": "1.1.0",
       "description_width": ""
      }
     },
     "4ec9016e516d453ba4a2319fd0ead18d": {
      "model_module": "@jupyter-widgets/base",
      "model_module_version": "1.1.0",
      "model_name": "LayoutModel",
      "state": {
       "_model_module_version": "1.1.0",
       "_view_module_version": "1.1.0",
       "grid_area": null,
       "grid_auto_columns": null,
       "grid_auto_flow": null,
       "grid_auto_rows": null,
       "grid_column": null,
       "grid_gap": null,
       "grid_row": null,
       "grid_template_areas": null,
       "grid_template_columns": null,
       "grid_template_rows": null
      }
     },
     "4ec927f4d040472a868b01c9fe91a1ce": {
      "model_module": "@jupyter-widgets/base",
      "model_module_version": "1.1.0",
      "model_name": "LayoutModel",
      "state": {
       "_model_module_version": "1.1.0",
       "_view_module_version": "1.1.0",
       "grid_area": null,
       "grid_auto_columns": null,
       "grid_auto_flow": null,
       "grid_auto_rows": null,
       "grid_column": null,
       "grid_gap": null,
       "grid_row": null,
       "grid_template_areas": null,
       "grid_template_columns": null,
       "grid_template_rows": null
      }
     },
     "4f229c3c7bb544e5a50f9aaba16b3e52": {
      "model_module": "@jupyter-widgets/controls",
      "model_module_version": "1.3.0",
      "model_name": "VBoxModel",
      "state": {
       "_model_module_version": "1.3.0",
       "_view_module_version": "1.3.0",
       "children": [
        "IPY_MODEL_35d1e32ab6c94a179be99fb8b66b48cb",
        "IPY_MODEL_ea695410429e4424b9f8e70445a4244c"
       ],
       "layout": "IPY_MODEL_4880a4bdc55f483a95e7571ef04145aa"
      }
     },
     "522d7f1427194f07861b027c1fbcca35": {
      "model_module": "@jupyter-widgets/controls",
      "model_module_version": "1.3.0",
      "model_name": "DescriptionStyleModel",
      "state": {
       "_model_module_version": "1.3.0",
       "_view_module_version": "1.1.0",
       "description_width": ""
      }
     },
     "543ffb1e7af2434e901e95921e1ee059": {
      "model_module": "@jupyter-widgets/base",
      "model_module_version": "1.1.0",
      "model_name": "LayoutModel",
      "state": {
       "_model_module_version": "1.1.0",
       "_view_module_version": "1.1.0",
       "grid_area": null,
       "grid_auto_columns": null,
       "grid_auto_flow": null,
       "grid_auto_rows": null,
       "grid_column": null,
       "grid_gap": null,
       "grid_row": null,
       "grid_template_areas": null,
       "grid_template_columns": null,
       "grid_template_rows": null
      }
     },
     "564ecf4c5d2f4a728e269ead04358bf2": {
      "model_module": "@jupyter-widgets/controls",
      "model_module_version": "1.3.0",
      "model_name": "VBoxModel",
      "state": {
       "_model_module_version": "1.3.0",
       "_view_module_version": "1.3.0",
       "children": [
        "IPY_MODEL_84545615b77c4465a23fd3bb8f3e7bfd",
        "IPY_MODEL_eaf9048943f64279a542496abe70e7cb"
       ],
       "layout": "IPY_MODEL_ea061a55b1ed49dabd597067d50a1604"
      }
     },
     "58b1735e8f46475eb362f91aaca62b4e": {
      "model_module": "@jupyter-widgets/controls",
      "model_module_version": "1.3.0",
      "model_name": "IntSliderModel",
      "state": {
       "_model_module_version": "1.3.0",
       "_view_module_version": "1.3.0",
       "description": "Number of trees",
       "description_tooltip": null,
       "layout": "IPY_MODEL_d3b5319139dd44ab958052952e1d79c9",
       "max": 1000,
       "min": 50,
       "step": 10,
       "style": "IPY_MODEL_763bdf7ceeb54dee98ff4d8cfc5f7bc0",
       "value": 200
      }
     },
     "599421d6e03640da9a0927b04302768d": {
      "model_module": "@jupyter-widgets/controls",
      "model_module_version": "1.3.0",
      "model_name": "TabModel",
      "state": {
       "_model_module_version": "1.3.0",
       "_titles": {
        "0": "0",
        "1": "1",
        "2": "2",
        "3": "3",
        "4": "4"
       },
       "_view_module_version": "1.3.0",
       "children": [
        "IPY_MODEL_9c1eb2bb856846c88a887c8b3159b294",
        "IPY_MODEL_448fb9bb13fa4a94b57d84491fc39ff9",
        "IPY_MODEL_a6bb150461ae4bd58a12182675598612",
        "IPY_MODEL_7ba3f6348a954b7a9b824159f023d1c6",
        "IPY_MODEL_0c0d9c18c4da4ecbb1b04eabd692b744"
       ],
       "layout": "IPY_MODEL_d7160046240c4d039c7d822e7848cf3e"
      }
     },
     "59d7e1b43de74219b6c5aeb8ee31d845": {
      "model_module": "@jupyter-widgets/controls",
      "model_module_version": "1.3.0",
      "model_name": "ButtonModel",
      "state": {
       "_model_module_version": "1.3.0",
       "_view_module_version": "1.3.0",
       "description": "Run",
       "icon": "check",
       "layout": "IPY_MODEL_b96ef2194c144ff68ad7118deede4607",
       "style": "IPY_MODEL_f56b9b3320d746f8b4d51bd845397faa"
      }
     },
     "5b3f534905d24ee5a614aca7fd1b4f5a": {
      "model_module": "@jupyter-widgets/controls",
      "model_module_version": "1.3.0",
      "model_name": "VBoxModel",
      "state": {
       "_model_module_version": "1.3.0",
       "_view_module_version": "1.3.0",
       "children": [
        "IPY_MODEL_3f3ad36fd39445c2bb55816f8f9f9e72",
        "IPY_MODEL_df6d7a10b5f94426a55054b096fb5b48"
       ],
       "layout": "IPY_MODEL_4a71467a67a443fdb24ed9a1dcfd77bb"
      }
     },
     "5be551c616404806884d2964af7a3fba": {
      "model_module": "@jupyter-widgets/controls",
      "model_module_version": "1.3.0",
      "model_name": "LabelModel",
      "state": {
       "_model_module_version": "1.3.0",
       "_view_module_version": "1.3.0",
       "description_tooltip": null,
       "layout": "IPY_MODEL_395966ea734c4fedac49f1f23e0e9e82",
       "style": "IPY_MODEL_4339f51f564a44488851efc22af58dd8",
       "value": "Retrain PCT model"
      }
     },
     "5ed27898ae8c47acbdc284df226520ee": {
      "model_module": "@jupyter-widgets/controls",
      "model_module_version": "1.3.0",
      "model_name": "LabelModel",
      "state": {
       "_model_module_version": "1.3.0",
       "_view_module_version": "1.3.0",
       "description_tooltip": null,
       "layout": "IPY_MODEL_76cc9ce819ba4a3fb3944a4d1a8b246f",
       "style": "IPY_MODEL_c0211aee7be24002890a8b4e510302c7",
       "value": "Model parameters"
      }
     },
     "5f9aa91a9acc4cdf99080d028bbf3900": {
      "model_module": "@jupyter-widgets/controls",
      "model_module_version": "1.3.0",
      "model_name": "IntSliderModel",
      "state": {
       "_model_module_version": "1.3.0",
       "_view_module_version": "1.3.0",
       "description": "Trees",
       "description_tooltip": null,
       "layout": "IPY_MODEL_98fcf18ae3074155845652d393310879",
       "max": 1000,
       "min": 50,
       "step": 10,
       "style": "IPY_MODEL_6d7a55d9a6264faca0f869af443266ea",
       "value": 200
      }
     },
     "636aeff6a7a24f16a5153be08cd5c52d": {
      "model_module": "@jupyter-widgets/controls",
      "model_module_version": "1.3.0",
      "model_name": "TextModel",
      "state": {
       "_model_module_version": "1.3.0",
       "_view_module_version": "1.3.0",
       "description": "Parameters",
       "description_tooltip": null,
       "layout": "IPY_MODEL_463e7162861a4ea6bcf6d38aa59eb4ca",
       "style": "IPY_MODEL_ce3a282d01c046979ecb6df34e13da74"
      }
     },
     "64a74ce712bc4db89095de5f6270cbb6": {
      "model_module": "@jupyter-widgets/base",
      "model_module_version": "1.1.0",
      "model_name": "LayoutModel",
      "state": {
       "_model_module_version": "1.1.0",
       "_view_module_version": "1.1.0",
       "grid_area": null,
       "grid_auto_columns": null,
       "grid_auto_flow": null,
       "grid_auto_rows": null,
       "grid_column": null,
       "grid_gap": null,
       "grid_row": null,
       "grid_template_areas": null,
       "grid_template_columns": null,
       "grid_template_rows": null
      }
     },
     "66cf3475b5384a448bfd178b202346c2": {
      "model_module": "@jupyter-widgets/controls",
      "model_module_version": "1.3.0",
      "model_name": "SliderStyleModel",
      "state": {
       "_model_module_version": "1.3.0",
       "_view_module_version": "1.1.0",
       "description_width": ""
      }
     },
     "6b32ce090edb462f820077167d7cbc3f": {
      "model_module": "@jupyter-widgets/base",
      "model_module_version": "1.1.0",
      "model_name": "LayoutModel",
      "state": {
       "_model_module_version": "1.1.0",
       "_view_module_version": "1.1.0",
       "grid_area": null,
       "grid_auto_columns": null,
       "grid_auto_flow": null,
       "grid_auto_rows": null,
       "grid_column": null,
       "grid_gap": null,
       "grid_row": null,
       "grid_template_areas": null,
       "grid_template_columns": null,
       "grid_template_rows": null
      }
     },
     "6d7a55d9a6264faca0f869af443266ea": {
      "model_module": "@jupyter-widgets/controls",
      "model_module_version": "1.3.0",
      "model_name": "SliderStyleModel",
      "state": {
       "_model_module_version": "1.3.0",
       "_view_module_version": "1.1.0",
       "description_width": ""
      }
     },
     "6f6163aac0674805ae8d688aa5a03909": {
      "model_module": "@jupyter-widgets/base",
      "model_module_version": "1.1.0",
      "model_name": "LayoutModel",
      "state": {
       "_model_module_version": "1.1.0",
       "_view_module_version": "1.1.0",
       "grid_area": null,
       "grid_auto_columns": null,
       "grid_auto_flow": null,
       "grid_auto_rows": null,
       "grid_column": null,
       "grid_gap": null,
       "grid_row": null,
       "grid_template_areas": null,
       "grid_template_columns": null,
       "grid_template_rows": null
      }
     },
     "705146e149d64efbbdcac8c9a8a8a520": {
      "model_module": "@jupyter-widgets/base",
      "model_module_version": "1.1.0",
      "model_name": "LayoutModel",
      "state": {
       "_model_module_version": "1.1.0",
       "_view_module_version": "1.1.0",
       "grid_area": null,
       "grid_auto_columns": null,
       "grid_auto_flow": null,
       "grid_auto_rows": null,
       "grid_column": null,
       "grid_gap": null,
       "grid_row": null,
       "grid_template_areas": null,
       "grid_template_columns": null,
       "grid_template_rows": null
      }
     },
     "71641c87a9444d879ad7c8cca9d18764": {
      "model_module": "@jupyter-widgets/base",
      "model_module_version": "1.1.0",
      "model_name": "LayoutModel",
      "state": {
       "_model_module_version": "1.1.0",
       "_view_module_version": "1.1.0",
       "grid_area": null,
       "grid_auto_columns": null,
       "grid_auto_flow": null,
       "grid_auto_rows": null,
       "grid_column": null,
       "grid_gap": null,
       "grid_row": null,
       "grid_template_areas": null,
       "grid_template_columns": null,
       "grid_template_rows": null
      }
     },
     "71757e6c025e40e0916c5b08d28a59a6": {
      "model_module": "@jupyter-widgets/controls",
      "model_module_version": "1.3.0",
      "model_name": "TabModel",
      "state": {
       "_model_module_version": "1.3.0",
       "_titles": {
        "0": "0",
        "1": "1"
       },
       "_view_module_version": "1.3.0",
       "children": [
        "IPY_MODEL_636aeff6a7a24f16a5153be08cd5c52d",
        "IPY_MODEL_d6cc61f5130a483a99f8cce4961c1b3d"
       ],
       "layout": "IPY_MODEL_8e57f8de430849339bb3c4ebca865030"
      }
     },
     "71eb032083764a6b9f3883b4a9a7d405": {
      "model_module": "@jupyter-widgets/controls",
      "model_module_version": "1.3.0",
      "model_name": "LabelModel",
      "state": {
       "_model_module_version": "1.3.0",
       "_view_module_version": "1.3.0",
       "description_tooltip": null,
       "layout": "IPY_MODEL_9d6f04392e794faa9b43bc0e3066a2ac",
       "style": "IPY_MODEL_31084c4bf8de4511a3b90082bfcb2a1d",
       "value": "Retrain PCT model"
      }
     },
     "753bdad1fd27481eb1456f9f4eae2f06": {
      "model_module": "@jupyter-widgets/controls",
      "model_module_version": "1.3.0",
      "model_name": "DescriptionStyleModel",
      "state": {
       "_model_module_version": "1.3.0",
       "_view_module_version": "1.1.0",
       "description_width": ""
      }
     },
     "763bdf7ceeb54dee98ff4d8cfc5f7bc0": {
      "model_module": "@jupyter-widgets/controls",
      "model_module_version": "1.3.0",
      "model_name": "SliderStyleModel",
      "state": {
       "_model_module_version": "1.3.0",
       "_view_module_version": "1.1.0",
       "description_width": ""
      }
     },
     "76cc9ce819ba4a3fb3944a4d1a8b246f": {
      "model_module": "@jupyter-widgets/base",
      "model_module_version": "1.1.0",
      "model_name": "LayoutModel",
      "state": {
       "_model_module_version": "1.1.0",
       "_view_module_version": "1.1.0",
       "grid_area": null,
       "grid_auto_columns": null,
       "grid_auto_flow": null,
       "grid_auto_rows": null,
       "grid_column": null,
       "grid_gap": null,
       "grid_row": null,
       "grid_template_areas": null,
       "grid_template_columns": null,
       "grid_template_rows": null
      }
     },
     "77a593f3613b455fb1ae0ceed2f42585": {
      "model_module": "@jupyter-widgets/controls",
      "model_module_version": "1.3.0",
      "model_name": "VBoxModel",
      "state": {
       "_model_module_version": "1.3.0",
       "_view_module_version": "1.3.0",
       "children": [
        "IPY_MODEL_3f3ad36fd39445c2bb55816f8f9f9e72",
        "IPY_MODEL_df6d7a10b5f94426a55054b096fb5b48"
       ],
       "layout": "IPY_MODEL_478f54c8755745d18bfe8d0d625dd77c"
      }
     },
     "7ae1424b99ce47d2a923e4adb27d0423": {
      "model_module": "@jupyter-widgets/base",
      "model_module_version": "1.1.0",
      "model_name": "LayoutModel",
      "state": {
       "_model_module_version": "1.1.0",
       "_view_module_version": "1.1.0",
       "grid_area": null,
       "grid_auto_columns": null,
       "grid_auto_flow": null,
       "grid_auto_rows": null,
       "grid_column": null,
       "grid_gap": null,
       "grid_row": null,
       "grid_template_areas": null,
       "grid_template_columns": null,
       "grid_template_rows": null
      }
     },
     "7ba3f6348a954b7a9b824159f023d1c6": {
      "model_module": "@jupyter-widgets/controls",
      "model_module_version": "1.3.0",
      "model_name": "TextModel",
      "state": {
       "_model_module_version": "1.3.0",
       "_view_module_version": "1.3.0",
       "description": "P3",
       "description_tooltip": null,
       "layout": "IPY_MODEL_9b8e7c3b82e54cffb5d199b0fa432ea4",
       "style": "IPY_MODEL_fe638d6691374efb8ef06794d5dcb02d"
      }
     },
     "7bc5e5bd56ca4a25905b542cc303e7cf": {
      "model_module": "@jupyter-widgets/base",
      "model_module_version": "1.1.0",
      "model_name": "LayoutModel",
      "state": {
       "_model_module_version": "1.1.0",
       "_view_module_version": "1.1.0",
       "grid_area": null,
       "grid_auto_columns": null,
       "grid_auto_flow": null,
       "grid_auto_rows": null,
       "grid_column": null,
       "grid_gap": null,
       "grid_row": null,
       "grid_template_areas": null,
       "grid_template_columns": null,
       "grid_template_rows": null
      }
     },
     "7c112db8a9fa409894beb572190d7525": {
      "model_module": "@jupyter-widgets/controls",
      "model_module_version": "1.3.0",
      "model_name": "TabModel",
      "state": {
       "_model_module_version": "1.3.0",
       "_titles": {
        "0": "0",
        "1": "1"
       },
       "_view_module_version": "1.3.0",
       "children": [
        "IPY_MODEL_c4ea7c0b01fb4d3b9bd1984ea4242a2d",
        "IPY_MODEL_eab45f244a25416698703422cb7c329a"
       ],
       "layout": "IPY_MODEL_1fdb306e6c124a4a8e4985abcb8f86d1"
      }
     },
     "7c3006050fa541cb97843a6ac6cd3f78": {
      "model_module": "@jupyter-widgets/controls",
      "model_module_version": "1.3.0",
      "model_name": "ButtonStyleModel",
      "state": {
       "_model_module_version": "1.3.0",
       "_view_module_version": "1.1.0"
      }
     },
     "7c83014e93754001a3455d6fef833388": {
      "model_module": "@jupyter-widgets/base",
      "model_module_version": "1.1.0",
      "model_name": "LayoutModel",
      "state": {
       "_model_module_version": "1.1.0",
       "_view_module_version": "1.1.0",
       "grid_area": null,
       "grid_auto_columns": null,
       "grid_auto_flow": null,
       "grid_auto_rows": null,
       "grid_column": null,
       "grid_gap": null,
       "grid_row": null,
       "grid_template_areas": null,
       "grid_template_columns": null,
       "grid_template_rows": null
      }
     },
     "7da27e0eed624a2e9cea288d354626c5": {
      "model_module": "@jupyter-widgets/controls",
      "model_module_version": "1.3.0",
      "model_name": "LabelModel",
      "state": {
       "_model_module_version": "1.3.0",
       "_view_module_version": "1.3.0",
       "description_tooltip": null,
       "layout": "IPY_MODEL_154efc751c6c404695a7f187f49ee4db",
       "style": "IPY_MODEL_db0ad55a3c364e9d9c07b15bf0228977",
       "value": "Model parameters"
      }
     },
     "7ff5a2ca11fc4e62a89fb369c97a2e71": {
      "model_module": "@jupyter-widgets/controls",
      "model_module_version": "1.3.0",
      "model_name": "DescriptionStyleModel",
      "state": {
       "_model_module_version": "1.3.0",
       "_view_module_version": "1.1.0",
       "description_width": ""
      }
     },
     "82e4ecece22547778bf9cf35d231db90": {
      "model_module": "@jupyter-widgets/base",
      "model_module_version": "1.1.0",
      "model_name": "LayoutModel",
      "state": {
       "_model_module_version": "1.1.0",
       "_view_module_version": "1.1.0",
       "grid_area": null,
       "grid_auto_columns": null,
       "grid_auto_flow": null,
       "grid_auto_rows": null,
       "grid_column": null,
       "grid_gap": null,
       "grid_row": null,
       "grid_template_areas": null,
       "grid_template_columns": null,
       "grid_template_rows": null
      }
     },
     "82f0153e1a49478eb3e31ab50c47a142": {
      "model_module": "@jupyter-widgets/base",
      "model_module_version": "1.1.0",
      "model_name": "LayoutModel",
      "state": {
       "_model_module_version": "1.1.0",
       "_view_module_version": "1.1.0",
       "grid_area": null,
       "grid_auto_columns": null,
       "grid_auto_flow": null,
       "grid_auto_rows": null,
       "grid_column": null,
       "grid_gap": null,
       "grid_row": null,
       "grid_template_areas": null,
       "grid_template_columns": null,
       "grid_template_rows": null
      }
     },
     "83ba1923482c4e14aba41c0bd0c2a725": {
      "model_module": "@jupyter-widgets/controls",
      "model_module_version": "1.3.0",
      "model_name": "LabelModel",
      "state": {
       "_model_module_version": "1.3.0",
       "_view_module_version": "1.3.0",
       "description_tooltip": null,
       "layout": "IPY_MODEL_3cab8527acd348d5af9da10fbfe81c19",
       "style": "IPY_MODEL_522d7f1427194f07861b027c1fbcca35",
       "value": "Model parameters"
      }
     },
     "84545615b77c4465a23fd3bb8f3e7bfd": {
      "model_module": "@jupyter-widgets/controls",
      "model_module_version": "1.3.0",
      "model_name": "LabelModel",
      "state": {
       "_model_module_version": "1.3.0",
       "_view_module_version": "1.3.0",
       "description_tooltip": null,
       "layout": "IPY_MODEL_ec6d1d7469f24c7ab0e6087a6165e5c7",
       "style": "IPY_MODEL_753bdad1fd27481eb1456f9f4eae2f06",
       "value": "Model parameters"
      }
     },
     "84f89a8586274ced965ed537dcbea2a0": {
      "model_module": "@jupyter-widgets/base",
      "model_module_version": "1.1.0",
      "model_name": "LayoutModel",
      "state": {
       "_model_module_version": "1.1.0",
       "_view_module_version": "1.1.0",
       "grid_area": null,
       "grid_auto_columns": null,
       "grid_auto_flow": null,
       "grid_auto_rows": null,
       "grid_column": null,
       "grid_gap": null,
       "grid_row": null,
       "grid_template_areas": null,
       "grid_template_columns": null,
       "grid_template_rows": null
      }
     },
     "854aec4bf70c4ead99de74697fe5a610": {
      "model_module": "@jupyter-widgets/base",
      "model_module_version": "1.1.0",
      "model_name": "LayoutModel",
      "state": {
       "_model_module_version": "1.1.0",
       "_view_module_version": "1.1.0",
       "grid_area": null,
       "grid_auto_columns": null,
       "grid_auto_flow": null,
       "grid_auto_rows": null,
       "grid_column": null,
       "grid_gap": null,
       "grid_row": null,
       "grid_template_areas": null,
       "grid_template_columns": null,
       "grid_template_rows": null
      }
     },
     "85582e5007574cb1a783609c7a392c6c": {
      "model_module": "@jupyter-widgets/controls",
      "model_module_version": "1.3.0",
      "model_name": "TabModel",
      "state": {
       "_model_module_version": "1.3.0",
       "_titles": {
        "0": "Parameters",
        "1": "Training"
       },
       "_view_module_version": "1.3.0",
       "children": [
        "IPY_MODEL_564ecf4c5d2f4a728e269ead04358bf2",
        "IPY_MODEL_ddb49c20af614e1c8c20da6a187fec8e"
       ],
       "layout": "IPY_MODEL_ffb53301fa754293b9102d65db94c66b"
      }
     },
     "876a6cffce7c46209a63267558118376": {
      "model_module": "@jupyter-widgets/controls",
      "model_module_version": "1.3.0",
      "model_name": "SliderStyleModel",
      "state": {
       "_model_module_version": "1.3.0",
       "_view_module_version": "1.1.0",
       "description_width": ""
      }
     },
     "877d19b513fa454abbfe333ccdf99f09": {
      "model_module": "@jupyter-widgets/controls",
      "model_module_version": "1.3.0",
      "model_name": "DescriptionStyleModel",
      "state": {
       "_model_module_version": "1.3.0",
       "_view_module_version": "1.1.0",
       "description_width": ""
      }
     },
     "8998dc5be88045b2bd31af7b8c68ed70": {
      "model_module": "@jupyter-widgets/controls",
      "model_module_version": "1.3.0",
      "model_name": "TabModel",
      "state": {
       "_model_module_version": "1.3.0",
       "_titles": {
        "0": "Parameters",
        "1": "Training"
       },
       "_view_module_version": "1.3.0",
       "children": [
        "IPY_MODEL_3b86ea1995e44b0980f5998aeea66a15"
       ],
       "layout": "IPY_MODEL_33c80b2c9f594123bed45a8f3b153312"
      }
     },
     "8e57f8de430849339bb3c4ebca865030": {
      "model_module": "@jupyter-widgets/base",
      "model_module_version": "1.1.0",
      "model_name": "LayoutModel",
      "state": {
       "_model_module_version": "1.1.0",
       "_view_module_version": "1.1.0",
       "grid_area": null,
       "grid_auto_columns": null,
       "grid_auto_flow": null,
       "grid_auto_rows": null,
       "grid_column": null,
       "grid_gap": null,
       "grid_row": null,
       "grid_template_areas": null,
       "grid_template_columns": null,
       "grid_template_rows": null
      }
     },
     "8ff3fcff60bf433fae1791385c68d881": {
      "model_module": "@jupyter-widgets/controls",
      "model_module_version": "1.3.0",
      "model_name": "ButtonModel",
      "state": {
       "_model_module_version": "1.3.0",
       "_view_module_version": "1.3.0",
       "description": "Run",
       "icon": "check",
       "layout": "IPY_MODEL_543ffb1e7af2434e901e95921e1ee059",
       "style": "IPY_MODEL_7c3006050fa541cb97843a6ac6cd3f78"
      }
     },
     "9348cac75ba64de582b1a61d15952ba7": {
      "model_module": "@jupyter-widgets/controls",
      "model_module_version": "1.3.0",
      "model_name": "IntSliderModel",
      "state": {
       "_model_module_version": "1.3.0",
       "_view_module_version": "1.3.0",
       "description_tooltip": null,
       "layout": "IPY_MODEL_e9955d9b683646b7990a97161fed947c",
       "max": 1000,
       "min": 50,
       "step": 10,
       "style": "IPY_MODEL_66cf3475b5384a448bfd178b202346c2",
       "value": 200
      }
     },
     "93b392f51b8e4ee3acc95d2b57f003eb": {
      "model_module": "@jupyter-widgets/controls",
      "model_module_version": "1.3.0",
      "model_name": "DescriptionStyleModel",
      "state": {
       "_model_module_version": "1.3.0",
       "_view_module_version": "1.1.0",
       "description_width": ""
      }
     },
     "94b926fb71a24ed1967cd4adc29891b9": {
      "model_module": "@jupyter-widgets/controls",
      "model_module_version": "1.3.0",
      "model_name": "SliderStyleModel",
      "state": {
       "_model_module_version": "1.3.0",
       "_view_module_version": "1.1.0",
       "description_width": ""
      }
     },
     "95128ad116f449c2aa65d94ccf934345": {
      "model_module": "@jupyter-widgets/controls",
      "model_module_version": "1.3.0",
      "model_name": "TabModel",
      "state": {
       "_model_module_version": "1.3.0",
       "_titles": {
        "0": "Parameters",
        "1": "Training"
       },
       "_view_module_version": "1.3.0",
       "children": [
        "IPY_MODEL_3f527ae92802438ca7306f9343ddfa70"
       ],
       "layout": "IPY_MODEL_3204c8e7d5cc4a47b67fa1d875cdb460"
      }
     },
     "958b951c4a3449a6bcb54f571b0759e8": {
      "model_module": "@jupyter-widgets/controls",
      "model_module_version": "1.3.0",
      "model_name": "VBoxModel",
      "state": {
       "_model_module_version": "1.3.0",
       "_view_module_version": "1.3.0",
       "children": [
        "IPY_MODEL_de9777bd8b7d4918a48e8c95bef285c1",
        "IPY_MODEL_d07f1df3da1f4c31990181ac1c4707ec"
       ],
       "layout": "IPY_MODEL_64a74ce712bc4db89095de5f6270cbb6"
      }
     },
     "964365ba26774571ac47cf3521040bbd": {
      "model_module": "@jupyter-widgets/controls",
      "model_module_version": "1.3.0",
      "model_name": "SliderStyleModel",
      "state": {
       "_model_module_version": "1.3.0",
       "_view_module_version": "1.1.0",
       "description_width": ""
      }
     },
     "965bd52404c5421189a5da88d1f4d058": {
      "model_module": "@jupyter-widgets/controls",
      "model_module_version": "1.3.0",
      "model_name": "VBoxModel",
      "state": {
       "_model_module_version": "1.3.0",
       "_view_module_version": "1.3.0",
       "children": [
        "IPY_MODEL_26ddfd4080974bb8babfd0d7a7f0b4cc",
        "IPY_MODEL_21f70635c72f4f0f99e108508663cde2"
       ],
       "layout": "IPY_MODEL_ea83492f079441fdacded5805b2c394b"
      }
     },
     "978a65320ad64af2ad49dd8a64e4c3d0": {
      "model_module": "@jupyter-widgets/base",
      "model_module_version": "1.1.0",
      "model_name": "LayoutModel",
      "state": {
       "_model_module_version": "1.1.0",
       "_view_module_version": "1.1.0",
       "grid_area": null,
       "grid_auto_columns": null,
       "grid_auto_flow": null,
       "grid_auto_rows": null,
       "grid_column": null,
       "grid_gap": null,
       "grid_row": null,
       "grid_template_areas": null,
       "grid_template_columns": null,
       "grid_template_rows": null
      }
     },
     "985c34eae1584fc9a1a6683099062c93": {
      "model_module": "@jupyter-widgets/base",
      "model_module_version": "1.1.0",
      "model_name": "LayoutModel",
      "state": {
       "_model_module_version": "1.1.0",
       "_view_module_version": "1.1.0",
       "grid_area": null,
       "grid_auto_columns": null,
       "grid_auto_flow": null,
       "grid_auto_rows": null,
       "grid_column": null,
       "grid_gap": null,
       "grid_row": null,
       "grid_template_areas": null,
       "grid_template_columns": null,
       "grid_template_rows": null
      }
     },
     "98fcf18ae3074155845652d393310879": {
      "model_module": "@jupyter-widgets/base",
      "model_module_version": "1.1.0",
      "model_name": "LayoutModel",
      "state": {
       "_model_module_version": "1.1.0",
       "_view_module_version": "1.1.0",
       "grid_area": null,
       "grid_auto_columns": null,
       "grid_auto_flow": null,
       "grid_auto_rows": null,
       "grid_column": null,
       "grid_gap": null,
       "grid_row": null,
       "grid_template_areas": null,
       "grid_template_columns": null,
       "grid_template_rows": null
      }
     },
     "9b8e7c3b82e54cffb5d199b0fa432ea4": {
      "model_module": "@jupyter-widgets/base",
      "model_module_version": "1.1.0",
      "model_name": "LayoutModel",
      "state": {
       "_model_module_version": "1.1.0",
       "_view_module_version": "1.1.0",
       "grid_area": null,
       "grid_auto_columns": null,
       "grid_auto_flow": null,
       "grid_auto_rows": null,
       "grid_column": null,
       "grid_gap": null,
       "grid_row": null,
       "grid_template_areas": null,
       "grid_template_columns": null,
       "grid_template_rows": null
      }
     },
     "9c1eb2bb856846c88a887c8b3159b294": {
      "model_module": "@jupyter-widgets/controls",
      "model_module_version": "1.3.0",
      "model_name": "TextModel",
      "state": {
       "_model_module_version": "1.3.0",
       "_view_module_version": "1.3.0",
       "description": "P0",
       "description_tooltip": null,
       "layout": "IPY_MODEL_144fb44b26df4fb1acdcc67c3df1980f",
       "style": "IPY_MODEL_22beefc99ffd43aca5e78c9793084021"
      }
     },
     "9d6f04392e794faa9b43bc0e3066a2ac": {
      "model_module": "@jupyter-widgets/base",
      "model_module_version": "1.1.0",
      "model_name": "LayoutModel",
      "state": {
       "_model_module_version": "1.1.0",
       "_view_module_version": "1.1.0",
       "grid_area": null,
       "grid_auto_columns": null,
       "grid_auto_flow": null,
       "grid_auto_rows": null,
       "grid_column": null,
       "grid_gap": null,
       "grid_row": null,
       "grid_template_areas": null,
       "grid_template_columns": null,
       "grid_template_rows": null
      }
     },
     "9ff700e19d4a47b5b464351bdcb301e0": {
      "model_module": "@jupyter-widgets/controls",
      "model_module_version": "1.3.0",
      "model_name": "IntSliderModel",
      "state": {
       "_model_module_version": "1.3.0",
       "_view_module_version": "1.3.0",
       "description_tooltip": null,
       "layout": "IPY_MODEL_fee2253586a844db95cbc9ea56b8da17",
       "style": "IPY_MODEL_a6f193af7f1c4dfab90399279bce1163",
       "value": 40
      }
     },
     "a04f04158d86477eaa647d57129287db": {
      "model_module": "@jupyter-widgets/base",
      "model_module_version": "1.1.0",
      "model_name": "LayoutModel",
      "state": {
       "_model_module_version": "1.1.0",
       "_view_module_version": "1.1.0",
       "grid_area": null,
       "grid_auto_columns": null,
       "grid_auto_flow": null,
       "grid_auto_rows": null,
       "grid_column": null,
       "grid_gap": null,
       "grid_row": null,
       "grid_template_areas": null,
       "grid_template_columns": null,
       "grid_template_rows": null
      }
     },
     "a07a90b6f2c4453caff9f81d85fd3efb": {
      "model_module": "@jupyter-widgets/controls",
      "model_module_version": "1.3.0",
      "model_name": "IntSliderModel",
      "state": {
       "_model_module_version": "1.3.0",
       "_view_module_version": "1.3.0",
       "description": "Trees",
       "description_tooltip": null,
       "layout": "IPY_MODEL_978a65320ad64af2ad49dd8a64e4c3d0",
       "max": 1000,
       "min": 50,
       "step": 10,
       "style": "IPY_MODEL_ce53e4e08134487a904a69986b95b066",
       "value": 200
      }
     },
     "a182dda59fb143b49f4a7f7f867c4a8e": {
      "model_module": "@jupyter-widgets/base",
      "model_module_version": "1.1.0",
      "model_name": "LayoutModel",
      "state": {
       "_model_module_version": "1.1.0",
       "_view_module_version": "1.1.0",
       "grid_area": null,
       "grid_auto_columns": null,
       "grid_auto_flow": null,
       "grid_auto_rows": null,
       "grid_column": null,
       "grid_gap": null,
       "grid_row": null,
       "grid_template_areas": null,
       "grid_template_columns": null,
       "grid_template_rows": null
      }
     },
     "a41e7d3f7d6b4ac08b8311a89141e67f": {
      "model_module": "@jupyter-widgets/controls",
      "model_module_version": "1.3.0",
      "model_name": "ButtonStyleModel",
      "state": {
       "_model_module_version": "1.3.0",
       "_view_module_version": "1.1.0"
      }
     },
     "a5bc9bef810445fca83041d2a95d6bfe": {
      "model_module": "@jupyter-widgets/controls",
      "model_module_version": "1.3.0",
      "model_name": "IntSliderModel",
      "state": {
       "_model_module_version": "1.3.0",
       "_view_module_version": "1.3.0",
       "description_tooltip": null,
       "layout": "IPY_MODEL_82e4ecece22547778bf9cf35d231db90",
       "style": "IPY_MODEL_964365ba26774571ac47cf3521040bbd",
       "value": 40
      }
     },
     "a6bb150461ae4bd58a12182675598612": {
      "model_module": "@jupyter-widgets/controls",
      "model_module_version": "1.3.0",
      "model_name": "TextModel",
      "state": {
       "_model_module_version": "1.3.0",
       "_view_module_version": "1.3.0",
       "description": "P2",
       "description_tooltip": null,
       "layout": "IPY_MODEL_4aa7814a382f4d03bab889f1ab6f3615",
       "style": "IPY_MODEL_a6c44456897f4ce8b7a23dff2f7b4e2c"
      }
     },
     "a6c44456897f4ce8b7a23dff2f7b4e2c": {
      "model_module": "@jupyter-widgets/controls",
      "model_module_version": "1.3.0",
      "model_name": "DescriptionStyleModel",
      "state": {
       "_model_module_version": "1.3.0",
       "_view_module_version": "1.1.0",
       "description_width": ""
      }
     },
     "a6f193af7f1c4dfab90399279bce1163": {
      "model_module": "@jupyter-widgets/controls",
      "model_module_version": "1.3.0",
      "model_name": "SliderStyleModel",
      "state": {
       "_model_module_version": "1.3.0",
       "_view_module_version": "1.1.0",
       "description_width": ""
      }
     },
     "a91ea9bf40eb4de8a181cd8654aa5cf7": {
      "model_module": "@jupyter-widgets/controls",
      "model_module_version": "1.3.0",
      "model_name": "IntSliderModel",
      "state": {
       "_model_module_version": "1.3.0",
       "_view_module_version": "1.3.0",
       "description_tooltip": null,
       "layout": "IPY_MODEL_f89442e43cbc4797955f66e8d1b5a815",
       "style": "IPY_MODEL_2fcad2a4bd794480836393a26a2269ff",
       "value": 40
      }
     },
     "a984b6b27500401b90d2205e93736f7f": {
      "model_module": "@jupyter-widgets/controls",
      "model_module_version": "1.3.0",
      "model_name": "VBoxModel",
      "state": {
       "_model_module_version": "1.3.0",
       "_view_module_version": "1.3.0",
       "children": [
        "IPY_MODEL_34adec0cf137469c804c154cea774ec9",
        "IPY_MODEL_142e411c2f8449db9f050d0c4ed71af0"
       ],
       "layout": "IPY_MODEL_288c5b7d4c8a43689cf1a36989f13824"
      }
     },
     "a9a3a4b40c2c4a32a204e15a16ea369a": {
      "model_module": "@jupyter-widgets/controls",
      "model_module_version": "1.3.0",
      "model_name": "LabelModel",
      "state": {
       "_model_module_version": "1.3.0",
       "_view_module_version": "1.3.0",
       "description_tooltip": null,
       "layout": "IPY_MODEL_a04f04158d86477eaa647d57129287db",
       "style": "IPY_MODEL_368641df0e3842c78c84669919db65ac",
       "value": "Model parameters"
      }
     },
     "af55c173441a49e5ad8b5369de1b269c": {
      "model_module": "@jupyter-widgets/controls",
      "model_module_version": "1.3.0",
      "model_name": "DescriptionStyleModel",
      "state": {
       "_model_module_version": "1.3.0",
       "_view_module_version": "1.1.0",
       "description_width": ""
      }
     },
     "b8060666085545ec8779662300d36217": {
      "model_module": "@jupyter-widgets/base",
      "model_module_version": "1.1.0",
      "model_name": "LayoutModel",
      "state": {
       "_model_module_version": "1.1.0",
       "_view_module_version": "1.1.0",
       "grid_area": null,
       "grid_auto_columns": null,
       "grid_auto_flow": null,
       "grid_auto_rows": null,
       "grid_column": null,
       "grid_gap": null,
       "grid_row": null,
       "grid_template_areas": null,
       "grid_template_columns": null,
       "grid_template_rows": null
      }
     },
     "b847cd07a4e5424ab8af3838b6d71a73": {
      "model_module": "@jupyter-widgets/controls",
      "model_module_version": "1.3.0",
      "model_name": "SliderStyleModel",
      "state": {
       "_model_module_version": "1.3.0",
       "_view_module_version": "1.1.0",
       "description_width": ""
      }
     },
     "b96ef2194c144ff68ad7118deede4607": {
      "model_module": "@jupyter-widgets/base",
      "model_module_version": "1.1.0",
      "model_name": "LayoutModel",
      "state": {
       "_model_module_version": "1.1.0",
       "_view_module_version": "1.1.0",
       "grid_area": null,
       "grid_auto_columns": null,
       "grid_auto_flow": null,
       "grid_auto_rows": null,
       "grid_column": null,
       "grid_gap": null,
       "grid_row": null,
       "grid_template_areas": null,
       "grid_template_columns": null,
       "grid_template_rows": null
      }
     },
     "bbd876a8d84144d78369c2968d076e4d": {
      "model_module": "@jupyter-widgets/controls",
      "model_module_version": "1.3.0",
      "model_name": "LabelModel",
      "state": {
       "_model_module_version": "1.3.0",
       "_view_module_version": "1.3.0",
       "description_tooltip": null,
       "layout": "IPY_MODEL_0b31c6f8d8d84663877a7955caf9836c",
       "style": "IPY_MODEL_4775a8fad6924ecda8528a2049ed85d8",
       "value": "Model parameters"
      }
     },
     "c009a4ebf5a84c9c8c443cdcfb88689b": {
      "model_module": "@jupyter-widgets/base",
      "model_module_version": "1.1.0",
      "model_name": "LayoutModel",
      "state": {
       "_model_module_version": "1.1.0",
       "_view_module_version": "1.1.0",
       "grid_area": null,
       "grid_auto_columns": null,
       "grid_auto_flow": null,
       "grid_auto_rows": null,
       "grid_column": null,
       "grid_gap": null,
       "grid_row": null,
       "grid_template_areas": null,
       "grid_template_columns": null,
       "grid_template_rows": null
      }
     },
     "c0211aee7be24002890a8b4e510302c7": {
      "model_module": "@jupyter-widgets/controls",
      "model_module_version": "1.3.0",
      "model_name": "DescriptionStyleModel",
      "state": {
       "_model_module_version": "1.3.0",
       "_view_module_version": "1.1.0",
       "description_width": ""
      }
     },
     "c12f84647ef74dffa8ea33dfa9ac0e93": {
      "model_module": "@jupyter-widgets/controls",
      "model_module_version": "1.3.0",
      "model_name": "DescriptionStyleModel",
      "state": {
       "_model_module_version": "1.3.0",
       "_view_module_version": "1.1.0",
       "description_width": ""
      }
     },
     "c3107231cad845c8ac9e7c1c18fe227b": {
      "model_module": "@jupyter-widgets/controls",
      "model_module_version": "1.3.0",
      "model_name": "IntSliderModel",
      "state": {
       "_model_module_version": "1.3.0",
       "_view_module_version": "1.3.0",
       "description": "Number of trees",
       "description_tooltip": null,
       "layout": "IPY_MODEL_71641c87a9444d879ad7c8cca9d18764",
       "max": 1000,
       "min": 50,
       "step": 10,
       "style": "IPY_MODEL_b847cd07a4e5424ab8af3838b6d71a73",
       "value": 200
      }
     },
     "c441ffa3bae642178374410464f24792": {
      "model_module": "@jupyter-widgets/base",
      "model_module_version": "1.1.0",
      "model_name": "LayoutModel",
      "state": {
       "_model_module_version": "1.1.0",
       "_view_module_version": "1.1.0",
       "grid_area": null,
       "grid_auto_columns": null,
       "grid_auto_flow": null,
       "grid_auto_rows": null,
       "grid_column": null,
       "grid_gap": null,
       "grid_row": null,
       "grid_template_areas": null,
       "grid_template_columns": null,
       "grid_template_rows": null
      }
     },
     "c4ea7c0b01fb4d3b9bd1984ea4242a2d": {
      "model_module": "@jupyter-widgets/controls",
      "model_module_version": "1.3.0",
      "model_name": "TextModel",
      "state": {
       "_model_module_version": "1.3.0",
       "_view_module_version": "1.3.0",
       "description": "Parameters",
       "description_tooltip": null,
       "layout": "IPY_MODEL_4be7180c6f984020a0f5ffdd27129016",
       "style": "IPY_MODEL_7ff5a2ca11fc4e62a89fb369c97a2e71"
      }
     },
     "c6f14c762c054e459eebf8a7cd30db16": {
      "model_module": "@jupyter-widgets/controls",
      "model_module_version": "1.3.0",
      "model_name": "ButtonStyleModel",
      "state": {
       "_model_module_version": "1.3.0",
       "_view_module_version": "1.1.0"
      }
     },
     "cad824a5464647f09cb5fcdf84237b1e": {
      "model_module": "@jupyter-widgets/controls",
      "model_module_version": "1.3.0",
      "model_name": "LabelModel",
      "state": {
       "_model_module_version": "1.3.0",
       "_view_module_version": "1.3.0",
       "description_tooltip": null,
       "layout": "IPY_MODEL_705146e149d64efbbdcac8c9a8a8a520",
       "style": "IPY_MODEL_c12f84647ef74dffa8ea33dfa9ac0e93",
       "value": "Retrain PCT model"
      }
     },
     "cb34746ee318437a8301992f4e439328": {
      "model_module": "@jupyter-widgets/controls",
      "model_module_version": "1.3.0",
      "model_name": "ButtonModel",
      "state": {
       "_model_module_version": "1.3.0",
       "_view_module_version": "1.3.0",
       "description": "Run",
       "icon": "check",
       "layout": "IPY_MODEL_d7eeca81924b49d596e7047de91b262a",
       "style": "IPY_MODEL_a41e7d3f7d6b4ac08b8311a89141e67f"
      }
     },
     "cd4b2b837e2e4f839bf559f1b032b6c5": {
      "model_module": "@jupyter-widgets/base",
      "model_module_version": "1.1.0",
      "model_name": "LayoutModel",
      "state": {
       "_model_module_version": "1.1.0",
       "_view_module_version": "1.1.0",
       "grid_area": null,
       "grid_auto_columns": null,
       "grid_auto_flow": null,
       "grid_auto_rows": null,
       "grid_column": null,
       "grid_gap": null,
       "grid_row": null,
       "grid_template_areas": null,
       "grid_template_columns": null,
       "grid_template_rows": null
      }
     },
     "ce3a282d01c046979ecb6df34e13da74": {
      "model_module": "@jupyter-widgets/controls",
      "model_module_version": "1.3.0",
      "model_name": "DescriptionStyleModel",
      "state": {
       "_model_module_version": "1.3.0",
       "_view_module_version": "1.1.0",
       "description_width": ""
      }
     },
     "ce53e4e08134487a904a69986b95b066": {
      "model_module": "@jupyter-widgets/controls",
      "model_module_version": "1.3.0",
      "model_name": "SliderStyleModel",
      "state": {
       "_model_module_version": "1.3.0",
       "_view_module_version": "1.1.0",
       "description_width": ""
      }
     },
     "d07f1df3da1f4c31990181ac1c4707ec": {
      "model_module": "@jupyter-widgets/controls",
      "model_module_version": "1.3.0",
      "model_name": "TabModel",
      "state": {
       "_model_module_version": "1.3.0",
       "_titles": {
        "0": "Parameters",
        "1": "Training"
       },
       "_view_module_version": "1.3.0",
       "children": [
        "IPY_MODEL_965bd52404c5421189a5da88d1f4d058",
        "IPY_MODEL_1bd0202f7a984d599e1e919734dd6fee"
       ],
       "layout": "IPY_MODEL_4ec927f4d040472a868b01c9fe91a1ce"
      }
     },
     "d3b5319139dd44ab958052952e1d79c9": {
      "model_module": "@jupyter-widgets/base",
      "model_module_version": "1.1.0",
      "model_name": "LayoutModel",
      "state": {
       "_model_module_version": "1.1.0",
       "_view_module_version": "1.1.0",
       "grid_area": null,
       "grid_auto_columns": null,
       "grid_auto_flow": null,
       "grid_auto_rows": null,
       "grid_column": null,
       "grid_gap": null,
       "grid_row": null,
       "grid_template_areas": null,
       "grid_template_columns": null,
       "grid_template_rows": null
      }
     },
     "d6cc61f5130a483a99f8cce4961c1b3d": {
      "model_module": "@jupyter-widgets/controls",
      "model_module_version": "1.3.0",
      "model_name": "TextModel",
      "state": {
       "_model_module_version": "1.3.0",
       "_view_module_version": "1.3.0",
       "description": "Training",
       "description_tooltip": null,
       "layout": "IPY_MODEL_7c83014e93754001a3455d6fef833388",
       "style": "IPY_MODEL_10bf6d73ac424cfa86723faeb0c7b0f4"
      }
     },
     "d7160046240c4d039c7d822e7848cf3e": {
      "model_module": "@jupyter-widgets/base",
      "model_module_version": "1.1.0",
      "model_name": "LayoutModel",
      "state": {
       "_model_module_version": "1.1.0",
       "_view_module_version": "1.1.0",
       "grid_area": null,
       "grid_auto_columns": null,
       "grid_auto_flow": null,
       "grid_auto_rows": null,
       "grid_column": null,
       "grid_gap": null,
       "grid_row": null,
       "grid_template_areas": null,
       "grid_template_columns": null,
       "grid_template_rows": null
      }
     },
     "d74f79b3a19246a1900ae58669c641f8": {
      "model_module": "@jupyter-widgets/controls",
      "model_module_version": "1.3.0",
      "model_name": "TabModel",
      "state": {
       "_model_module_version": "1.3.0",
       "_view_module_version": "1.3.0",
       "layout": "IPY_MODEL_ef3e4e3eb60b444fb84c5c77f38286e1"
      }
     },
     "d7eeca81924b49d596e7047de91b262a": {
      "model_module": "@jupyter-widgets/base",
      "model_module_version": "1.1.0",
      "model_name": "LayoutModel",
      "state": {
       "_model_module_version": "1.1.0",
       "_view_module_version": "1.1.0",
       "grid_area": null,
       "grid_auto_columns": null,
       "grid_auto_flow": null,
       "grid_auto_rows": null,
       "grid_column": null,
       "grid_gap": null,
       "grid_row": null,
       "grid_template_areas": null,
       "grid_template_columns": null,
       "grid_template_rows": null
      }
     },
     "d8c5072c9c6a4d67b3a12a4a3e9841a3": {
      "model_module": "@jupyter-widgets/controls",
      "model_module_version": "1.3.0",
      "model_name": "DescriptionStyleModel",
      "state": {
       "_model_module_version": "1.3.0",
       "_view_module_version": "1.1.0",
       "description_width": ""
      }
     },
     "d9a48f2dc29b4484ba564c73f311b79e": {
      "model_module": "@jupyter-widgets/controls",
      "model_module_version": "1.3.0",
      "model_name": "SliderStyleModel",
      "state": {
       "_model_module_version": "1.3.0",
       "_view_module_version": "1.1.0",
       "description_width": ""
      }
     },
     "da28b588b36f4f56a6210e42d3bfb191": {
      "model_module": "@jupyter-widgets/base",
      "model_module_version": "1.1.0",
      "model_name": "LayoutModel",
      "state": {
       "_model_module_version": "1.1.0",
       "_view_module_version": "1.1.0",
       "grid_area": null,
       "grid_auto_columns": null,
       "grid_auto_flow": null,
       "grid_auto_rows": null,
       "grid_column": null,
       "grid_gap": null,
       "grid_row": null,
       "grid_template_areas": null,
       "grid_template_columns": null,
       "grid_template_rows": null
      }
     },
     "db0ad55a3c364e9d9c07b15bf0228977": {
      "model_module": "@jupyter-widgets/controls",
      "model_module_version": "1.3.0",
      "model_name": "DescriptionStyleModel",
      "state": {
       "_model_module_version": "1.3.0",
       "_view_module_version": "1.1.0",
       "description_width": ""
      }
     },
     "ddb49c20af614e1c8c20da6a187fec8e": {
      "model_module": "@jupyter-widgets/controls",
      "model_module_version": "1.3.0",
      "model_name": "VBoxModel",
      "state": {
       "_model_module_version": "1.3.0",
       "_view_module_version": "1.3.0",
       "children": [
        "IPY_MODEL_cb34746ee318437a8301992f4e439328"
       ],
       "layout": "IPY_MODEL_7bc5e5bd56ca4a25905b542cc303e7cf"
      }
     },
     "de9777bd8b7d4918a48e8c95bef285c1": {
      "model_module": "@jupyter-widgets/controls",
      "model_module_version": "1.3.0",
      "model_name": "LabelModel",
      "state": {
       "_model_module_version": "1.3.0",
       "_view_module_version": "1.3.0",
       "description_tooltip": null,
       "layout": "IPY_MODEL_c441ffa3bae642178374410464f24792",
       "style": "IPY_MODEL_af55c173441a49e5ad8b5369de1b269c",
       "value": "Retrain PCT model"
      }
     },
     "df6d7a10b5f94426a55054b096fb5b48": {
      "model_module": "@jupyter-widgets/controls",
      "model_module_version": "1.3.0",
      "model_name": "IntSliderModel",
      "state": {
       "_model_module_version": "1.3.0",
       "_view_module_version": "1.3.0",
       "description_tooltip": null,
       "layout": "IPY_MODEL_2e9262b7810c422fa4899616fc421585",
       "style": "IPY_MODEL_d9a48f2dc29b4484ba564c73f311b79e",
       "value": 40
      }
     },
     "e30cb880a7a445b8b1b267d876455f81": {
      "model_module": "@jupyter-widgets/controls",
      "model_module_version": "1.3.0",
      "model_name": "TabModel",
      "state": {
       "_model_module_version": "1.3.0",
       "_view_module_version": "1.3.0",
       "layout": "IPY_MODEL_c009a4ebf5a84c9c8c443cdcfb88689b"
      }
     },
     "e7122fddb44149629ef256f99d0e78b3": {
      "model_module": "@jupyter-widgets/base",
      "model_module_version": "1.1.0",
      "model_name": "LayoutModel",
      "state": {
       "_model_module_version": "1.1.0",
       "_view_module_version": "1.1.0",
       "grid_area": null,
       "grid_auto_columns": null,
       "grid_auto_flow": null,
       "grid_auto_rows": null,
       "grid_column": null,
       "grid_gap": null,
       "grid_row": null,
       "grid_template_areas": null,
       "grid_template_columns": null,
       "grid_template_rows": null
      }
     },
     "e8e54c494bb944769378ea97a45074a1": {
      "model_module": "@jupyter-widgets/controls",
      "model_module_version": "1.3.0",
      "model_name": "SliderStyleModel",
      "state": {
       "_model_module_version": "1.3.0",
       "_view_module_version": "1.1.0",
       "description_width": ""
      }
     },
     "e9955d9b683646b7990a97161fed947c": {
      "model_module": "@jupyter-widgets/base",
      "model_module_version": "1.1.0",
      "model_name": "LayoutModel",
      "state": {
       "_model_module_version": "1.1.0",
       "_view_module_version": "1.1.0",
       "grid_area": null,
       "grid_auto_columns": null,
       "grid_auto_flow": null,
       "grid_auto_rows": null,
       "grid_column": null,
       "grid_gap": null,
       "grid_row": null,
       "grid_template_areas": null,
       "grid_template_columns": null,
       "grid_template_rows": null
      }
     },
     "ea061a55b1ed49dabd597067d50a1604": {
      "model_module": "@jupyter-widgets/base",
      "model_module_version": "1.1.0",
      "model_name": "LayoutModel",
      "state": {
       "_model_module_version": "1.1.0",
       "_view_module_version": "1.1.0",
       "grid_area": null,
       "grid_auto_columns": null,
       "grid_auto_flow": null,
       "grid_auto_rows": null,
       "grid_column": null,
       "grid_gap": null,
       "grid_row": null,
       "grid_template_areas": null,
       "grid_template_columns": null,
       "grid_template_rows": null
      }
     },
     "ea695410429e4424b9f8e70445a4244c": {
      "model_module": "@jupyter-widgets/controls",
      "model_module_version": "1.3.0",
      "model_name": "TabModel",
      "state": {
       "_model_module_version": "1.3.0",
       "_titles": {
        "0": "Parameters",
        "1": "Training"
       },
       "_view_module_version": "1.3.0",
       "children": [
        "IPY_MODEL_1ecac622c332418588fe6d31b9cf45b7",
        "IPY_MODEL_f3b15fe7f95e4c62b34baa0411273221"
       ],
       "layout": "IPY_MODEL_21ed70d523284ffdaf616ba6bc1e80b5"
      }
     },
     "ea83492f079441fdacded5805b2c394b": {
      "model_module": "@jupyter-widgets/base",
      "model_module_version": "1.1.0",
      "model_name": "LayoutModel",
      "state": {
       "_model_module_version": "1.1.0",
       "_view_module_version": "1.1.0",
       "grid_area": null,
       "grid_auto_columns": null,
       "grid_auto_flow": null,
       "grid_auto_rows": null,
       "grid_column": null,
       "grid_gap": null,
       "grid_row": null,
       "grid_template_areas": null,
       "grid_template_columns": null,
       "grid_template_rows": null
      }
     },
     "eab45f244a25416698703422cb7c329a": {
      "model_module": "@jupyter-widgets/controls",
      "model_module_version": "1.3.0",
      "model_name": "TextModel",
      "state": {
       "_model_module_version": "1.3.0",
       "_view_module_version": "1.3.0",
       "description": "Training",
       "description_tooltip": null,
       "layout": "IPY_MODEL_348ce5604e644b859a0d17b7e6a6b785",
       "style": "IPY_MODEL_27da89c380e54e67897d800e7c8f66ee"
      }
     },
     "eaf9048943f64279a542496abe70e7cb": {
      "model_module": "@jupyter-widgets/controls",
      "model_module_version": "1.3.0",
      "model_name": "IntSliderModel",
      "state": {
       "_model_module_version": "1.3.0",
       "_view_module_version": "1.3.0",
       "description": "Trees",
       "description_tooltip": null,
       "layout": "IPY_MODEL_ef17071e78684617bedaa0d2aa19dfc4",
       "max": 1000,
       "min": 50,
       "step": 10,
       "style": "IPY_MODEL_94b926fb71a24ed1967cd4adc29891b9",
       "value": 200
      }
     },
     "ec6d1d7469f24c7ab0e6087a6165e5c7": {
      "model_module": "@jupyter-widgets/base",
      "model_module_version": "1.1.0",
      "model_name": "LayoutModel",
      "state": {
       "_model_module_version": "1.1.0",
       "_view_module_version": "1.1.0",
       "grid_area": null,
       "grid_auto_columns": null,
       "grid_auto_flow": null,
       "grid_auto_rows": null,
       "grid_column": null,
       "grid_gap": null,
       "grid_row": null,
       "grid_template_areas": null,
       "grid_template_columns": null,
       "grid_template_rows": null
      }
     },
     "eeb90a66d3214eadbbf0809914f7e814": {
      "model_module": "@jupyter-widgets/controls",
      "model_module_version": "1.3.0",
      "model_name": "TabModel",
      "state": {
       "_model_module_version": "1.3.0",
       "_view_module_version": "1.3.0",
       "layout": "IPY_MODEL_4ec9016e516d453ba4a2319fd0ead18d"
      }
     },
     "ef17071e78684617bedaa0d2aa19dfc4": {
      "model_module": "@jupyter-widgets/base",
      "model_module_version": "1.1.0",
      "model_name": "LayoutModel",
      "state": {
       "_model_module_version": "1.1.0",
       "_view_module_version": "1.1.0",
       "grid_area": null,
       "grid_auto_columns": null,
       "grid_auto_flow": null,
       "grid_auto_rows": null,
       "grid_column": null,
       "grid_gap": null,
       "grid_row": null,
       "grid_template_areas": null,
       "grid_template_columns": null,
       "grid_template_rows": null
      }
     },
     "ef3e4e3eb60b444fb84c5c77f38286e1": {
      "model_module": "@jupyter-widgets/base",
      "model_module_version": "1.1.0",
      "model_name": "LayoutModel",
      "state": {
       "_model_module_version": "1.1.0",
       "_view_module_version": "1.1.0",
       "grid_area": null,
       "grid_auto_columns": null,
       "grid_auto_flow": null,
       "grid_auto_rows": null,
       "grid_column": null,
       "grid_gap": null,
       "grid_row": null,
       "grid_template_areas": null,
       "grid_template_columns": null,
       "grid_template_rows": null
      }
     },
     "f06ef07cea81434c824f31abdd1aec9d": {
      "model_module": "@jupyter-widgets/controls",
      "model_module_version": "1.3.0",
      "model_name": "SliderStyleModel",
      "state": {
       "_model_module_version": "1.3.0",
       "_view_module_version": "1.1.0",
       "description_width": ""
      }
     },
     "f3b15fe7f95e4c62b34baa0411273221": {
      "model_module": "@jupyter-widgets/controls",
      "model_module_version": "1.3.0",
      "model_name": "VBoxModel",
      "state": {
       "_model_module_version": "1.3.0",
       "_view_module_version": "1.3.0",
       "children": [
        "IPY_MODEL_f41f583a90df4d979b0b5025ee70c523"
       ],
       "layout": "IPY_MODEL_3e3db72e7cd64cff9a3f821b4c353621"
      }
     },
     "f3c00049cc9b45c58f2835b19bc92165": {
      "model_module": "@jupyter-widgets/base",
      "model_module_version": "1.1.0",
      "model_name": "LayoutModel",
      "state": {
       "_model_module_version": "1.1.0",
       "_view_module_version": "1.1.0",
       "grid_area": null,
       "grid_auto_columns": null,
       "grid_auto_flow": null,
       "grid_auto_rows": null,
       "grid_column": null,
       "grid_gap": null,
       "grid_row": null,
       "grid_template_areas": null,
       "grid_template_columns": null,
       "grid_template_rows": null
      }
     },
     "f404ddf9926041669714e4592563a3d2": {
      "model_module": "@jupyter-widgets/controls",
      "model_module_version": "1.3.0",
      "model_name": "VBoxModel",
      "state": {
       "_model_module_version": "1.3.0",
       "_view_module_version": "1.3.0",
       "children": [
        "IPY_MODEL_103d7aac99544a2b929e86339404cf5f",
        "IPY_MODEL_85582e5007574cb1a783609c7a392c6c"
       ],
       "layout": "IPY_MODEL_333bee28fe5b47369d1c5f217ea7a22d"
      }
     },
     "f41f583a90df4d979b0b5025ee70c523": {
      "model_module": "@jupyter-widgets/controls",
      "model_module_version": "1.3.0",
      "model_name": "ButtonModel",
      "state": {
       "_model_module_version": "1.3.0",
       "_view_module_version": "1.3.0",
       "description": "Run",
       "icon": "check",
       "layout": "IPY_MODEL_ff05214de0364cd0a7dc4c3080b31e9d",
       "style": "IPY_MODEL_c6f14c762c054e459eebf8a7cd30db16"
      }
     },
     "f56b9b3320d746f8b4d51bd845397faa": {
      "model_module": "@jupyter-widgets/controls",
      "model_module_version": "1.3.0",
      "model_name": "ButtonStyleModel",
      "state": {
       "_model_module_version": "1.3.0",
       "_view_module_version": "1.1.0"
      }
     },
     "f790722e2a844601996027e49d132c8b": {
      "model_module": "@jupyter-widgets/controls",
      "model_module_version": "1.3.0",
      "model_name": "DescriptionStyleModel",
      "state": {
       "_model_module_version": "1.3.0",
       "_view_module_version": "1.1.0",
       "description_width": ""
      }
     },
     "f8737e48be534a2f9ebbcd497850e2bd": {
      "model_module": "@jupyter-widgets/base",
      "model_module_version": "1.1.0",
      "model_name": "LayoutModel",
      "state": {
       "_model_module_version": "1.1.0",
       "_view_module_version": "1.1.0",
       "grid_area": null,
       "grid_auto_columns": null,
       "grid_auto_flow": null,
       "grid_auto_rows": null,
       "grid_column": null,
       "grid_gap": null,
       "grid_row": null,
       "grid_template_areas": null,
       "grid_template_columns": null,
       "grid_template_rows": null
      }
     },
     "f89442e43cbc4797955f66e8d1b5a815": {
      "model_module": "@jupyter-widgets/base",
      "model_module_version": "1.1.0",
      "model_name": "LayoutModel",
      "state": {
       "_model_module_version": "1.1.0",
       "_view_module_version": "1.1.0",
       "grid_area": null,
       "grid_auto_columns": null,
       "grid_auto_flow": null,
       "grid_auto_rows": null,
       "grid_column": null,
       "grid_gap": null,
       "grid_row": null,
       "grid_template_areas": null,
       "grid_template_columns": null,
       "grid_template_rows": null
      }
     },
     "fe638d6691374efb8ef06794d5dcb02d": {
      "model_module": "@jupyter-widgets/controls",
      "model_module_version": "1.3.0",
      "model_name": "DescriptionStyleModel",
      "state": {
       "_model_module_version": "1.3.0",
       "_view_module_version": "1.1.0",
       "description_width": ""
      }
     },
     "fee2253586a844db95cbc9ea56b8da17": {
      "model_module": "@jupyter-widgets/base",
      "model_module_version": "1.1.0",
      "model_name": "LayoutModel",
      "state": {
       "_model_module_version": "1.1.0",
       "_view_module_version": "1.1.0",
       "grid_area": null,
       "grid_auto_columns": null,
       "grid_auto_flow": null,
       "grid_auto_rows": null,
       "grid_column": null,
       "grid_gap": null,
       "grid_row": null,
       "grid_template_areas": null,
       "grid_template_columns": null,
       "grid_template_rows": null
      }
     },
     "ff05214de0364cd0a7dc4c3080b31e9d": {
      "model_module": "@jupyter-widgets/base",
      "model_module_version": "1.1.0",
      "model_name": "LayoutModel",
      "state": {
       "_model_module_version": "1.1.0",
       "_view_module_version": "1.1.0",
       "grid_area": null,
       "grid_auto_columns": null,
       "grid_auto_flow": null,
       "grid_auto_rows": null,
       "grid_column": null,
       "grid_gap": null,
       "grid_row": null,
       "grid_template_areas": null,
       "grid_template_columns": null,
       "grid_template_rows": null
      }
     },
     "ffb53301fa754293b9102d65db94c66b": {
      "model_module": "@jupyter-widgets/base",
      "model_module_version": "1.1.0",
      "model_name": "LayoutModel",
      "state": {
       "_model_module_version": "1.1.0",
       "_view_module_version": "1.1.0",
       "grid_area": null,
       "grid_auto_columns": null,
       "grid_auto_flow": null,
       "grid_auto_rows": null,
       "grid_column": null,
       "grid_gap": null,
       "grid_row": null,
       "grid_template_areas": null,
       "grid_template_columns": null,
       "grid_template_rows": null
      }
     }
    },
    "version_major": 2,
    "version_minor": 0
   }
  }
 },
 "nbformat": 4,
 "nbformat_minor": 2
}
