{
 "cells": [
  {
   "cell_type": "code",
   "execution_count": 4,
   "metadata": {
    "collapsed": true
   },
   "outputs": [],
   "source": [
    "import boto3\n",
    "import matplotlib.pyplot as plt\n",
    "import re\n",
    "import os\n",
    "import glob\n",
    "import scipy.io\n",
    "import numpy as np\n",
    "import io\n",
    "import tqdm\n",
    "import numpy as np\n",
    "import pandas as pd\n",
    "from PIL import Image\n",
    "from multiprocessing import Pool"
   ]
  },
  {
   "cell_type": "markdown",
   "metadata": {},
   "source": [
    "# Utils"
   ]
  },
  {
   "cell_type": "code",
   "execution_count": 5,
   "metadata": {
    "collapsed": true
   },
   "outputs": [],
   "source": [
    "def image_name_formating(aws_key_object):\n",
    "    \"\"\"\n",
    "    format the name of the object in aws in proper date\n",
    "    \"\"\"\n",
    "    items = aws_key_object.split('/')\n",
    "    return '-'.join(items[-4:-1]) +' '+items[-1][:2] +':'+ items[-1][2:4]+':00.jpg'\n",
    "\n",
    "def day_of_the_year_computation(universal_time):\n",
    "    \"\"\"\n",
    "    Computes the floating value for the day of the year\n",
    "    :param numpy.datetime64 universal_time:\n",
    "    :return: float day of year:\n",
    "    \"\"\"\n",
    "    time_object = pd.to_datetime(universal_time)\n",
    "    return time_object.dayofyear + time_object.hour/24.0 + time_object.minute/(24.0*60)\n",
    "\n",
    "\n",
    "def zenith_computation(universal_time, longitude, latitude):\n",
    "    \"\"\"\n",
    "    Computes the zenith matrix associated with longitude, latitude at a given universal time,\n",
    "    reference NOAA Global Monitoring Division\n",
    "    :param numpy.datetime64 universal_time: universal time\n",
    "    :param numpy.ndarray longitude: array of the considered longitude\n",
    "    :param numpy.ndarray latitude: array of the considered latitude\n",
    "    :return:numpy.ndarray zenith: matrix of the zenith in degrees\n",
    "    \"\"\"\n",
    "    if longitude.shape == latitude.shape:\n",
    "        day_of_year = day_of_the_year_computation(universal_time)\n",
    "        x = 2 * np.pi / 365 * (day_of_year - 1)  # day of year un radian, named x because heavily referenced\n",
    "\n",
    "        eqtime = (0.000075 + 0.001868 * np.cos(x) - 0.032077 * np.sin(x) - 0.014615 * np.cos(2 * x)\n",
    "                  - 0.040849 * np.sin(2 * x)) * ((24 * 60) / (2 * np.pi))\n",
    "\n",
    "        solar_declination = 0.006918 - 0.399912 * np.cos(x) + 0.070257 * np.sin(x) \\\n",
    "                            - 0.006758 * np.cos(2 * x) + 0.000907 * np.sin(2 * x) \\\n",
    "                            - 0.002697 * np.cos(3 * x) + 0.001480 * np.sin(3 * x)\n",
    "\n",
    "        longitude_corrected = 4*longitude\n",
    "        offset = (longitude_corrected + eqtime).astype('timedelta64[m]')\n",
    "        true_solar_time = offset + universal_time\n",
    "        true_solar_time = [x.astype(object) for x in true_solar_time.flatten()]\n",
    "        true_solar_time_minutes = [(lambda time: (time.hour*60 + time.minute + time.second/60))(time)\n",
    "                                   for time in true_solar_time]\n",
    "\n",
    "        hour_angle = np.array([(x/4 - 180)*np.pi/180 for x in true_solar_time_minutes]).reshape(latitude.shape)\n",
    "        zenith = np.arccos(np.cos(solar_declination)*np.cos(latitude*np.pi/180)*np.cos(hour_angle)\n",
    "                           + np.sin(solar_declination)*np.sin(latitude*np.pi/180))\n",
    "\n",
    "        return zenith * 180 / np.pi\n",
    "    else:\n",
    "        return ValueError"
   ]
  },
  {
   "cell_type": "markdown",
   "metadata": {},
   "source": [
    "# Constants"
   ]
  },
  {
   "cell_type": "code",
   "execution_count": 6,
   "metadata": {
    "collapsed": true
   },
   "outputs": [],
   "source": [
    "TEMP_DIR = '/tmp/images/'\n",
    "os.makedirs(TEMP_DIR, exist_ok=True)\n",
    "bucket_name  = 'edp.engie-digital.prod.instance1.prod.data'\n",
    "\n",
    "coordinates = scipy.io.loadmat('geographicCoordinate.mat')\n",
    "latitude = coordinates['geographicCoordinate']['latitude'][0][0]\n",
    "longitude = coordinates['geographicCoordinate']['longitude'][0][0]\n",
    "\n",
    "percentiles = (3,6)\n",
    "\n",
    "num_partitions = 53\n",
    "num_cores = 28 "
   ]
  },
  {
   "cell_type": "markdown",
   "metadata": {},
   "source": [
    "# Connexion"
   ]
  },
  {
   "cell_type": "code",
   "execution_count": 7,
   "metadata": {
    "collapsed": true
   },
   "outputs": [],
   "source": [
    "s3 = boto3.resource('s3')\n",
    "\n",
    "bucket = s3.Bucket(bucket_name)\n",
    "\n",
    "s3_client = boto3.client('s3')"
   ]
  },
  {
   "cell_type": "code",
   "execution_count": 8,
   "metadata": {
    "scrolled": false
   },
   "outputs": [
    {
     "name": "stdout",
     "output_type": "stream",
     "text": [
      "CPU times: user 10.4 s, sys: 64.2 ms, total: 10.5 s\n",
      "Wall time: 18.6 s\n"
     ]
    }
   ],
   "source": [
    "%%time\n",
    "processed_images = [x.key for x  in bucket.objects.filter(Prefix='LCV_SATELLITE_IMAGE_24/lcv_visual_images/processed/')]"
   ]
  },
  {
   "cell_type": "code",
   "execution_count": 9,
   "metadata": {
    "collapsed": true
   },
   "outputs": [],
   "source": [
    "archives = list(set([(x.split('/')[4],x.split('/')[6]) for x in processed_images]))\n",
    "archives = [elt for elt in archives if (int(elt[1].split('.')[0][-2:])%15 == 0)]"
   ]
  },
  {
   "cell_type": "code",
   "execution_count": 11,
   "metadata": {},
   "outputs": [
    {
     "data": {
      "text/plain": [
       "848"
      ]
     },
     "execution_count": 11,
     "metadata": {},
     "output_type": "execute_result"
    }
   ],
   "source": [
    "len(archives)"
   ]
  },
  {
   "cell_type": "code",
   "execution_count": 13,
   "metadata": {
    "collapsed": true
   },
   "outputs": [],
   "source": [
    "def parallelize_dataframe(list_archives, func):\n",
    "    df_split = np.array_split(list_archives, num_partitions)\n",
    "    pool = Pool(num_cores)\n",
    "    df = pd.concat(pool.map(func, df_split))\n",
    "    pool.close()\n",
    "    pool.join()\n",
    "    return df"
   ]
  },
  {
   "cell_type": "code",
   "execution_count": 50,
   "metadata": {
    "collapsed": true
   },
   "outputs": [],
   "source": [
    "def compute_image_ref(arch):\n",
    "    done = []\n",
    "    for month, hour in arch:\n",
    "        TEMP_DIR_LOOP = TEMP_DIR+month+hour[:-4]+'/'\n",
    "        os.makedirs(TEMP_DIR_LOOP, exist_ok=True)\n",
    "        pattern = re.compile('LCV_SATELLITE_IMAGE_24\\/lcv_visual_images\\/processed\\/\\d{4}\\/'+month+'\\/\\d{2}\\/'+hour)\n",
    "        images_to_concatenate = [x for x in processed_images if re.match(pattern, x)]\n",
    "        image_names = [image_name_formating(name) for name in images_to_concatenate]\n",
    "\n",
    "        #Stop criterion, to get enough image\n",
    "\n",
    "        if len(image_names)<15:\n",
    "            continue\n",
    "\n",
    "        #Downloading of the image\n",
    "        [bucket.download_file(image, TEMP_DIR_LOOP+image_name) for image, image_name in zip(images_to_concatenate, image_names)];\n",
    "        concatenated_images = [plt.imread(TEMP_DIR_LOOP+x) for x in os.listdir(TEMP_DIR_LOOP)]\n",
    "\n",
    "        #Computation of zenith & sorting\n",
    "        zenith_images = [zenith_computation(np.datetime64(image_name[:-4]), longitude, latitude)>85 \n",
    "                         for image_name in image_names]\n",
    "        array_images = np.array(concatenated_images, dtype=float)\n",
    "\n",
    "        #Overcast image\n",
    "        overcast = array_images.max(axis=0)\n",
    "        minimum_clearsky = array_images.min(axis=0)\n",
    "\n",
    "        #Sorting info\n",
    "        array_images[np.array(zenith_images)] = np.inf\n",
    "        array_images.sort(axis=0)\n",
    "\n",
    "\n",
    "        #Clearsky image for this reference\n",
    "        index_to_choose = np.percentile(range(len(image_names)), percentiles)\n",
    "        index_to_choose[0] = min(np.ceil(index_to_choose[0]), 2)\n",
    "        temporary_quantile = np.ceil(index_to_choose[1])\n",
    "        index_to_choose[1] = temporary_quantile if temporary_quantile < index_to_choose[0] else index_to_choose[0]+2\n",
    "        clearsky_image_ref = np.mean(array_images[int(index_to_choose[0]):int(index_to_choose[1])], axis=0)\n",
    "\n",
    "        clearsky_image_ref[clearsky_image_ref == np.inf] = minimum_clearsky[clearsky_image_ref == np.inf]\n",
    "        clearsky_image_ref[clearsky_image_ref == np.inf] = 0\n",
    "\n",
    "        clearsky_image_ref = Image.fromarray(clearsky_image_ref).convert('L')\n",
    "        overcast = Image.fromarray(overcast).convert('L')\n",
    "\n",
    "        #Save in AWS\n",
    "        with io.BytesIO() as file:\n",
    "            clearsky_image_ref.save(file, format='JPEG')\n",
    "            file.seek(0)\n",
    "            s3_client.put_object(Body=file, Bucket=bucket_name,\n",
    "                          Key='LCV_SATELLITE_IMAGE_24/clearsky_ref/month_' + month +'_hour_'+hour)\n",
    "\n",
    "        with io.BytesIO() as file:\n",
    "            overcast.save(file, format='JPEG')\n",
    "            file.seek(0)\n",
    "            s3_client.put_object(Body=file, Bucket=bucket_name,\n",
    "                          Key='LCV_SATELLITE_IMAGE_24/overcast_ref/month_' + month +'_hour_'+hour)\n",
    "        [os.remove(TEMP_DIR_LOOP+x) for x in os.listdir(TEMP_DIR_LOOP)];\n",
    "        done.append('month_'+month+'_hour_'+hour)\n",
    "    return pd.DataFrame({'image':done})"
   ]
  },
  {
   "cell_type": "code",
   "execution_count": null,
   "metadata": {
    "collapsed": true
   },
   "outputs": [],
   "source": [
    "%%time\n",
    "computed_image = parallelize_dataframe(archives, compute_image_ref)"
   ]
  }
 ],
 "metadata": {
  "kernelspec": {
   "display_name": "Python 3",
   "language": "python",
   "name": "python3"
  },
  "language_info": {
   "codemirror_mode": {
    "name": "ipython",
    "version": 3
   },
   "file_extension": ".py",
   "mimetype": "text/x-python",
   "name": "python",
   "nbconvert_exporter": "python",
   "pygments_lexer": "ipython3",
   "version": "3.6.3"
  }
 },
 "nbformat": 4,
 "nbformat_minor": 2
}
